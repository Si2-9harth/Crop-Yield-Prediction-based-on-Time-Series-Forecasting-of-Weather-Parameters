{
  "nbformat": 4,
  "nbformat_minor": 0,
  "metadata": {
    "colab": {
      "name": "Crop_Yield_Production_in_Chhattisgarh.ipynb",
      "provenance": []
    },
    "kernelspec": {
      "name": "python3",
      "display_name": "Python 3"
    },
    "language_info": {
      "name": "python"
    },
    "accelerator": "GPU"
  },
  "cells": [
    {
      "cell_type": "code",
      "metadata": {
        "id": "ov34hLnPZvjq"
      },
      "source": [
        "import pandas as pd\n",
        "import numpy as np\n",
        "import os\n",
        "import glob\n",
        "import matplotlib.pyplot as plt\n",
        "from sklearn.cluster import DBSCAN\n",
        "from sklearn.preprocessing import StandardScaler\n",
        "import tensorflow as tf\n",
        "from tensorflow import keras\n",
        "from tensorflow.keras.models import Sequential\n",
        "from tensorflow.keras.layers import Dense, Dropout\n",
        "from tensorflow.keras.wrappers.scikit_learn import KerasClassifier\n",
        "from keras.utils import np_utils\n",
        "from sklearn.model_selection import cross_val_score\n",
        "from sklearn.model_selection import KFold\n",
        "from sklearn.preprocessing import LabelEncoder\n",
        "from sklearn.pipeline import Pipeline\n",
        "from sklearn.ensemble import RandomForestClassifier\n",
        "from tensorflow.keras.optimizers import Optimizer\n",
        "from tensorflow.keras import optimizers"
      ],
      "execution_count": null,
      "outputs": []
    },
    {
      "cell_type": "code",
      "source": [
        "df = pd.read_csv(\"/content/crop_train.csv\")"
      ],
      "metadata": {
        "id": "8IefrJ3J_GXP"
      },
      "execution_count": null,
      "outputs": []
    },
    {
      "cell_type": "code",
      "source": [
        "df.head()"
      ],
      "metadata": {
        "id": "eMKXJzJ8EHce",
        "colab": {
          "base_uri": "https://localhost:8080/",
          "height": 206
        },
        "outputId": "b84699ab-1002-4320-9cf9-fd000ac2e502"
      },
      "execution_count": null,
      "outputs": [
        {
          "output_type": "execute_result",
          "data": {
            "text/html": [
              "<div>\n",
              "<style scoped>\n",
              "    .dataframe tbody tr th:only-of-type {\n",
              "        vertical-align: middle;\n",
              "    }\n",
              "\n",
              "    .dataframe tbody tr th {\n",
              "        vertical-align: top;\n",
              "    }\n",
              "\n",
              "    .dataframe thead th {\n",
              "        text-align: right;\n",
              "    }\n",
              "</style>\n",
              "<table border=\"1\" class=\"dataframe\">\n",
              "  <thead>\n",
              "    <tr style=\"text-align: right;\">\n",
              "      <th></th>\n",
              "      <th>State</th>\n",
              "      <th>District</th>\n",
              "      <th>Year</th>\n",
              "      <th>Season</th>\n",
              "      <th>Crop</th>\n",
              "      <th>Area</th>\n",
              "      <th>Production</th>\n",
              "      <th>Temperature</th>\n",
              "      <th>Rainfall</th>\n",
              "      <th>Humidity</th>\n",
              "      <th>Wind Speed</th>\n",
              "    </tr>\n",
              "  </thead>\n",
              "  <tbody>\n",
              "    <tr>\n",
              "      <th>0</th>\n",
              "      <td>Chhattisgarh</td>\n",
              "      <td>balod</td>\n",
              "      <td>2011</td>\n",
              "      <td>Kharif</td>\n",
              "      <td>Arhar/Tur</td>\n",
              "      <td>607</td>\n",
              "      <td>290.0</td>\n",
              "      <td>25.5025</td>\n",
              "      <td>9.856148</td>\n",
              "      <td>83.805</td>\n",
              "      <td>2.11</td>\n",
              "    </tr>\n",
              "    <tr>\n",
              "      <th>1</th>\n",
              "      <td>Chhattisgarh</td>\n",
              "      <td>balod</td>\n",
              "      <td>2011</td>\n",
              "      <td>Kharif</td>\n",
              "      <td>Horse-gram</td>\n",
              "      <td>288</td>\n",
              "      <td>102.0</td>\n",
              "      <td>25.5025</td>\n",
              "      <td>9.856148</td>\n",
              "      <td>83.805</td>\n",
              "      <td>2.11</td>\n",
              "    </tr>\n",
              "    <tr>\n",
              "      <th>2</th>\n",
              "      <td>Chhattisgarh</td>\n",
              "      <td>balod</td>\n",
              "      <td>2011</td>\n",
              "      <td>Kharif</td>\n",
              "      <td>Jowar</td>\n",
              "      <td>11</td>\n",
              "      <td>8.0</td>\n",
              "      <td>25.5025</td>\n",
              "      <td>9.856148</td>\n",
              "      <td>83.805</td>\n",
              "      <td>2.11</td>\n",
              "    </tr>\n",
              "    <tr>\n",
              "      <th>3</th>\n",
              "      <td>Chhattisgarh</td>\n",
              "      <td>balod</td>\n",
              "      <td>2011</td>\n",
              "      <td>Kharif</td>\n",
              "      <td>Maize</td>\n",
              "      <td>125</td>\n",
              "      <td>149.0</td>\n",
              "      <td>25.5025</td>\n",
              "      <td>9.856148</td>\n",
              "      <td>83.805</td>\n",
              "      <td>2.11</td>\n",
              "    </tr>\n",
              "    <tr>\n",
              "      <th>4</th>\n",
              "      <td>Chhattisgarh</td>\n",
              "      <td>balod</td>\n",
              "      <td>2011</td>\n",
              "      <td>Kharif</td>\n",
              "      <td>Mesta</td>\n",
              "      <td>8</td>\n",
              "      <td>15.0</td>\n",
              "      <td>25.5025</td>\n",
              "      <td>9.856148</td>\n",
              "      <td>83.805</td>\n",
              "      <td>2.11</td>\n",
              "    </tr>\n",
              "  </tbody>\n",
              "</table>\n",
              "</div>"
            ],
            "text/plain": [
              "          State District  Year  ...  Rainfall Humidity  Wind Speed\n",
              "0  Chhattisgarh    balod  2011  ...  9.856148   83.805        2.11\n",
              "1  Chhattisgarh    balod  2011  ...  9.856148   83.805        2.11\n",
              "2  Chhattisgarh    balod  2011  ...  9.856148   83.805        2.11\n",
              "3  Chhattisgarh    balod  2011  ...  9.856148   83.805        2.11\n",
              "4  Chhattisgarh    balod  2011  ...  9.856148   83.805        2.11\n",
              "\n",
              "[5 rows x 11 columns]"
            ]
          },
          "metadata": {},
          "execution_count": 6
        }
      ]
    },
    {
      "cell_type": "code",
      "source": [
        "df.info()"
      ],
      "metadata": {
        "id": "bKpzmKbLHIBN",
        "colab": {
          "base_uri": "https://localhost:8080/"
        },
        "outputId": "e067da1c-230a-4175-d289-407149f7e757"
      },
      "execution_count": null,
      "outputs": [
        {
          "output_type": "stream",
          "name": "stdout",
          "text": [
            "<class 'pandas.core.frame.DataFrame'>\n",
            "RangeIndex: 10709 entries, 0 to 10708\n",
            "Data columns (total 11 columns):\n",
            " #   Column       Non-Null Count  Dtype  \n",
            "---  ------       --------------  -----  \n",
            " 0   State        10709 non-null  object \n",
            " 1   District     10709 non-null  object \n",
            " 2   Year         10709 non-null  int64  \n",
            " 3   Season       10709 non-null  object \n",
            " 4   Crop         10709 non-null  object \n",
            " 5   Area         10709 non-null  int64  \n",
            " 6   Production   10368 non-null  float64\n",
            " 7   Temperature  10709 non-null  float64\n",
            " 8   Rainfall     10709 non-null  float64\n",
            " 9   Humidity     10709 non-null  float64\n",
            " 10  Wind Speed   10709 non-null  float64\n",
            "dtypes: float64(5), int64(2), object(4)\n",
            "memory usage: 920.4+ KB\n"
          ]
        }
      ]
    },
    {
      "cell_type": "code",
      "source": [
        "df.describe()"
      ],
      "metadata": {
        "id": "7tmbRK2PHBfs",
        "colab": {
          "base_uri": "https://localhost:8080/",
          "height": 300
        },
        "outputId": "62beb1a4-e0cc-4764-e71f-2c3d140de4dd"
      },
      "execution_count": null,
      "outputs": [
        {
          "output_type": "execute_result",
          "data": {
            "text/html": [
              "<div>\n",
              "<style scoped>\n",
              "    .dataframe tbody tr th:only-of-type {\n",
              "        vertical-align: middle;\n",
              "    }\n",
              "\n",
              "    .dataframe tbody tr th {\n",
              "        vertical-align: top;\n",
              "    }\n",
              "\n",
              "    .dataframe thead th {\n",
              "        text-align: right;\n",
              "    }\n",
              "</style>\n",
              "<table border=\"1\" class=\"dataframe\">\n",
              "  <thead>\n",
              "    <tr style=\"text-align: right;\">\n",
              "      <th></th>\n",
              "      <th>Year</th>\n",
              "      <th>Area</th>\n",
              "      <th>Production</th>\n",
              "      <th>Temperature</th>\n",
              "      <th>Rainfall</th>\n",
              "      <th>Humidity</th>\n",
              "      <th>Wind Speed</th>\n",
              "    </tr>\n",
              "  </thead>\n",
              "  <tbody>\n",
              "    <tr>\n",
              "      <th>count</th>\n",
              "      <td>10709.000000</td>\n",
              "      <td>10709.000000</td>\n",
              "      <td>1.036800e+04</td>\n",
              "      <td>10709.000000</td>\n",
              "      <td>10709.000000</td>\n",
              "      <td>10709.000000</td>\n",
              "      <td>10709.000000</td>\n",
              "    </tr>\n",
              "    <tr>\n",
              "      <th>mean</th>\n",
              "      <td>2007.727426</td>\n",
              "      <td>7754.194042</td>\n",
              "      <td>9.736874e+03</td>\n",
              "      <td>24.647882</td>\n",
              "      <td>4.631773</td>\n",
              "      <td>68.128860</td>\n",
              "      <td>1.851537</td>\n",
              "    </tr>\n",
              "    <tr>\n",
              "      <th>std</th>\n",
              "      <td>4.396948</td>\n",
              "      <td>38147.615088</td>\n",
              "      <td>5.902254e+04</td>\n",
              "      <td>2.698674</td>\n",
              "      <td>3.440207</td>\n",
              "      <td>15.337771</td>\n",
              "      <td>0.349847</td>\n",
              "    </tr>\n",
              "    <tr>\n",
              "      <th>min</th>\n",
              "      <td>2000.000000</td>\n",
              "      <td>1.000000</td>\n",
              "      <td>0.000000e+00</td>\n",
              "      <td>17.564000</td>\n",
              "      <td>0.078581</td>\n",
              "      <td>24.520000</td>\n",
              "      <td>0.916000</td>\n",
              "    </tr>\n",
              "    <tr>\n",
              "      <th>25%</th>\n",
              "      <td>2004.000000</td>\n",
              "      <td>32.000000</td>\n",
              "      <td>2.800000e+01</td>\n",
              "      <td>22.224000</td>\n",
              "      <td>0.672380</td>\n",
              "      <td>55.396000</td>\n",
              "      <td>1.528000</td>\n",
              "    </tr>\n",
              "    <tr>\n",
              "      <th>50%</th>\n",
              "      <td>2008.000000</td>\n",
              "      <td>230.000000</td>\n",
              "      <td>1.740000e+02</td>\n",
              "      <td>25.330000</td>\n",
              "      <td>4.335726</td>\n",
              "      <td>67.140739</td>\n",
              "      <td>1.925000</td>\n",
              "    </tr>\n",
              "    <tr>\n",
              "      <th>75%</th>\n",
              "      <td>2012.000000</td>\n",
              "      <td>1303.000000</td>\n",
              "      <td>9.222500e+02</td>\n",
              "      <td>26.370000</td>\n",
              "      <td>7.627804</td>\n",
              "      <td>83.560000</td>\n",
              "      <td>2.107290</td>\n",
              "    </tr>\n",
              "    <tr>\n",
              "      <th>max</th>\n",
              "      <td>2014.000000</td>\n",
              "      <td>545965.000000</td>\n",
              "      <td>2.129180e+06</td>\n",
              "      <td>32.356667</td>\n",
              "      <td>11.850688</td>\n",
              "      <td>88.922500</td>\n",
              "      <td>2.700000</td>\n",
              "    </tr>\n",
              "  </tbody>\n",
              "</table>\n",
              "</div>"
            ],
            "text/plain": [
              "               Year           Area  ...      Humidity    Wind Speed\n",
              "count  10709.000000   10709.000000  ...  10709.000000  10709.000000\n",
              "mean    2007.727426    7754.194042  ...     68.128860      1.851537\n",
              "std        4.396948   38147.615088  ...     15.337771      0.349847\n",
              "min     2000.000000       1.000000  ...     24.520000      0.916000\n",
              "25%     2004.000000      32.000000  ...     55.396000      1.528000\n",
              "50%     2008.000000     230.000000  ...     67.140739      1.925000\n",
              "75%     2012.000000    1303.000000  ...     83.560000      2.107290\n",
              "max     2014.000000  545965.000000  ...     88.922500      2.700000\n",
              "\n",
              "[8 rows x 7 columns]"
            ]
          },
          "metadata": {},
          "execution_count": 8
        }
      ]
    },
    {
      "cell_type": "code",
      "source": [
        "type(np.unique(df['Production'])[-1])"
      ],
      "metadata": {
        "id": "sqvnvIgoAiW2",
        "colab": {
          "base_uri": "https://localhost:8080/"
        },
        "outputId": "443a4d64-77e7-4d87-cc5f-57de3b22ddbb"
      },
      "execution_count": null,
      "outputs": [
        {
          "output_type": "execute_result",
          "data": {
            "text/plain": [
              "numpy.float64"
            ]
          },
          "metadata": {},
          "execution_count": 9
        }
      ]
    },
    {
      "cell_type": "code",
      "source": [
        "df[(np.isnan(df['Production']))]"
      ],
      "metadata": {
        "id": "e6D8vzi8BY_O",
        "colab": {
          "base_uri": "https://localhost:8080/",
          "height": 424
        },
        "outputId": "d60491f4-e95a-4c3d-fe9e-32573a5cf781"
      },
      "execution_count": null,
      "outputs": [
        {
          "output_type": "execute_result",
          "data": {
            "text/html": [
              "<div>\n",
              "<style scoped>\n",
              "    .dataframe tbody tr th:only-of-type {\n",
              "        vertical-align: middle;\n",
              "    }\n",
              "\n",
              "    .dataframe tbody tr th {\n",
              "        vertical-align: top;\n",
              "    }\n",
              "\n",
              "    .dataframe thead th {\n",
              "        text-align: right;\n",
              "    }\n",
              "</style>\n",
              "<table border=\"1\" class=\"dataframe\">\n",
              "  <thead>\n",
              "    <tr style=\"text-align: right;\">\n",
              "      <th></th>\n",
              "      <th>State</th>\n",
              "      <th>District</th>\n",
              "      <th>Year</th>\n",
              "      <th>Season</th>\n",
              "      <th>Crop</th>\n",
              "      <th>Area</th>\n",
              "      <th>Production</th>\n",
              "      <th>Temperature</th>\n",
              "      <th>Rainfall</th>\n",
              "      <th>Humidity</th>\n",
              "      <th>Wind Speed</th>\n",
              "    </tr>\n",
              "  </thead>\n",
              "  <tbody>\n",
              "    <tr>\n",
              "      <th>74</th>\n",
              "      <td>Chhattisgarh</td>\n",
              "      <td>balod</td>\n",
              "      <td>2013</td>\n",
              "      <td>Kharif</td>\n",
              "      <td>Other Kharif pulses</td>\n",
              "      <td>141</td>\n",
              "      <td>NaN</td>\n",
              "      <td>25.3575</td>\n",
              "      <td>10.151371</td>\n",
              "      <td>87.4975</td>\n",
              "      <td>2.4050</td>\n",
              "    </tr>\n",
              "    <tr>\n",
              "      <th>91</th>\n",
              "      <td>Chhattisgarh</td>\n",
              "      <td>balod</td>\n",
              "      <td>2013</td>\n",
              "      <td>Rabi</td>\n",
              "      <td>Safflower</td>\n",
              "      <td>1</td>\n",
              "      <td>NaN</td>\n",
              "      <td>21.3720</td>\n",
              "      <td>0.108918</td>\n",
              "      <td>57.5540</td>\n",
              "      <td>1.4400</td>\n",
              "    </tr>\n",
              "    <tr>\n",
              "      <th>121</th>\n",
              "      <td>Chhattisgarh</td>\n",
              "      <td>balod</td>\n",
              "      <td>2014</td>\n",
              "      <td>Rabi</td>\n",
              "      <td>Other  Rabi pulses</td>\n",
              "      <td>1</td>\n",
              "      <td>NaN</td>\n",
              "      <td>20.4540</td>\n",
              "      <td>0.520286</td>\n",
              "      <td>62.9440</td>\n",
              "      <td>1.4180</td>\n",
              "    </tr>\n",
              "    <tr>\n",
              "      <th>141</th>\n",
              "      <td>Chhattisgarh</td>\n",
              "      <td>baloda bazar</td>\n",
              "      <td>2011</td>\n",
              "      <td>Kharif</td>\n",
              "      <td>Mesta</td>\n",
              "      <td>17</td>\n",
              "      <td>NaN</td>\n",
              "      <td>26.0800</td>\n",
              "      <td>9.382960</td>\n",
              "      <td>83.2575</td>\n",
              "      <td>1.8850</td>\n",
              "    </tr>\n",
              "    <tr>\n",
              "      <th>222</th>\n",
              "      <td>Chhattisgarh</td>\n",
              "      <td>baloda bazar</td>\n",
              "      <td>2013</td>\n",
              "      <td>Kharif</td>\n",
              "      <td>Sunflower</td>\n",
              "      <td>60</td>\n",
              "      <td>NaN</td>\n",
              "      <td>26.1350</td>\n",
              "      <td>10.084793</td>\n",
              "      <td>85.7350</td>\n",
              "      <td>1.9475</td>\n",
              "    </tr>\n",
              "    <tr>\n",
              "      <th>...</th>\n",
              "      <td>...</td>\n",
              "      <td>...</td>\n",
              "      <td>...</td>\n",
              "      <td>...</td>\n",
              "      <td>...</td>\n",
              "      <td>...</td>\n",
              "      <td>...</td>\n",
              "      <td>...</td>\n",
              "      <td>...</td>\n",
              "      <td>...</td>\n",
              "      <td>...</td>\n",
              "    </tr>\n",
              "    <tr>\n",
              "      <th>10599</th>\n",
              "      <td>Chhattisgarh</td>\n",
              "      <td>surguja</td>\n",
              "      <td>2012</td>\n",
              "      <td>Kharif</td>\n",
              "      <td>Jute</td>\n",
              "      <td>21</td>\n",
              "      <td>NaN</td>\n",
              "      <td>24.5850</td>\n",
              "      <td>9.418030</td>\n",
              "      <td>83.5825</td>\n",
              "      <td>1.7175</td>\n",
              "    </tr>\n",
              "    <tr>\n",
              "      <th>10636</th>\n",
              "      <td>Chhattisgarh</td>\n",
              "      <td>surguja</td>\n",
              "      <td>2013</td>\n",
              "      <td>Kharif</td>\n",
              "      <td>Jute</td>\n",
              "      <td>15</td>\n",
              "      <td>NaN</td>\n",
              "      <td>24.9050</td>\n",
              "      <td>10.079675</td>\n",
              "      <td>86.0000</td>\n",
              "      <td>1.8550</td>\n",
              "    </tr>\n",
              "    <tr>\n",
              "      <th>10641</th>\n",
              "      <td>Chhattisgarh</td>\n",
              "      <td>surguja</td>\n",
              "      <td>2013</td>\n",
              "      <td>Kharif</td>\n",
              "      <td>Other Kharif pulses</td>\n",
              "      <td>136</td>\n",
              "      <td>NaN</td>\n",
              "      <td>24.9050</td>\n",
              "      <td>10.079675</td>\n",
              "      <td>86.0000</td>\n",
              "      <td>1.8550</td>\n",
              "    </tr>\n",
              "    <tr>\n",
              "      <th>10674</th>\n",
              "      <td>Chhattisgarh</td>\n",
              "      <td>surguja</td>\n",
              "      <td>2014</td>\n",
              "      <td>Kharif</td>\n",
              "      <td>Jute</td>\n",
              "      <td>13</td>\n",
              "      <td>NaN</td>\n",
              "      <td>25.1150</td>\n",
              "      <td>7.945099</td>\n",
              "      <td>82.3250</td>\n",
              "      <td>1.8700</td>\n",
              "    </tr>\n",
              "    <tr>\n",
              "      <th>10679</th>\n",
              "      <td>Chhattisgarh</td>\n",
              "      <td>surguja</td>\n",
              "      <td>2014</td>\n",
              "      <td>Kharif</td>\n",
              "      <td>Other Kharif pulses</td>\n",
              "      <td>219</td>\n",
              "      <td>NaN</td>\n",
              "      <td>25.1150</td>\n",
              "      <td>7.945099</td>\n",
              "      <td>82.3250</td>\n",
              "      <td>1.8700</td>\n",
              "    </tr>\n",
              "  </tbody>\n",
              "</table>\n",
              "<p>341 rows × 11 columns</p>\n",
              "</div>"
            ],
            "text/plain": [
              "              State      District  Year  ...   Rainfall Humidity  Wind Speed\n",
              "74     Chhattisgarh         balod  2013  ...  10.151371  87.4975      2.4050\n",
              "91     Chhattisgarh         balod  2013  ...   0.108918  57.5540      1.4400\n",
              "121    Chhattisgarh         balod  2014  ...   0.520286  62.9440      1.4180\n",
              "141    Chhattisgarh  baloda bazar  2011  ...   9.382960  83.2575      1.8850\n",
              "222    Chhattisgarh  baloda bazar  2013  ...  10.084793  85.7350      1.9475\n",
              "...             ...           ...   ...  ...        ...      ...         ...\n",
              "10599  Chhattisgarh       surguja  2012  ...   9.418030  83.5825      1.7175\n",
              "10636  Chhattisgarh       surguja  2013  ...  10.079675  86.0000      1.8550\n",
              "10641  Chhattisgarh       surguja  2013  ...  10.079675  86.0000      1.8550\n",
              "10674  Chhattisgarh       surguja  2014  ...   7.945099  82.3250      1.8700\n",
              "10679  Chhattisgarh       surguja  2014  ...   7.945099  82.3250      1.8700\n",
              "\n",
              "[341 rows x 11 columns]"
            ]
          },
          "metadata": {},
          "execution_count": 10
        }
      ]
    },
    {
      "cell_type": "code",
      "source": [
        "sum(df['Production'].isna())"
      ],
      "metadata": {
        "id": "LRvASHtzJHkf",
        "colab": {
          "base_uri": "https://localhost:8080/"
        },
        "outputId": "f2fa5d41-4869-4c64-d16a-2c8f11fa67f9"
      },
      "execution_count": null,
      "outputs": [
        {
          "output_type": "execute_result",
          "data": {
            "text/plain": [
              "341"
            ]
          },
          "metadata": {},
          "execution_count": 11
        }
      ]
    },
    {
      "cell_type": "code",
      "source": [
        "df.fillna(0,axis=1,inplace=True)"
      ],
      "metadata": {
        "id": "MJ-mnfxgJYOL"
      },
      "execution_count": null,
      "outputs": []
    },
    {
      "cell_type": "code",
      "source": [
        "sum(df['Production'].isna())"
      ],
      "metadata": {
        "id": "puDjsPKEDEJY",
        "colab": {
          "base_uri": "https://localhost:8080/"
        },
        "outputId": "65663cf4-1fb6-4249-f4a1-f6d261560d1c"
      },
      "execution_count": null,
      "outputs": [
        {
          "output_type": "execute_result",
          "data": {
            "text/plain": [
              "0"
            ]
          },
          "metadata": {},
          "execution_count": 13
        }
      ]
    },
    {
      "cell_type": "code",
      "source": [
        "import seaborn as sns"
      ],
      "metadata": {
        "id": "e5gB5kNjDGTQ"
      },
      "execution_count": null,
      "outputs": []
    },
    {
      "cell_type": "code",
      "source": [
        "df.describe().iloc[:,2]"
      ],
      "metadata": {
        "id": "kJGxHvHZHyza",
        "colab": {
          "base_uri": "https://localhost:8080/"
        },
        "outputId": "935e0410-a2cc-47b1-8db0-c86706fbf25f"
      },
      "execution_count": null,
      "outputs": [
        {
          "output_type": "execute_result",
          "data": {
            "text/plain": [
              "count    1.070900e+04\n",
              "mean     9.426829e+03\n",
              "std      5.810030e+04\n",
              "min      0.000000e+00\n",
              "25%      2.200000e+01\n",
              "50%      1.540000e+02\n",
              "75%      8.660000e+02\n",
              "max      2.129180e+06\n",
              "Name: Production, dtype: float64"
            ]
          },
          "metadata": {},
          "execution_count": 15
        }
      ]
    },
    {
      "cell_type": "code",
      "source": [
        "len(np.unique(df['District']))"
      ],
      "metadata": {
        "id": "xXIy4bXdH2Xi",
        "colab": {
          "base_uri": "https://localhost:8080/"
        },
        "outputId": "6d315ccc-ee1e-48fe-eef5-471a9384ceb3"
      },
      "execution_count": null,
      "outputs": [
        {
          "output_type": "execute_result",
          "data": {
            "text/plain": [
              "27"
            ]
          },
          "metadata": {},
          "execution_count": 16
        }
      ]
    },
    {
      "cell_type": "code",
      "source": [
        "season=pd.get_dummies(df['Season'])"
      ],
      "metadata": {
        "id": "YqNsVFI7R3js"
      },
      "execution_count": null,
      "outputs": []
    },
    {
      "cell_type": "code",
      "source": [
        "crop=pd.get_dummies(df['Crop'])"
      ],
      "metadata": {
        "id": "laabAZHoSWSo"
      },
      "execution_count": null,
      "outputs": []
    },
    {
      "cell_type": "code",
      "source": [
        "df.drop(['Crop','Season','District','State'],axis=1,inplace=True)"
      ],
      "metadata": {
        "id": "OLf_CJGoSiI6"
      },
      "execution_count": null,
      "outputs": []
    },
    {
      "cell_type": "code",
      "source": [
        "yield_df=pd.concat([season,crop],axis=1)"
      ],
      "metadata": {
        "id": "vtL6boTjStwz"
      },
      "execution_count": null,
      "outputs": []
    },
    {
      "cell_type": "code",
      "source": [
        "yield_df=pd.concat([df,yield_df],axis=1)"
      ],
      "metadata": {
        "id": "OAz5JLuKS0xi"
      },
      "execution_count": null,
      "outputs": []
    },
    {
      "cell_type": "code",
      "source": [
        "yield_df.head()"
      ],
      "metadata": {
        "id": "aaXkCrtrS71O",
        "colab": {
          "base_uri": "https://localhost:8080/",
          "height": 261
        },
        "outputId": "5b83315e-76b9-4e15-9c58-cb88ccb11037"
      },
      "execution_count": null,
      "outputs": [
        {
          "output_type": "execute_result",
          "data": {
            "text/html": [
              "<div>\n",
              "<style scoped>\n",
              "    .dataframe tbody tr th:only-of-type {\n",
              "        vertical-align: middle;\n",
              "    }\n",
              "\n",
              "    .dataframe tbody tr th {\n",
              "        vertical-align: top;\n",
              "    }\n",
              "\n",
              "    .dataframe thead th {\n",
              "        text-align: right;\n",
              "    }\n",
              "</style>\n",
              "<table border=\"1\" class=\"dataframe\">\n",
              "  <thead>\n",
              "    <tr style=\"text-align: right;\">\n",
              "      <th></th>\n",
              "      <th>Year</th>\n",
              "      <th>Area</th>\n",
              "      <th>Production</th>\n",
              "      <th>Temperature</th>\n",
              "      <th>Rainfall</th>\n",
              "      <th>Humidity</th>\n",
              "      <th>Wind Speed</th>\n",
              "      <th>Kharif</th>\n",
              "      <th>Rabi</th>\n",
              "      <th>Summer</th>\n",
              "      <th>Whole Year</th>\n",
              "      <th>Arhar/Tur</th>\n",
              "      <th>Bajra</th>\n",
              "      <th>Banana</th>\n",
              "      <th>Barley</th>\n",
              "      <th>Castor seed</th>\n",
              "      <th>Coconut</th>\n",
              "      <th>Coriander</th>\n",
              "      <th>Cotton(lint)</th>\n",
              "      <th>Dry chillies</th>\n",
              "      <th>Dry ginger</th>\n",
              "      <th>Garlic</th>\n",
              "      <th>Gram</th>\n",
              "      <th>Groundnut</th>\n",
              "      <th>Guar seed</th>\n",
              "      <th>Horse-gram</th>\n",
              "      <th>Jowar</th>\n",
              "      <th>Jute</th>\n",
              "      <th>Khesari</th>\n",
              "      <th>Linseed</th>\n",
              "      <th>Maize</th>\n",
              "      <th>Masoor</th>\n",
              "      <th>Mesta</th>\n",
              "      <th>Moong(Green Gram)</th>\n",
              "      <th>Niger seed</th>\n",
              "      <th>Onion</th>\n",
              "      <th>Other  Rabi pulses</th>\n",
              "      <th>Other Kharif pulses</th>\n",
              "      <th>Papaya</th>\n",
              "      <th>Peas &amp; beans (Pulses)</th>\n",
              "      <th>Potato</th>\n",
              "      <th>Ragi</th>\n",
              "      <th>Rapeseed &amp;Mustard</th>\n",
              "      <th>Rice</th>\n",
              "      <th>Safflower</th>\n",
              "      <th>Sannhamp</th>\n",
              "      <th>Sesamum</th>\n",
              "      <th>Small millets</th>\n",
              "      <th>Soyabean</th>\n",
              "      <th>Sugarcane</th>\n",
              "      <th>Sunflower</th>\n",
              "      <th>Sweet potato</th>\n",
              "      <th>Tobacco</th>\n",
              "      <th>Turmeric</th>\n",
              "      <th>Urad</th>\n",
              "      <th>Wheat</th>\n",
              "      <th>other misc. pulses</th>\n",
              "    </tr>\n",
              "  </thead>\n",
              "  <tbody>\n",
              "    <tr>\n",
              "      <th>0</th>\n",
              "      <td>2011</td>\n",
              "      <td>607</td>\n",
              "      <td>290.0</td>\n",
              "      <td>25.5025</td>\n",
              "      <td>9.856148</td>\n",
              "      <td>83.805</td>\n",
              "      <td>2.11</td>\n",
              "      <td>1</td>\n",
              "      <td>0</td>\n",
              "      <td>0</td>\n",
              "      <td>0</td>\n",
              "      <td>1</td>\n",
              "      <td>0</td>\n",
              "      <td>0</td>\n",
              "      <td>0</td>\n",
              "      <td>0</td>\n",
              "      <td>0</td>\n",
              "      <td>0</td>\n",
              "      <td>0</td>\n",
              "      <td>0</td>\n",
              "      <td>0</td>\n",
              "      <td>0</td>\n",
              "      <td>0</td>\n",
              "      <td>0</td>\n",
              "      <td>0</td>\n",
              "      <td>0</td>\n",
              "      <td>0</td>\n",
              "      <td>0</td>\n",
              "      <td>0</td>\n",
              "      <td>0</td>\n",
              "      <td>0</td>\n",
              "      <td>0</td>\n",
              "      <td>0</td>\n",
              "      <td>0</td>\n",
              "      <td>0</td>\n",
              "      <td>0</td>\n",
              "      <td>0</td>\n",
              "      <td>0</td>\n",
              "      <td>0</td>\n",
              "      <td>0</td>\n",
              "      <td>0</td>\n",
              "      <td>0</td>\n",
              "      <td>0</td>\n",
              "      <td>0</td>\n",
              "      <td>0</td>\n",
              "      <td>0</td>\n",
              "      <td>0</td>\n",
              "      <td>0</td>\n",
              "      <td>0</td>\n",
              "      <td>0</td>\n",
              "      <td>0</td>\n",
              "      <td>0</td>\n",
              "      <td>0</td>\n",
              "      <td>0</td>\n",
              "      <td>0</td>\n",
              "      <td>0</td>\n",
              "      <td>0</td>\n",
              "    </tr>\n",
              "    <tr>\n",
              "      <th>1</th>\n",
              "      <td>2011</td>\n",
              "      <td>288</td>\n",
              "      <td>102.0</td>\n",
              "      <td>25.5025</td>\n",
              "      <td>9.856148</td>\n",
              "      <td>83.805</td>\n",
              "      <td>2.11</td>\n",
              "      <td>1</td>\n",
              "      <td>0</td>\n",
              "      <td>0</td>\n",
              "      <td>0</td>\n",
              "      <td>0</td>\n",
              "      <td>0</td>\n",
              "      <td>0</td>\n",
              "      <td>0</td>\n",
              "      <td>0</td>\n",
              "      <td>0</td>\n",
              "      <td>0</td>\n",
              "      <td>0</td>\n",
              "      <td>0</td>\n",
              "      <td>0</td>\n",
              "      <td>0</td>\n",
              "      <td>0</td>\n",
              "      <td>0</td>\n",
              "      <td>0</td>\n",
              "      <td>1</td>\n",
              "      <td>0</td>\n",
              "      <td>0</td>\n",
              "      <td>0</td>\n",
              "      <td>0</td>\n",
              "      <td>0</td>\n",
              "      <td>0</td>\n",
              "      <td>0</td>\n",
              "      <td>0</td>\n",
              "      <td>0</td>\n",
              "      <td>0</td>\n",
              "      <td>0</td>\n",
              "      <td>0</td>\n",
              "      <td>0</td>\n",
              "      <td>0</td>\n",
              "      <td>0</td>\n",
              "      <td>0</td>\n",
              "      <td>0</td>\n",
              "      <td>0</td>\n",
              "      <td>0</td>\n",
              "      <td>0</td>\n",
              "      <td>0</td>\n",
              "      <td>0</td>\n",
              "      <td>0</td>\n",
              "      <td>0</td>\n",
              "      <td>0</td>\n",
              "      <td>0</td>\n",
              "      <td>0</td>\n",
              "      <td>0</td>\n",
              "      <td>0</td>\n",
              "      <td>0</td>\n",
              "      <td>0</td>\n",
              "    </tr>\n",
              "    <tr>\n",
              "      <th>2</th>\n",
              "      <td>2011</td>\n",
              "      <td>11</td>\n",
              "      <td>8.0</td>\n",
              "      <td>25.5025</td>\n",
              "      <td>9.856148</td>\n",
              "      <td>83.805</td>\n",
              "      <td>2.11</td>\n",
              "      <td>1</td>\n",
              "      <td>0</td>\n",
              "      <td>0</td>\n",
              "      <td>0</td>\n",
              "      <td>0</td>\n",
              "      <td>0</td>\n",
              "      <td>0</td>\n",
              "      <td>0</td>\n",
              "      <td>0</td>\n",
              "      <td>0</td>\n",
              "      <td>0</td>\n",
              "      <td>0</td>\n",
              "      <td>0</td>\n",
              "      <td>0</td>\n",
              "      <td>0</td>\n",
              "      <td>0</td>\n",
              "      <td>0</td>\n",
              "      <td>0</td>\n",
              "      <td>0</td>\n",
              "      <td>1</td>\n",
              "      <td>0</td>\n",
              "      <td>0</td>\n",
              "      <td>0</td>\n",
              "      <td>0</td>\n",
              "      <td>0</td>\n",
              "      <td>0</td>\n",
              "      <td>0</td>\n",
              "      <td>0</td>\n",
              "      <td>0</td>\n",
              "      <td>0</td>\n",
              "      <td>0</td>\n",
              "      <td>0</td>\n",
              "      <td>0</td>\n",
              "      <td>0</td>\n",
              "      <td>0</td>\n",
              "      <td>0</td>\n",
              "      <td>0</td>\n",
              "      <td>0</td>\n",
              "      <td>0</td>\n",
              "      <td>0</td>\n",
              "      <td>0</td>\n",
              "      <td>0</td>\n",
              "      <td>0</td>\n",
              "      <td>0</td>\n",
              "      <td>0</td>\n",
              "      <td>0</td>\n",
              "      <td>0</td>\n",
              "      <td>0</td>\n",
              "      <td>0</td>\n",
              "      <td>0</td>\n",
              "    </tr>\n",
              "    <tr>\n",
              "      <th>3</th>\n",
              "      <td>2011</td>\n",
              "      <td>125</td>\n",
              "      <td>149.0</td>\n",
              "      <td>25.5025</td>\n",
              "      <td>9.856148</td>\n",
              "      <td>83.805</td>\n",
              "      <td>2.11</td>\n",
              "      <td>1</td>\n",
              "      <td>0</td>\n",
              "      <td>0</td>\n",
              "      <td>0</td>\n",
              "      <td>0</td>\n",
              "      <td>0</td>\n",
              "      <td>0</td>\n",
              "      <td>0</td>\n",
              "      <td>0</td>\n",
              "      <td>0</td>\n",
              "      <td>0</td>\n",
              "      <td>0</td>\n",
              "      <td>0</td>\n",
              "      <td>0</td>\n",
              "      <td>0</td>\n",
              "      <td>0</td>\n",
              "      <td>0</td>\n",
              "      <td>0</td>\n",
              "      <td>0</td>\n",
              "      <td>0</td>\n",
              "      <td>0</td>\n",
              "      <td>0</td>\n",
              "      <td>0</td>\n",
              "      <td>1</td>\n",
              "      <td>0</td>\n",
              "      <td>0</td>\n",
              "      <td>0</td>\n",
              "      <td>0</td>\n",
              "      <td>0</td>\n",
              "      <td>0</td>\n",
              "      <td>0</td>\n",
              "      <td>0</td>\n",
              "      <td>0</td>\n",
              "      <td>0</td>\n",
              "      <td>0</td>\n",
              "      <td>0</td>\n",
              "      <td>0</td>\n",
              "      <td>0</td>\n",
              "      <td>0</td>\n",
              "      <td>0</td>\n",
              "      <td>0</td>\n",
              "      <td>0</td>\n",
              "      <td>0</td>\n",
              "      <td>0</td>\n",
              "      <td>0</td>\n",
              "      <td>0</td>\n",
              "      <td>0</td>\n",
              "      <td>0</td>\n",
              "      <td>0</td>\n",
              "      <td>0</td>\n",
              "    </tr>\n",
              "    <tr>\n",
              "      <th>4</th>\n",
              "      <td>2011</td>\n",
              "      <td>8</td>\n",
              "      <td>15.0</td>\n",
              "      <td>25.5025</td>\n",
              "      <td>9.856148</td>\n",
              "      <td>83.805</td>\n",
              "      <td>2.11</td>\n",
              "      <td>1</td>\n",
              "      <td>0</td>\n",
              "      <td>0</td>\n",
              "      <td>0</td>\n",
              "      <td>0</td>\n",
              "      <td>0</td>\n",
              "      <td>0</td>\n",
              "      <td>0</td>\n",
              "      <td>0</td>\n",
              "      <td>0</td>\n",
              "      <td>0</td>\n",
              "      <td>0</td>\n",
              "      <td>0</td>\n",
              "      <td>0</td>\n",
              "      <td>0</td>\n",
              "      <td>0</td>\n",
              "      <td>0</td>\n",
              "      <td>0</td>\n",
              "      <td>0</td>\n",
              "      <td>0</td>\n",
              "      <td>0</td>\n",
              "      <td>0</td>\n",
              "      <td>0</td>\n",
              "      <td>0</td>\n",
              "      <td>0</td>\n",
              "      <td>1</td>\n",
              "      <td>0</td>\n",
              "      <td>0</td>\n",
              "      <td>0</td>\n",
              "      <td>0</td>\n",
              "      <td>0</td>\n",
              "      <td>0</td>\n",
              "      <td>0</td>\n",
              "      <td>0</td>\n",
              "      <td>0</td>\n",
              "      <td>0</td>\n",
              "      <td>0</td>\n",
              "      <td>0</td>\n",
              "      <td>0</td>\n",
              "      <td>0</td>\n",
              "      <td>0</td>\n",
              "      <td>0</td>\n",
              "      <td>0</td>\n",
              "      <td>0</td>\n",
              "      <td>0</td>\n",
              "      <td>0</td>\n",
              "      <td>0</td>\n",
              "      <td>0</td>\n",
              "      <td>0</td>\n",
              "      <td>0</td>\n",
              "    </tr>\n",
              "  </tbody>\n",
              "</table>\n",
              "</div>"
            ],
            "text/plain": [
              "   Year  Area  Production  ...  Urad  Wheat  other misc. pulses\n",
              "0  2011   607       290.0  ...     0      0                   0\n",
              "1  2011   288       102.0  ...     0      0                   0\n",
              "2  2011    11         8.0  ...     0      0                   0\n",
              "3  2011   125       149.0  ...     0      0                   0\n",
              "4  2011     8        15.0  ...     0      0                   0\n",
              "\n",
              "[5 rows x 57 columns]"
            ]
          },
          "metadata": {},
          "execution_count": 22
        }
      ]
    },
    {
      "cell_type": "code",
      "source": [
        "X=yield_df.drop(['Production'],axis=1)"
      ],
      "metadata": {
        "id": "SEK2bEGBS9C6"
      },
      "execution_count": null,
      "outputs": []
    },
    {
      "cell_type": "code",
      "source": [
        "X.head()"
      ],
      "metadata": {
        "id": "TQXTIPuX9LJF",
        "colab": {
          "base_uri": "https://localhost:8080/",
          "height": 261
        },
        "outputId": "bd310fd0-8c41-4bfd-8e60-d1a8239d174b"
      },
      "execution_count": null,
      "outputs": [
        {
          "output_type": "execute_result",
          "data": {
            "text/html": [
              "<div>\n",
              "<style scoped>\n",
              "    .dataframe tbody tr th:only-of-type {\n",
              "        vertical-align: middle;\n",
              "    }\n",
              "\n",
              "    .dataframe tbody tr th {\n",
              "        vertical-align: top;\n",
              "    }\n",
              "\n",
              "    .dataframe thead th {\n",
              "        text-align: right;\n",
              "    }\n",
              "</style>\n",
              "<table border=\"1\" class=\"dataframe\">\n",
              "  <thead>\n",
              "    <tr style=\"text-align: right;\">\n",
              "      <th></th>\n",
              "      <th>Year</th>\n",
              "      <th>Area</th>\n",
              "      <th>Temperature</th>\n",
              "      <th>Rainfall</th>\n",
              "      <th>Humidity</th>\n",
              "      <th>Wind Speed</th>\n",
              "      <th>Kharif</th>\n",
              "      <th>Rabi</th>\n",
              "      <th>Summer</th>\n",
              "      <th>Whole Year</th>\n",
              "      <th>Arhar/Tur</th>\n",
              "      <th>Bajra</th>\n",
              "      <th>Banana</th>\n",
              "      <th>Barley</th>\n",
              "      <th>Castor seed</th>\n",
              "      <th>Coconut</th>\n",
              "      <th>Coriander</th>\n",
              "      <th>Cotton(lint)</th>\n",
              "      <th>Dry chillies</th>\n",
              "      <th>Dry ginger</th>\n",
              "      <th>Garlic</th>\n",
              "      <th>Gram</th>\n",
              "      <th>Groundnut</th>\n",
              "      <th>Guar seed</th>\n",
              "      <th>Horse-gram</th>\n",
              "      <th>Jowar</th>\n",
              "      <th>Jute</th>\n",
              "      <th>Khesari</th>\n",
              "      <th>Linseed</th>\n",
              "      <th>Maize</th>\n",
              "      <th>Masoor</th>\n",
              "      <th>Mesta</th>\n",
              "      <th>Moong(Green Gram)</th>\n",
              "      <th>Niger seed</th>\n",
              "      <th>Onion</th>\n",
              "      <th>Other  Rabi pulses</th>\n",
              "      <th>Other Kharif pulses</th>\n",
              "      <th>Papaya</th>\n",
              "      <th>Peas &amp; beans (Pulses)</th>\n",
              "      <th>Potato</th>\n",
              "      <th>Ragi</th>\n",
              "      <th>Rapeseed &amp;Mustard</th>\n",
              "      <th>Rice</th>\n",
              "      <th>Safflower</th>\n",
              "      <th>Sannhamp</th>\n",
              "      <th>Sesamum</th>\n",
              "      <th>Small millets</th>\n",
              "      <th>Soyabean</th>\n",
              "      <th>Sugarcane</th>\n",
              "      <th>Sunflower</th>\n",
              "      <th>Sweet potato</th>\n",
              "      <th>Tobacco</th>\n",
              "      <th>Turmeric</th>\n",
              "      <th>Urad</th>\n",
              "      <th>Wheat</th>\n",
              "      <th>other misc. pulses</th>\n",
              "    </tr>\n",
              "  </thead>\n",
              "  <tbody>\n",
              "    <tr>\n",
              "      <th>0</th>\n",
              "      <td>2011</td>\n",
              "      <td>607</td>\n",
              "      <td>25.5025</td>\n",
              "      <td>9.856148</td>\n",
              "      <td>83.805</td>\n",
              "      <td>2.11</td>\n",
              "      <td>1</td>\n",
              "      <td>0</td>\n",
              "      <td>0</td>\n",
              "      <td>0</td>\n",
              "      <td>1</td>\n",
              "      <td>0</td>\n",
              "      <td>0</td>\n",
              "      <td>0</td>\n",
              "      <td>0</td>\n",
              "      <td>0</td>\n",
              "      <td>0</td>\n",
              "      <td>0</td>\n",
              "      <td>0</td>\n",
              "      <td>0</td>\n",
              "      <td>0</td>\n",
              "      <td>0</td>\n",
              "      <td>0</td>\n",
              "      <td>0</td>\n",
              "      <td>0</td>\n",
              "      <td>0</td>\n",
              "      <td>0</td>\n",
              "      <td>0</td>\n",
              "      <td>0</td>\n",
              "      <td>0</td>\n",
              "      <td>0</td>\n",
              "      <td>0</td>\n",
              "      <td>0</td>\n",
              "      <td>0</td>\n",
              "      <td>0</td>\n",
              "      <td>0</td>\n",
              "      <td>0</td>\n",
              "      <td>0</td>\n",
              "      <td>0</td>\n",
              "      <td>0</td>\n",
              "      <td>0</td>\n",
              "      <td>0</td>\n",
              "      <td>0</td>\n",
              "      <td>0</td>\n",
              "      <td>0</td>\n",
              "      <td>0</td>\n",
              "      <td>0</td>\n",
              "      <td>0</td>\n",
              "      <td>0</td>\n",
              "      <td>0</td>\n",
              "      <td>0</td>\n",
              "      <td>0</td>\n",
              "      <td>0</td>\n",
              "      <td>0</td>\n",
              "      <td>0</td>\n",
              "      <td>0</td>\n",
              "    </tr>\n",
              "    <tr>\n",
              "      <th>1</th>\n",
              "      <td>2011</td>\n",
              "      <td>288</td>\n",
              "      <td>25.5025</td>\n",
              "      <td>9.856148</td>\n",
              "      <td>83.805</td>\n",
              "      <td>2.11</td>\n",
              "      <td>1</td>\n",
              "      <td>0</td>\n",
              "      <td>0</td>\n",
              "      <td>0</td>\n",
              "      <td>0</td>\n",
              "      <td>0</td>\n",
              "      <td>0</td>\n",
              "      <td>0</td>\n",
              "      <td>0</td>\n",
              "      <td>0</td>\n",
              "      <td>0</td>\n",
              "      <td>0</td>\n",
              "      <td>0</td>\n",
              "      <td>0</td>\n",
              "      <td>0</td>\n",
              "      <td>0</td>\n",
              "      <td>0</td>\n",
              "      <td>0</td>\n",
              "      <td>1</td>\n",
              "      <td>0</td>\n",
              "      <td>0</td>\n",
              "      <td>0</td>\n",
              "      <td>0</td>\n",
              "      <td>0</td>\n",
              "      <td>0</td>\n",
              "      <td>0</td>\n",
              "      <td>0</td>\n",
              "      <td>0</td>\n",
              "      <td>0</td>\n",
              "      <td>0</td>\n",
              "      <td>0</td>\n",
              "      <td>0</td>\n",
              "      <td>0</td>\n",
              "      <td>0</td>\n",
              "      <td>0</td>\n",
              "      <td>0</td>\n",
              "      <td>0</td>\n",
              "      <td>0</td>\n",
              "      <td>0</td>\n",
              "      <td>0</td>\n",
              "      <td>0</td>\n",
              "      <td>0</td>\n",
              "      <td>0</td>\n",
              "      <td>0</td>\n",
              "      <td>0</td>\n",
              "      <td>0</td>\n",
              "      <td>0</td>\n",
              "      <td>0</td>\n",
              "      <td>0</td>\n",
              "      <td>0</td>\n",
              "    </tr>\n",
              "    <tr>\n",
              "      <th>2</th>\n",
              "      <td>2011</td>\n",
              "      <td>11</td>\n",
              "      <td>25.5025</td>\n",
              "      <td>9.856148</td>\n",
              "      <td>83.805</td>\n",
              "      <td>2.11</td>\n",
              "      <td>1</td>\n",
              "      <td>0</td>\n",
              "      <td>0</td>\n",
              "      <td>0</td>\n",
              "      <td>0</td>\n",
              "      <td>0</td>\n",
              "      <td>0</td>\n",
              "      <td>0</td>\n",
              "      <td>0</td>\n",
              "      <td>0</td>\n",
              "      <td>0</td>\n",
              "      <td>0</td>\n",
              "      <td>0</td>\n",
              "      <td>0</td>\n",
              "      <td>0</td>\n",
              "      <td>0</td>\n",
              "      <td>0</td>\n",
              "      <td>0</td>\n",
              "      <td>0</td>\n",
              "      <td>1</td>\n",
              "      <td>0</td>\n",
              "      <td>0</td>\n",
              "      <td>0</td>\n",
              "      <td>0</td>\n",
              "      <td>0</td>\n",
              "      <td>0</td>\n",
              "      <td>0</td>\n",
              "      <td>0</td>\n",
              "      <td>0</td>\n",
              "      <td>0</td>\n",
              "      <td>0</td>\n",
              "      <td>0</td>\n",
              "      <td>0</td>\n",
              "      <td>0</td>\n",
              "      <td>0</td>\n",
              "      <td>0</td>\n",
              "      <td>0</td>\n",
              "      <td>0</td>\n",
              "      <td>0</td>\n",
              "      <td>0</td>\n",
              "      <td>0</td>\n",
              "      <td>0</td>\n",
              "      <td>0</td>\n",
              "      <td>0</td>\n",
              "      <td>0</td>\n",
              "      <td>0</td>\n",
              "      <td>0</td>\n",
              "      <td>0</td>\n",
              "      <td>0</td>\n",
              "      <td>0</td>\n",
              "    </tr>\n",
              "    <tr>\n",
              "      <th>3</th>\n",
              "      <td>2011</td>\n",
              "      <td>125</td>\n",
              "      <td>25.5025</td>\n",
              "      <td>9.856148</td>\n",
              "      <td>83.805</td>\n",
              "      <td>2.11</td>\n",
              "      <td>1</td>\n",
              "      <td>0</td>\n",
              "      <td>0</td>\n",
              "      <td>0</td>\n",
              "      <td>0</td>\n",
              "      <td>0</td>\n",
              "      <td>0</td>\n",
              "      <td>0</td>\n",
              "      <td>0</td>\n",
              "      <td>0</td>\n",
              "      <td>0</td>\n",
              "      <td>0</td>\n",
              "      <td>0</td>\n",
              "      <td>0</td>\n",
              "      <td>0</td>\n",
              "      <td>0</td>\n",
              "      <td>0</td>\n",
              "      <td>0</td>\n",
              "      <td>0</td>\n",
              "      <td>0</td>\n",
              "      <td>0</td>\n",
              "      <td>0</td>\n",
              "      <td>0</td>\n",
              "      <td>1</td>\n",
              "      <td>0</td>\n",
              "      <td>0</td>\n",
              "      <td>0</td>\n",
              "      <td>0</td>\n",
              "      <td>0</td>\n",
              "      <td>0</td>\n",
              "      <td>0</td>\n",
              "      <td>0</td>\n",
              "      <td>0</td>\n",
              "      <td>0</td>\n",
              "      <td>0</td>\n",
              "      <td>0</td>\n",
              "      <td>0</td>\n",
              "      <td>0</td>\n",
              "      <td>0</td>\n",
              "      <td>0</td>\n",
              "      <td>0</td>\n",
              "      <td>0</td>\n",
              "      <td>0</td>\n",
              "      <td>0</td>\n",
              "      <td>0</td>\n",
              "      <td>0</td>\n",
              "      <td>0</td>\n",
              "      <td>0</td>\n",
              "      <td>0</td>\n",
              "      <td>0</td>\n",
              "    </tr>\n",
              "    <tr>\n",
              "      <th>4</th>\n",
              "      <td>2011</td>\n",
              "      <td>8</td>\n",
              "      <td>25.5025</td>\n",
              "      <td>9.856148</td>\n",
              "      <td>83.805</td>\n",
              "      <td>2.11</td>\n",
              "      <td>1</td>\n",
              "      <td>0</td>\n",
              "      <td>0</td>\n",
              "      <td>0</td>\n",
              "      <td>0</td>\n",
              "      <td>0</td>\n",
              "      <td>0</td>\n",
              "      <td>0</td>\n",
              "      <td>0</td>\n",
              "      <td>0</td>\n",
              "      <td>0</td>\n",
              "      <td>0</td>\n",
              "      <td>0</td>\n",
              "      <td>0</td>\n",
              "      <td>0</td>\n",
              "      <td>0</td>\n",
              "      <td>0</td>\n",
              "      <td>0</td>\n",
              "      <td>0</td>\n",
              "      <td>0</td>\n",
              "      <td>0</td>\n",
              "      <td>0</td>\n",
              "      <td>0</td>\n",
              "      <td>0</td>\n",
              "      <td>0</td>\n",
              "      <td>1</td>\n",
              "      <td>0</td>\n",
              "      <td>0</td>\n",
              "      <td>0</td>\n",
              "      <td>0</td>\n",
              "      <td>0</td>\n",
              "      <td>0</td>\n",
              "      <td>0</td>\n",
              "      <td>0</td>\n",
              "      <td>0</td>\n",
              "      <td>0</td>\n",
              "      <td>0</td>\n",
              "      <td>0</td>\n",
              "      <td>0</td>\n",
              "      <td>0</td>\n",
              "      <td>0</td>\n",
              "      <td>0</td>\n",
              "      <td>0</td>\n",
              "      <td>0</td>\n",
              "      <td>0</td>\n",
              "      <td>0</td>\n",
              "      <td>0</td>\n",
              "      <td>0</td>\n",
              "      <td>0</td>\n",
              "      <td>0</td>\n",
              "    </tr>\n",
              "  </tbody>\n",
              "</table>\n",
              "</div>"
            ],
            "text/plain": [
              "   Year  Area  Temperature  Rainfall  ...  Turmeric  Urad  Wheat  other misc. pulses\n",
              "0  2011   607      25.5025  9.856148  ...         0     0      0                   0\n",
              "1  2011   288      25.5025  9.856148  ...         0     0      0                   0\n",
              "2  2011    11      25.5025  9.856148  ...         0     0      0                   0\n",
              "3  2011   125      25.5025  9.856148  ...         0     0      0                   0\n",
              "4  2011     8      25.5025  9.856148  ...         0     0      0                   0\n",
              "\n",
              "[5 rows x 56 columns]"
            ]
          },
          "metadata": {},
          "execution_count": 24
        }
      ]
    },
    {
      "cell_type": "code",
      "source": [
        "Y=yield_df['Production']"
      ],
      "metadata": {
        "id": "UJWaVI3l9MGK"
      },
      "execution_count": null,
      "outputs": []
    },
    {
      "cell_type": "code",
      "source": [
        "Y"
      ],
      "metadata": {
        "id": "TteCi_2t9xH4",
        "colab": {
          "base_uri": "https://localhost:8080/"
        },
        "outputId": "9108233b-d086-4712-fac1-aa791db627e2"
      },
      "execution_count": null,
      "outputs": [
        {
          "output_type": "execute_result",
          "data": {
            "text/plain": [
              "0         290.0\n",
              "1         102.0\n",
              "2           8.0\n",
              "3         149.0\n",
              "4          15.0\n",
              "          ...  \n",
              "10704    3904.0\n",
              "10705    6572.0\n",
              "10706    1435.0\n",
              "10707       2.0\n",
              "10708     145.0\n",
              "Name: Production, Length: 10709, dtype: float64"
            ]
          },
          "metadata": {},
          "execution_count": 26
        }
      ]
    },
    {
      "cell_type": "code",
      "source": [
        "from sklearn.model_selection import train_test_split"
      ],
      "metadata": {
        "id": "GdjvpYmy9xyr"
      },
      "execution_count": null,
      "outputs": []
    },
    {
      "cell_type": "code",
      "source": [
        "x_train, x_test, y_train, y_test = train_test_split(X, Y, test_size=0.25, random_state=42)"
      ],
      "metadata": {
        "id": "GIM15bGP-DId"
      },
      "execution_count": null,
      "outputs": []
    },
    {
      "cell_type": "code",
      "source": [
        "print('Train', x_train.shape, y_train.shape)\n",
        "print('Test', x_test.shape, y_test.shape)"
      ],
      "metadata": {
        "id": "H0a8sLlI-pmt",
        "colab": {
          "base_uri": "https://localhost:8080/"
        },
        "outputId": "9a98bd24-f0f1-4e54-d5ba-b426c5544208"
      },
      "execution_count": null,
      "outputs": [
        {
          "output_type": "stream",
          "name": "stdout",
          "text": [
            "Train (8031, 56) (8031,)\n",
            "Test (2678, 56) (2678,)\n"
          ]
        }
      ]
    },
    {
      "cell_type": "markdown",
      "source": [
        "Correlation Feature Selection"
      ],
      "metadata": {
        "id": "5F9l44f6-9VB"
      }
    },
    {
      "cell_type": "code",
      "source": [
        "from sklearn.feature_selection import SelectKBest\n",
        "from sklearn.feature_selection import f_regression\n",
        "from matplotlib import pyplot"
      ],
      "metadata": {
        "id": "WfIxeizW-vOO"
      },
      "execution_count": null,
      "outputs": []
    },
    {
      "cell_type": "code",
      "source": [
        "def select_features(X_train, y_train, X_test):\n",
        "\t# configure to select all features\n",
        "\tfs = SelectKBest(score_func=f_regression, k='all')\n",
        "\t# learn relationship from training data\n",
        "\tfs.fit(X_train, y_train)\n",
        "\t# transform train input data\n",
        "\tX_train_fs = fs.transform(X_train)\n",
        "\t# transform test input data\n",
        "\tX_test_fs = fs.transform(X_test)\n",
        "\treturn X_train_fs, X_test_fs, fs"
      ],
      "metadata": {
        "id": "wz6XoWHY_L0m"
      },
      "execution_count": null,
      "outputs": []
    },
    {
      "cell_type": "code",
      "source": [
        "x_train_fs, x_test_fs, fs = select_features(x_train, y_train, x_test)\n",
        "for i in range(len(fs.scores_)):\n",
        "\tprint('Feature %d: %f' % (i, fs.scores_[i]))\n",
        "plt.figure(figsize=(10,7))\n",
        "pyplot.bar([i for i in range(len(fs.scores_))], fs.scores_)\n",
        "pyplot.show()"
      ],
      "metadata": {
        "id": "Qgzmp6Ut_Nt-",
        "colab": {
          "base_uri": "https://localhost:8080/",
          "height": 1000
        },
        "outputId": "c344408a-32c3-45c1-a53d-8f86154f744a"
      },
      "execution_count": null,
      "outputs": [
        {
          "output_type": "stream",
          "name": "stdout",
          "text": [
            "Feature 0: 1.664196\n",
            "Feature 1: 19572.170258\n",
            "Feature 2: 8.480739\n",
            "Feature 3: 129.169233\n",
            "Feature 4: 121.997710\n",
            "Feature 5: 31.357955\n",
            "Feature 6: 170.598452\n",
            "Feature 7: 40.091678\n",
            "Feature 8: 0.065251\n",
            "Feature 9: 63.128764\n",
            "Feature 10: 3.982543\n",
            "Feature 11: 1.499766\n",
            "Feature 12: 3.711751\n",
            "Feature 13: 2.166651\n",
            "Feature 14: 1.749397\n",
            "Feature 15: 0.465548\n",
            "Feature 16: 5.062802\n",
            "Feature 17: 1.070876\n",
            "Feature 18: 5.139978\n",
            "Feature 19: 4.768450\n",
            "Feature 20: 3.952871\n",
            "Feature 21: 0.058602\n",
            "Feature 22: 2.950728\n",
            "Feature 23: 0.024329\n",
            "Feature 24: 7.012624\n",
            "Feature 25: 4.605610\n",
            "Feature 26: 0.539262\n",
            "Feature 27: 0.682435\n",
            "Feature 28: 4.037694\n",
            "Feature 29: 0.083843\n",
            "Feature 30: 4.275628\n",
            "Feature 31: 4.533370\n",
            "Feature 32: 10.311553\n",
            "Feature 33: 3.693186\n",
            "Feature 34: 3.476680\n",
            "Feature 35: 4.722778\n",
            "Feature 36: 5.258893\n",
            "Feature 37: 0.195977\n",
            "Feature 38: 4.795325\n",
            "Feature 39: 3.220499\n",
            "Feature 40: 3.225899\n",
            "Feature 41: 4.306151\n",
            "Feature 42: 10162.097303\n",
            "Feature 43: 2.789894\n",
            "Feature 44: 4.953833\n",
            "Feature 45: 5.610128\n",
            "Feature 46: 3.101178\n",
            "Feature 47: 2.135019\n",
            "Feature 48: 0.657660\n",
            "Feature 49: 4.327508\n",
            "Feature 50: 4.717693\n",
            "Feature 51: 1.080614\n",
            "Feature 52: 5.010837\n",
            "Feature 53: 7.741159\n",
            "Feature 54: 0.475622\n",
            "Feature 55: nan\n"
          ]
        },
        {
          "output_type": "stream",
          "name": "stderr",
          "text": [
            "/usr/local/lib/python3.7/dist-packages/sklearn/feature_selection/_univariate_selection.py:289: RuntimeWarning: invalid value encountered in true_divide\n",
            "  correlation_coefficient /= X_norms\n"
          ]
        },
        {
          "output_type": "display_data",
          "data": {
            "image/png": "[encoded data removed]",
            "text/plain": [
              "<Figure size 720x504 with 1 Axes>"
            ]
          },
          "metadata": {
            "needs_background": "light"
          }
        }
      ]
    },
    {
      "cell_type": "markdown",
      "source": [
        "Mutual Information"
      ],
      "metadata": {
        "id": "jplYUneDBA9_"
      }
    },
    {
      "cell_type": "code",
      "source": [
        "from sklearn.feature_selection import mutual_info_regression\n",
        "def select_features(X_train, y_train, X_test):\n",
        "\t# configure to select all features\n",
        "\tfs = SelectKBest(score_func=mutual_info_regression, k='all')\n",
        "\t# learn relationship from training data\n",
        "\tfs.fit(X_train, y_train)\n",
        "\t# transform train input data\n",
        "\tX_train_fs = fs.transform(X_train)\n",
        "\t# transform test input data\n",
        "\tX_test_fs = fs.transform(X_test)\n",
        "\treturn X_train_fs, X_test_fs, fs"
      ],
      "metadata": {
        "id": "xwLHNLlvALmW"
      },
      "execution_count": null,
      "outputs": []
    },
    {
      "cell_type": "code",
      "source": [
        "x_train_fs, x_test_fs, fs = select_features(x_train, y_train, x_test)\n",
        "# what are scores for the features\n",
        "for i in range(len(fs.scores_)):\n",
        "\tprint('Feature %d: %f' % (i, fs.scores_[i]))\n",
        "plt.figure(figsize=(10,7))\n",
        "pyplot.bar([i for i in range(len(fs.scores_))], fs.scores_)\n",
        "pyplot.show()"
      ],
      "metadata": {
        "id": "pTVAjRMjBraB",
        "colab": {
          "base_uri": "https://localhost:8080/",
          "height": 1000
        },
        "outputId": "fc12b2b9-aa98-4580-c705-38439996da2a"
      },
      "execution_count": null,
      "outputs": [
        {
          "output_type": "stream",
          "name": "stdout",
          "text": [
            "Feature 0: 0.000000\n",
            "Feature 1: 1.122748\n",
            "Feature 2: 0.060085\n",
            "Feature 3: 0.052260\n",
            "Feature 4: 0.060969\n",
            "Feature 5: 0.043684\n",
            "Feature 6: 0.028727\n",
            "Feature 7: 0.013902\n",
            "Feature 8: 0.005078\n",
            "Feature 9: 0.004590\n",
            "Feature 10: 0.026450\n",
            "Feature 11: 0.010459\n",
            "Feature 12: 0.018444\n",
            "Feature 13: 0.009390\n",
            "Feature 14: 0.018746\n",
            "Feature 15: 0.009140\n",
            "Feature 16: 0.013228\n",
            "Feature 17: 0.008200\n",
            "Feature 18: 0.013155\n",
            "Feature 19: 0.016659\n",
            "Feature 20: 0.012634\n",
            "Feature 21: 0.012591\n",
            "Feature 22: 0.015515\n",
            "Feature 23: 0.002947\n",
            "Feature 24: 0.000000\n",
            "Feature 25: 0.000000\n",
            "Feature 26: 0.002059\n",
            "Feature 27: 0.022989\n",
            "Feature 28: 0.018441\n",
            "Feature 29: 0.021428\n",
            "Feature 30: 0.005191\n",
            "Feature 31: 0.010144\n",
            "Feature 32: 0.025980\n",
            "Feature 33: 0.010726\n",
            "Feature 34: 0.025195\n",
            "Feature 35: 0.013204\n",
            "Feature 36: 0.021547\n",
            "Feature 37: 0.000000\n",
            "Feature 38: 0.019572\n",
            "Feature 39: 0.009718\n",
            "Feature 40: 0.000000\n",
            "Feature 41: 0.012504\n",
            "Feature 42: 0.107182\n",
            "Feature 43: 0.008893\n",
            "Feature 44: 0.024911\n",
            "Feature 45: 0.012283\n",
            "Feature 46: 0.017447\n",
            "Feature 47: 0.003963\n",
            "Feature 48: 0.008982\n",
            "Feature 49: 0.007946\n",
            "Feature 50: 0.009148\n",
            "Feature 51: 0.010901\n",
            "Feature 52: 0.013632\n",
            "Feature 53: 0.002419\n",
            "Feature 54: 0.018691\n",
            "Feature 55: 0.010269\n"
          ]
        },
        {
          "output_type": "display_data",
          "data": {
            "image/png": "[encoded data removed]",
            "text/plain": [
              "<Figure size 720x504 with 1 Axes>"
            ]
          },
          "metadata": {
            "needs_background": "light"
          }
        }
      ]
    },
    {
      "cell_type": "markdown",
      "source": [
        "Fitting algorithms by using all the features and using MAE for validation"
      ],
      "metadata": {
        "id": "iiwtJ2o0E4AY"
      }
    },
    {
      "cell_type": "markdown",
      "source": [
        "Random Forest Regressor"
      ],
      "metadata": {
        "id": "KzxkLQw9FCba"
      }
    },
    {
      "cell_type": "code",
      "source": [
        "from sklearn.ensemble import RandomForestRegressor\n",
        "clf = RandomForestRegressor()"
      ],
      "metadata": {
        "id": "NT9y5syKByw7"
      },
      "execution_count": null,
      "outputs": []
    },
    {
      "cell_type": "code",
      "source": [
        "clf.fit(x_train, y_train)"
      ],
      "metadata": {
        "id": "rKI77bN5E_fR",
        "colab": {
          "base_uri": "https://localhost:8080/"
        },
        "outputId": "e0974e04-b6aa-411b-bbf3-60beb4d568ec"
      },
      "execution_count": null,
      "outputs": [
        {
          "output_type": "execute_result",
          "data": {
            "text/plain": [
              "RandomForestRegressor()"
            ]
          },
          "metadata": {},
          "execution_count": 36
        }
      ]
    },
    {
      "cell_type": "code",
      "source": [
        "from sklearn.metrics import mean_absolute_error"
      ],
      "metadata": {
        "id": "nBm9NjHIFBS7"
      },
      "execution_count": null,
      "outputs": []
    },
    {
      "cell_type": "code",
      "source": [
        "y_pred = clf.predict(x_test)"
      ],
      "metadata": {
        "id": "oVEdQI-QFP9c"
      },
      "execution_count": null,
      "outputs": []
    },
    {
      "cell_type": "code",
      "source": [
        "mae = mean_absolute_error(y_test, y_pred)\n",
        "mae"
      ],
      "metadata": {
        "id": "MjTxeC_FFSax",
        "colab": {
          "base_uri": "https://localhost:8080/"
        },
        "outputId": "f875d9d7-8211-4c97-94ee-e1ad2ad24168"
      },
      "execution_count": null,
      "outputs": [
        {
          "output_type": "execute_result",
          "data": {
            "text/plain": [
              "2498.274565596216"
            ]
          },
          "metadata": {},
          "execution_count": 39
        }
      ]
    },
    {
      "cell_type": "markdown",
      "source": [
        "Using Scaled Data"
      ],
      "metadata": {
        "id": "flfKRm17Fp-O"
      }
    },
    {
      "cell_type": "code",
      "source": [
        "scaler = StandardScaler()\n",
        "x_trainscaled = scaler.fit_transform(x_train)\n",
        "x_testscaled = scaler.transform(x_test)"
      ],
      "metadata": {
        "id": "msnS7nM9FdQP"
      },
      "execution_count": null,
      "outputs": []
    },
    {
      "cell_type": "code",
      "source": [
        "# randomForest on scaled data:\n",
        "clf1=RandomForestRegressor()\n",
        "clf1.fit(x_trainscaled,y_train)"
      ],
      "metadata": {
        "id": "ewzpdQ8bFrHZ",
        "colab": {
          "base_uri": "https://localhost:8080/"
        },
        "outputId": "5dd56c73-abd3-4826-88dd-83db107bc0ea"
      },
      "execution_count": null,
      "outputs": [
        {
          "output_type": "execute_result",
          "data": {
            "text/plain": [
              "RandomForestRegressor()"
            ]
          },
          "metadata": {},
          "execution_count": 41
        }
      ]
    },
    {
      "cell_type": "code",
      "source": [
        "ypredranscaled=clf1.predict(x_testscaled)\n",
        "mae_scaled= mean_absolute_error(y_test,ypredranscaled)"
      ],
      "metadata": {
        "id": "nMVN1Vk7FtUY"
      },
      "execution_count": null,
      "outputs": []
    },
    {
      "cell_type": "code",
      "source": [
        "mae_scaled"
      ],
      "metadata": {
        "id": "rHQE3J6HWUND",
        "colab": {
          "base_uri": "https://localhost:8080/"
        },
        "outputId": "d756ad32-5ff1-4539-8277-baa719beb4d6"
      },
      "execution_count": null,
      "outputs": [
        {
          "output_type": "execute_result",
          "data": {
            "text/plain": [
              "2464.712638785163"
            ]
          },
          "metadata": {},
          "execution_count": 43
        }
      ]
    },
    {
      "cell_type": "code",
      "source": [
        "random_root_mean_squared_list = [mae, mae_scaled]\n",
        "namerandom = ['Non Scaled', 'Scaled']\n",
        "# Graph for RandomForest Nonscaled vs NonScaled data:\n",
        "plt.bar(namerandom,random_root_mean_squared_list)\n",
        "plt.xlabel(\"Data\")\n",
        "plt.ylabel(\"Mean Absolute Error\")"
      ],
      "metadata": {
        "id": "JOV8FUfPF5z5",
        "colab": {
          "base_uri": "https://localhost:8080/",
          "height": 296
        },
        "outputId": "ff52eb79-0bd2-40b0-a433-4861a75ec615"
      },
      "execution_count": null,
      "outputs": [
        {
          "output_type": "execute_result",
          "data": {
            "text/plain": [
              "Text(0, 0.5, 'Mean Absolute Error')"
            ]
          },
          "metadata": {},
          "execution_count": 44
        },
        {
          "output_type": "display_data",
          "data": {
            "image/png": "[encoded data removed]",
            "text/plain": [
              "<Figure size 432x288 with 1 Axes>"
            ]
          },
          "metadata": {
            "needs_background": "light"
          }
        }
      ]
    },
    {
      "cell_type": "markdown",
      "source": [
        "Random Forest Regressor on Selected Features"
      ],
      "metadata": {
        "id": "yDro9aDMJVna"
      }
    },
    {
      "cell_type": "markdown",
      "source": [
        "Model built using Mutual Information Features"
      ],
      "metadata": {
        "id": "8v-D5MY4JdOi"
      }
    },
    {
      "cell_type": "code",
      "source": [
        "from sklearn.model_selection import RepeatedKFold\n",
        "from sklearn.model_selection import GridSearchCV"
      ],
      "metadata": {
        "id": "xoxaE2HlLRw-"
      },
      "execution_count": null,
      "outputs": []
    },
    {
      "cell_type": "code",
      "source": [
        "import sklearn"
      ],
      "metadata": {
        "id": "z4KZ2IHPMdQt"
      },
      "execution_count": null,
      "outputs": []
    },
    {
      "cell_type": "code",
      "source": [
        "sklearn.metrics.SCORERS.keys()"
      ],
      "metadata": {
        "id": "qL0hdXLIMYvw",
        "colab": {
          "base_uri": "https://localhost:8080/"
        },
        "outputId": "4d752c1e-7928-451c-8909-ce61596f77ce"
      },
      "execution_count": null,
      "outputs": [
        {
          "output_type": "execute_result",
          "data": {
            "text/plain": [
              "dict_keys(['explained_variance', 'r2', 'max_error', 'neg_median_absolute_error', 'neg_mean_absolute_error', 'neg_mean_absolute_percentage_error', 'neg_mean_squared_error', 'neg_mean_squared_log_error', 'neg_root_mean_squared_error', 'neg_mean_poisson_deviance', 'neg_mean_gamma_deviance', 'accuracy', 'top_k_accuracy', 'roc_auc', 'roc_auc_ovr', 'roc_auc_ovo', 'roc_auc_ovr_weighted', 'roc_auc_ovo_weighted', 'balanced_accuracy', 'average_precision', 'neg_log_loss', 'neg_brier_score', 'adjusted_rand_score', 'rand_score', 'homogeneity_score', 'completeness_score', 'v_measure_score', 'mutual_info_score', 'adjusted_mutual_info_score', 'normalized_mutual_info_score', 'fowlkes_mallows_score', 'precision', 'precision_macro', 'precision_micro', 'precision_samples', 'precision_weighted', 'recall', 'recall_macro', 'recall_micro', 'recall_samples', 'recall_weighted', 'f1', 'f1_macro', 'f1_micro', 'f1_samples', 'f1_weighted', 'jaccard', 'jaccard_macro', 'jaccard_micro', 'jaccard_samples', 'jaccard_weighted'])"
            ]
          },
          "metadata": {},
          "execution_count": 47
        }
      ]
    },
    {
      "cell_type": "code",
      "source": [
        "rfc = RandomForestRegressor()\n",
        "para_grid = {\n",
        "    'n_estimators' : [20, 50, 100], \n",
        "}\n",
        "cv_rfc = GridSearchCV(estimator = rfc, param_grid = para_grid, cv = 3)\n",
        "cv_rfc.fit(x_trainscaled, y_train)"
      ],
      "metadata": {
        "id": "5iNll7W6Lnrr",
        "colab": {
          "base_uri": "https://localhost:8080/"
        },
        "outputId": "a3c255e6-6cd7-4872-96c0-5bae04e90ca3"
      },
      "execution_count": null,
      "outputs": [
        {
          "output_type": "execute_result",
          "data": {
            "text/plain": [
              "GridSearchCV(cv=3, estimator=RandomForestRegressor(),\n",
              "             param_grid={'n_estimators': [20, 50, 100]})"
            ]
          },
          "metadata": {},
          "execution_count": 48
        }
      ]
    },
    {
      "cell_type": "code",
      "source": [
        "yp1=cv_rfc.predict(x_testscaled)\n",
        "mae1=mean_absolute_error(yp1,y_test)\n",
        "mae1"
      ],
      "metadata": {
        "id": "LzL0oXBHKh7U",
        "colab": {
          "base_uri": "https://localhost:8080/"
        },
        "outputId": "97b61370-5a38-45a4-d840-bc6856b0c7e1"
      },
      "execution_count": null,
      "outputs": [
        {
          "output_type": "execute_result",
          "data": {
            "text/plain": [
              "2592.644161065472"
            ]
          },
          "metadata": {},
          "execution_count": 49
        }
      ]
    },
    {
      "cell_type": "code",
      "source": [
        "from sklearn.linear_model import LinearRegression\n",
        "clf_linear = LinearRegression()\n",
        "clf_linear.fit(x_train, y_train)\n",
        "ypredlinear = clf_linear.predict(x_test)\n",
        "maelinear=mean_absolute_error(y_test, ypredlinear)\n",
        "print(maelinear)\n",
        "# on scaled data:\n",
        "clf_linearscaled = LinearRegression()\n",
        "clf_linearscaled.fit(x_trainscaled, y_train)\n",
        "ypredlinearscaled = clf_linearscaled.predict(x_testscaled)\n",
        "maelinearscaled=mean_absolute_error(y_test, ypredlinearscaled)\n",
        "print(maelinearscaled)"
      ],
      "metadata": {
        "colab": {
          "base_uri": "https://localhost:8080/"
        },
        "id": "hpf1E-hIqtMF",
        "outputId": "a6b8ac35-ca67-4710-d15c-2deb73ce7fa5"
      },
      "execution_count": null,
      "outputs": [
        {
          "output_type": "stream",
          "name": "stdout",
          "text": [
            "5844.2102609678\n",
            "1088318631589.9744\n"
          ]
        }
      ]
    },
    {
      "cell_type": "code",
      "source": [
        "linearmeanlist = [maelinear, maelinearscaled]\n",
        "namerandom = ['Non Scaled', 'Scaled']\n",
        "plt.bar(namerandom,linearmeanlist)\n",
        "plt.xlabel(\"Data\")\n",
        "plt.ylabel(\"Mean Absolute Error\")"
      ],
      "metadata": {
        "colab": {
          "base_uri": "https://localhost:8080/",
          "height": 307
        },
        "id": "J_z5b0l8q0Eb",
        "outputId": "263189df-daa8-4064-f6d6-4c61b69166c2"
      },
      "execution_count": null,
      "outputs": [
        {
          "output_type": "execute_result",
          "data": {
            "text/plain": [
              "Text(0, 0.5, 'Mean Absolute Error')"
            ]
          },
          "metadata": {},
          "execution_count": 51
        },
        {
          "output_type": "display_data",
          "data": {
            "image/png": "[encoded data removed]",
            "text/plain": [
              "<Figure size 432x288 with 1 Axes>"
            ]
          },
          "metadata": {
            "needs_background": "light"
          }
        }
      ]
    },
    {
      "cell_type": "code",
      "source": [
        "#KNN neighbor\n",
        "from sklearn.neighbors import KNeighborsRegressor\n",
        "clfKNN = KNeighborsRegressor(n_neighbors = 3, algorithm = 'ball_tree')\n",
        "clfKNN.fit(x_train, y_train)\n",
        "ypredknn = clfKNN.predict(x_test)\n",
        "knnmae=mean_absolute_error(y_test, ypredknn)\n",
        "print(knnmae)"
      ],
      "metadata": {
        "colab": {
          "base_uri": "https://localhost:8080/"
        },
        "id": "z3t9NKSiq2hB",
        "outputId": "dbf4015d-afb1-49de-dd98-53d9833bd68e"
      },
      "execution_count": null,
      "outputs": [
        {
          "output_type": "stream",
          "name": "stdout",
          "text": [
            "4100.36282922579\n"
          ]
        }
      ]
    },
    {
      "cell_type": "code",
      "source": [
        "clfKNN1 = KNeighborsRegressor(n_neighbors = 3, algorithm = 'ball_tree')\n",
        "clfKNN1.fit(x_trainscaled, y_train)\n",
        "ypredknnscaled = clfKNN1.predict(x_testscaled)\n",
        "knnmaescaled=mean_absolute_error(y_test, ypredknnscaled)\n",
        "print(knnmaescaled)\n",
        "knnmeanlist = [knnmae, knnmaescaled]\n",
        "namerandom = ['Non Scaled', 'Scaled']\n",
        "plt.bar(namerandom,knnmeanlist)\n",
        "plt.xlabel(\"Data\")\n",
        "plt.ylabel(\"Mean Absolute Error\")"
      ],
      "metadata": {
        "colab": {
          "base_uri": "https://localhost:8080/",
          "height": 314
        },
        "id": "W2_UBYZBrFUO",
        "outputId": "25e20fb4-f511-423f-9562-ae365255cdba"
      },
      "execution_count": null,
      "outputs": [
        {
          "output_type": "stream",
          "name": "stdout",
          "text": [
            "2976.5988262384863\n"
          ]
        },
        {
          "output_type": "execute_result",
          "data": {
            "text/plain": [
              "Text(0, 0.5, 'Mean Absolute Error')"
            ]
          },
          "metadata": {},
          "execution_count": 53
        },
        {
          "output_type": "display_data",
          "data": {
            "image/png": "[encoded data removed]",
            "text/plain": [
              "<Figure size 432x288 with 1 Axes>"
            ]
          },
          "metadata": {
            "needs_background": "light"
          }
        }
      ]
    },
    {
      "cell_type": "code",
      "source": [
        "# testing on diff neighbors:\n",
        "x_ax = []\n",
        "y_ax = []\n",
        "for i in range(1, 50, 2):\n",
        "    clfk = KNeighborsRegressor(n_neighbors = i, algorithm='ball_tree')\n",
        "    clfk.fit(x_trainscaled, y_train)\n",
        "    ypredk = clfk.predict(x_testscaled)\n",
        "    mae = mean_absolute_error(y_test, ypredk)\n",
        "    print(mae)\n",
        "    x_ax.append(i)\n",
        "    y_ax.append(mae)"
      ],
      "metadata": {
        "colab": {
          "base_uri": "https://localhost:8080/"
        },
        "id": "VMOQfYiKrMky",
        "outputId": "8f4e5f1a-3147-41af-8112-a39344f8556a"
      },
      "execution_count": null,
      "outputs": [
        {
          "output_type": "stream",
          "name": "stdout",
          "text": [
            "3443.3778902165795\n",
            "2976.5988262384863\n",
            "2855.0206833457805\n",
            "2914.1918772004697\n",
            "2959.56165090034\n",
            "3024.2555804874737\n",
            "3121.4138240363072\n",
            "3204.2716168782677\n",
            "3257.8847214778366\n",
            "3324.429303289965\n",
            "3410.7030440271706\n",
            "3543.996586842874\n",
            "3641.9863293502617\n",
            "3709.1957891461293\n",
            "3798.419570832582\n",
            "3819.174958322291\n",
            "3814.976459931654\n",
            "3859.3915891390157\n",
            "3903.1669825202353\n",
            "3929.2680589226557\n",
            "3946.411579354815\n",
            "3976.978659621029\n",
            "4001.299349016679\n",
            "4027.6918590405667\n",
            "4049.4157725838654\n"
          ]
        }
      ]
    },
    {
      "cell_type": "code",
      "source": [
        "plt.plot(x_ax,y_ax)\n",
        "plt.xlabel('No Of Neighbors')\n",
        "plt.ylabel('Mean Absolute Error')"
      ],
      "metadata": {
        "colab": {
          "base_uri": "https://localhost:8080/",
          "height": 296
        },
        "id": "MCtSZTNcrRg4",
        "outputId": "7d4e9d10-ec5c-48c4-8be7-28a14279d94e"
      },
      "execution_count": null,
      "outputs": [
        {
          "output_type": "execute_result",
          "data": {
            "text/plain": [
              "Text(0, 0.5, 'Mean Absolute Error')"
            ]
          },
          "metadata": {},
          "execution_count": 55
        },
        {
          "output_type": "display_data",
          "data": {
            "image/png": "[encoded data removed]",
            "text/plain": [
              "<Figure size 432x288 with 1 Axes>"
            ]
          },
          "metadata": {
            "needs_background": "light"
          }
        }
      ]
    },
    {
      "cell_type": "code",
      "source": [
        "from sklearn.linear_model import SGDRegressor\n",
        "clfsgd1=SGDRegressor()\n",
        "clfsgd1.fit(x_trainscaled,y_train)"
      ],
      "metadata": {
        "colab": {
          "base_uri": "https://localhost:8080/"
        },
        "id": "Te7T7G9drT_D",
        "outputId": "3c199720-affe-405b-d947-c3cf8c33ad31"
      },
      "execution_count": null,
      "outputs": [
        {
          "output_type": "execute_result",
          "data": {
            "text/plain": [
              "SGDRegressor()"
            ]
          },
          "metadata": {},
          "execution_count": 56
        }
      ]
    },
    {
      "cell_type": "code",
      "source": [
        "ypredsgdscaled=clfsgd1.predict(x_testscaled)\n",
        "maesgdscaled=mean_absolute_error(ypredsgdscaled,y_test)\n",
        "print(maesgdscaled)\n",
        "clfsgd2=SGDRegressor()\n",
        "clfsgd2.fit(x_train,y_train)\n",
        "ypredsgd=clfsgd2.predict(x_test)\n",
        "maesgd=mean_absolute_error(ypredsgd,y_test)\n",
        "print(maesgd)"
      ],
      "metadata": {
        "colab": {
          "base_uri": "https://localhost:8080/"
        },
        "id": "VSeAGKkArqGd",
        "outputId": "716590c6-9642-4e6c-ec22-8423b8dd41f4"
      },
      "execution_count": null,
      "outputs": [
        {
          "output_type": "stream",
          "name": "stdout",
          "text": [
            "66548.99238092538\n",
            "9.664195009985814e+16\n"
          ]
        }
      ]
    },
    {
      "cell_type": "code",
      "source": [
        "sgdmeanlist = [maesgd, maesgdscaled]\n",
        "namerandom = ['Non Scaled', 'Scaled']\n",
        "plt.bar(namerandom,sgdmeanlist)\n",
        "plt.xlabel(\"Data\")\n",
        "plt.ylabel(\"Mean Absolute Error\")"
      ],
      "metadata": {
        "colab": {
          "base_uri": "https://localhost:8080/",
          "height": 307
        },
        "id": "MHC2fH2Xr2aD",
        "outputId": "5ef26d8d-6a80-45ce-91dd-37c6d8468636"
      },
      "execution_count": null,
      "outputs": [
        {
          "output_type": "execute_result",
          "data": {
            "text/plain": [
              "Text(0, 0.5, 'Mean Absolute Error')"
            ]
          },
          "metadata": {},
          "execution_count": 58
        },
        {
          "output_type": "display_data",
          "data": {
            "image/png": "[encoded data removed]",
            "text/plain": [
              "<Figure size 432x288 with 1 Axes>"
            ]
          },
          "metadata": {
            "needs_background": "light"
          }
        }
      ]
    },
    {
      "cell_type": "code",
      "source": [
        "model = Sequential()\n",
        "model.add(Dense(256, input_dim = 56, activation='relu'))\n",
        "model.add(Dense(128, activation='relu'))\n",
        "model.add(Dropout(0.2))\n",
        "model.add(Dense(512, activation='relu'))\n",
        "model.add(Dense(256, activation='relu'))\n",
        "model.add(Dropout(0.2))\n",
        "model.add(Dense(128, activation='relu'))\n",
        "model.add(Dense(64, activation='relu'))\n",
        "model.add(Dense(1, activation='relu'))\n",
        "model.compile(loss='mean_absolute_error', optimizer='adam',metrics=['accuracy'])"
      ],
      "metadata": {
        "id": "wRKVJyvQr79i"
      },
      "execution_count": null,
      "outputs": []
    },
    {
      "cell_type": "code",
      "source": [
        "history=model.fit(x_trainscaled, y_train, epochs=200, batch_size=64)"
      ],
      "metadata": {
        "colab": {
          "base_uri": "https://localhost:8080/"
        },
        "id": "ncw34qEQsZut",
        "outputId": "72baaaed-3208-4ba7-bc24-36bc64f222ff"
      },
      "execution_count": null,
      "outputs": [
        {
          "output_type": "stream",
          "name": "stdout",
          "text": [
            "Epoch 1/200\n",
            "126/126 [==============================] - 3s 5ms/step - loss: 7370.0088 - accuracy: 0.0296\n",
            "Epoch 2/200\n",
            "126/126 [==============================] - 1s 4ms/step - loss: 3572.0847 - accuracy: 0.0296\n",
            "Epoch 3/200\n",
            "126/126 [==============================] - 1s 5ms/step - loss: 3216.7561 - accuracy: 0.0298\n",
            "Epoch 4/200\n",
            "126/126 [==============================] - 1s 4ms/step - loss: 3018.8215 - accuracy: 0.0298\n",
            "Epoch 5/200\n",
            "126/126 [==============================] - 1s 5ms/step - loss: 2868.3953 - accuracy: 0.0298\n",
            "Epoch 6/200\n",
            "126/126 [==============================] - 1s 5ms/step - loss: 2767.4260 - accuracy: 0.0298\n",
            "Epoch 7/200\n",
            "126/126 [==============================] - 1s 5ms/step - loss: 2715.4502 - accuracy: 0.0298\n",
            "Epoch 8/200\n",
            "126/126 [==============================] - 1s 5ms/step - loss: 2802.6394 - accuracy: 0.0299\n",
            "Epoch 9/200\n",
            "126/126 [==============================] - 1s 5ms/step - loss: 2575.1931 - accuracy: 0.0298\n",
            "Epoch 10/200\n",
            "126/126 [==============================] - 1s 5ms/step - loss: 2701.1646 - accuracy: 0.0298\n",
            "Epoch 11/200\n",
            "126/126 [==============================] - 1s 5ms/step - loss: 2561.0635 - accuracy: 0.0303\n",
            "Epoch 12/200\n",
            "126/126 [==============================] - 1s 4ms/step - loss: 2447.5483 - accuracy: 0.0306\n",
            "Epoch 13/200\n",
            "126/126 [==============================] - 1s 5ms/step - loss: 2514.7559 - accuracy: 0.0313\n",
            "Epoch 14/200\n",
            "126/126 [==============================] - 1s 5ms/step - loss: 2471.4558 - accuracy: 0.0316\n",
            "Epoch 15/200\n",
            "126/126 [==============================] - 1s 5ms/step - loss: 2424.7542 - accuracy: 0.0308\n",
            "Epoch 16/200\n",
            "126/126 [==============================] - 1s 5ms/step - loss: 2555.2495 - accuracy: 0.0319\n",
            "Epoch 17/200\n",
            "126/126 [==============================] - 1s 5ms/step - loss: 2408.2317 - accuracy: 0.0316\n",
            "Epoch 18/200\n",
            "126/126 [==============================] - 1s 5ms/step - loss: 2370.5071 - accuracy: 0.0321\n",
            "Epoch 19/200\n",
            "126/126 [==============================] - 1s 5ms/step - loss: 2440.1868 - accuracy: 0.0313\n",
            "Epoch 20/200\n",
            "126/126 [==============================] - 1s 5ms/step - loss: 2381.5027 - accuracy: 0.0313\n",
            "Epoch 21/200\n",
            "126/126 [==============================] - 1s 5ms/step - loss: 2481.6426 - accuracy: 0.0323\n",
            "Epoch 22/200\n",
            "126/126 [==============================] - 1s 4ms/step - loss: 2403.0940 - accuracy: 0.0320\n",
            "Epoch 23/200\n",
            "126/126 [==============================] - 1s 5ms/step - loss: 2417.6765 - accuracy: 0.0331\n",
            "Epoch 24/200\n",
            "126/126 [==============================] - 1s 5ms/step - loss: 2401.1121 - accuracy: 0.0321\n",
            "Epoch 25/200\n",
            "126/126 [==============================] - 1s 5ms/step - loss: 2350.4968 - accuracy: 0.0331\n",
            "Epoch 26/200\n",
            "126/126 [==============================] - 1s 4ms/step - loss: 2238.2476 - accuracy: 0.0334\n",
            "Epoch 27/200\n",
            "126/126 [==============================] - 1s 5ms/step - loss: 2291.6106 - accuracy: 0.0330\n",
            "Epoch 28/200\n",
            "126/126 [==============================] - 1s 5ms/step - loss: 2203.6353 - accuracy: 0.0337\n",
            "Epoch 29/200\n",
            "126/126 [==============================] - 1s 5ms/step - loss: 2322.6990 - accuracy: 0.0329\n",
            "Epoch 30/200\n",
            "126/126 [==============================] - 1s 5ms/step - loss: 2266.4385 - accuracy: 0.0337\n",
            "Epoch 31/200\n",
            "126/126 [==============================] - 1s 5ms/step - loss: 2303.9233 - accuracy: 0.0340\n",
            "Epoch 32/200\n",
            "126/126 [==============================] - 1s 5ms/step - loss: 2290.6523 - accuracy: 0.0340\n",
            "Epoch 33/200\n",
            "126/126 [==============================] - 1s 5ms/step - loss: 2326.7900 - accuracy: 0.0329\n",
            "Epoch 34/200\n",
            "126/126 [==============================] - 1s 5ms/step - loss: 2138.0371 - accuracy: 0.0340\n",
            "Epoch 35/200\n",
            "126/126 [==============================] - 1s 5ms/step - loss: 2235.8137 - accuracy: 0.0336\n",
            "Epoch 36/200\n",
            "126/126 [==============================] - 1s 4ms/step - loss: 2591.4097 - accuracy: 0.0326\n",
            "Epoch 37/200\n",
            "126/126 [==============================] - 1s 5ms/step - loss: 2171.9302 - accuracy: 0.0334\n",
            "Epoch 38/200\n",
            "126/126 [==============================] - 1s 5ms/step - loss: 2234.1519 - accuracy: 0.0342\n",
            "Epoch 39/200\n",
            "126/126 [==============================] - 1s 5ms/step - loss: 2233.7327 - accuracy: 0.0332\n",
            "Epoch 40/200\n",
            "126/126 [==============================] - 1s 5ms/step - loss: 2137.2371 - accuracy: 0.0334\n",
            "Epoch 41/200\n",
            "126/126 [==============================] - 1s 5ms/step - loss: 2259.5723 - accuracy: 0.0334\n",
            "Epoch 42/200\n",
            "126/126 [==============================] - 1s 5ms/step - loss: 2322.9397 - accuracy: 0.0342\n",
            "Epoch 43/200\n",
            "126/126 [==============================] - 1s 5ms/step - loss: 2264.6062 - accuracy: 0.0332\n",
            "Epoch 44/200\n",
            "126/126 [==============================] - 1s 5ms/step - loss: 2101.5356 - accuracy: 0.0347\n",
            "Epoch 45/200\n",
            "126/126 [==============================] - 1s 5ms/step - loss: 2198.2766 - accuracy: 0.0339\n",
            "Epoch 46/200\n",
            "126/126 [==============================] - 1s 5ms/step - loss: 2109.5115 - accuracy: 0.0342\n",
            "Epoch 47/200\n",
            "126/126 [==============================] - 1s 6ms/step - loss: 2158.1921 - accuracy: 0.0344\n",
            "Epoch 48/200\n",
            "126/126 [==============================] - 1s 5ms/step - loss: 2131.1926 - accuracy: 0.0331\n",
            "Epoch 49/200\n",
            "126/126 [==============================] - 1s 5ms/step - loss: 2224.3728 - accuracy: 0.0336\n",
            "Epoch 50/200\n",
            "126/126 [==============================] - 1s 5ms/step - loss: 2146.1794 - accuracy: 0.0340\n",
            "Epoch 51/200\n",
            "126/126 [==============================] - 1s 5ms/step - loss: 2121.7410 - accuracy: 0.0335\n",
            "Epoch 52/200\n",
            "126/126 [==============================] - 1s 5ms/step - loss: 2025.1427 - accuracy: 0.0340\n",
            "Epoch 53/200\n",
            "126/126 [==============================] - 1s 5ms/step - loss: 2093.9810 - accuracy: 0.0335\n",
            "Epoch 54/200\n",
            "126/126 [==============================] - 1s 4ms/step - loss: 2105.6580 - accuracy: 0.0341\n",
            "Epoch 55/200\n",
            "126/126 [==============================] - 1s 5ms/step - loss: 2066.9658 - accuracy: 0.0344\n",
            "Epoch 56/200\n",
            "126/126 [==============================] - 1s 4ms/step - loss: 1988.3314 - accuracy: 0.0330\n",
            "Epoch 57/200\n",
            "126/126 [==============================] - 1s 4ms/step - loss: 2035.6504 - accuracy: 0.0339\n",
            "Epoch 58/200\n",
            "126/126 [==============================] - 1s 4ms/step - loss: 2049.7959 - accuracy: 0.0342\n",
            "Epoch 59/200\n",
            "126/126 [==============================] - 1s 5ms/step - loss: 1989.8030 - accuracy: 0.0341\n",
            "Epoch 60/200\n",
            "126/126 [==============================] - 1s 4ms/step - loss: 2032.6223 - accuracy: 0.0339\n",
            "Epoch 61/200\n",
            "126/126 [==============================] - 1s 5ms/step - loss: 1993.1429 - accuracy: 0.0337\n",
            "Epoch 62/200\n",
            "126/126 [==============================] - 1s 5ms/step - loss: 2141.7498 - accuracy: 0.0340\n",
            "Epoch 63/200\n",
            "126/126 [==============================] - 1s 5ms/step - loss: 1948.0374 - accuracy: 0.0332\n",
            "Epoch 64/200\n",
            "126/126 [==============================] - 1s 5ms/step - loss: 2102.9441 - accuracy: 0.0334\n",
            "Epoch 65/200\n",
            "126/126 [==============================] - 1s 5ms/step - loss: 1983.6501 - accuracy: 0.0341\n",
            "Epoch 66/200\n",
            "126/126 [==============================] - 1s 5ms/step - loss: 1955.9513 - accuracy: 0.0341\n",
            "Epoch 67/200\n",
            "126/126 [==============================] - 1s 4ms/step - loss: 2016.6368 - accuracy: 0.0331\n",
            "Epoch 68/200\n",
            "126/126 [==============================] - 1s 4ms/step - loss: 1858.3857 - accuracy: 0.0340\n",
            "Epoch 69/200\n",
            "126/126 [==============================] - 1s 5ms/step - loss: 2088.3494 - accuracy: 0.0341\n",
            "Epoch 70/200\n",
            "126/126 [==============================] - 1s 5ms/step - loss: 2011.6228 - accuracy: 0.0335\n",
            "Epoch 71/200\n",
            "126/126 [==============================] - 1s 5ms/step - loss: 1862.8947 - accuracy: 0.0336\n",
            "Epoch 72/200\n",
            "126/126 [==============================] - 1s 5ms/step - loss: 2037.3766 - accuracy: 0.0336\n",
            "Epoch 73/200\n",
            "126/126 [==============================] - 1s 5ms/step - loss: 1951.0835 - accuracy: 0.0336\n",
            "Epoch 74/200\n",
            "126/126 [==============================] - 1s 5ms/step - loss: 2005.4865 - accuracy: 0.0342\n",
            "Epoch 75/200\n",
            "126/126 [==============================] - 1s 4ms/step - loss: 1903.6646 - accuracy: 0.0331\n",
            "Epoch 76/200\n",
            "126/126 [==============================] - 1s 5ms/step - loss: 1791.0161 - accuracy: 0.0336\n",
            "Epoch 77/200\n",
            "126/126 [==============================] - 1s 4ms/step - loss: 1921.1155 - accuracy: 0.0342\n",
            "Epoch 78/200\n",
            "126/126 [==============================] - 1s 5ms/step - loss: 1984.6908 - accuracy: 0.0344\n",
            "Epoch 79/200\n",
            "126/126 [==============================] - 1s 5ms/step - loss: 1934.9722 - accuracy: 0.0344\n",
            "Epoch 80/200\n",
            "126/126 [==============================] - 1s 5ms/step - loss: 1753.2715 - accuracy: 0.0341\n",
            "Epoch 81/200\n",
            "126/126 [==============================] - 1s 5ms/step - loss: 1871.5583 - accuracy: 0.0336\n",
            "Epoch 82/200\n",
            "126/126 [==============================] - 1s 5ms/step - loss: 1967.7896 - accuracy: 0.0339\n",
            "Epoch 83/200\n",
            "126/126 [==============================] - 1s 5ms/step - loss: 1824.5044 - accuracy: 0.0341\n",
            "Epoch 84/200\n",
            "126/126 [==============================] - 1s 5ms/step - loss: 1980.9288 - accuracy: 0.0342\n",
            "Epoch 85/200\n",
            "126/126 [==============================] - 1s 5ms/step - loss: 1862.0511 - accuracy: 0.0344\n",
            "Epoch 86/200\n",
            "126/126 [==============================] - 1s 5ms/step - loss: 1992.6705 - accuracy: 0.0341\n",
            "Epoch 87/200\n",
            "126/126 [==============================] - 1s 5ms/step - loss: 1819.6315 - accuracy: 0.0349\n",
            "Epoch 88/200\n",
            "126/126 [==============================] - 1s 4ms/step - loss: 1856.3026 - accuracy: 0.0345\n",
            "Epoch 89/200\n",
            "126/126 [==============================] - 1s 5ms/step - loss: 1800.7722 - accuracy: 0.0339\n",
            "Epoch 90/200\n",
            "126/126 [==============================] - 1s 5ms/step - loss: 1930.3916 - accuracy: 0.0345\n",
            "Epoch 91/200\n",
            "126/126 [==============================] - 1s 5ms/step - loss: 1785.4822 - accuracy: 0.0336\n",
            "Epoch 92/200\n",
            "126/126 [==============================] - 1s 4ms/step - loss: 1778.2802 - accuracy: 0.0340\n",
            "Epoch 93/200\n",
            "126/126 [==============================] - 1s 4ms/step - loss: 1794.9515 - accuracy: 0.0339\n",
            "Epoch 94/200\n",
            "126/126 [==============================] - 1s 5ms/step - loss: 1802.4568 - accuracy: 0.0336\n",
            "Epoch 95/200\n",
            "126/126 [==============================] - 1s 5ms/step - loss: 1673.2866 - accuracy: 0.0341\n",
            "Epoch 96/200\n",
            "126/126 [==============================] - 1s 5ms/step - loss: 1991.4983 - accuracy: 0.0332\n",
            "Epoch 97/200\n",
            "126/126 [==============================] - 1s 5ms/step - loss: 1769.2319 - accuracy: 0.0341\n",
            "Epoch 98/200\n",
            "126/126 [==============================] - 1s 5ms/step - loss: 1877.4868 - accuracy: 0.0339\n",
            "Epoch 99/200\n",
            "126/126 [==============================] - 1s 5ms/step - loss: 1883.5939 - accuracy: 0.0344\n",
            "Epoch 100/200\n",
            "126/126 [==============================] - 1s 5ms/step - loss: 1867.9620 - accuracy: 0.0342\n",
            "Epoch 101/200\n",
            "126/126 [==============================] - 1s 5ms/step - loss: 1707.8130 - accuracy: 0.0340\n",
            "Epoch 102/200\n",
            "126/126 [==============================] - 1s 4ms/step - loss: 1888.5673 - accuracy: 0.0344\n",
            "Epoch 103/200\n",
            "126/126 [==============================] - 1s 5ms/step - loss: 1862.0892 - accuracy: 0.0339\n",
            "Epoch 104/200\n",
            "126/126 [==============================] - 1s 5ms/step - loss: 1845.2504 - accuracy: 0.0346\n",
            "Epoch 105/200\n",
            "126/126 [==============================] - 1s 5ms/step - loss: 1857.3094 - accuracy: 0.0341\n",
            "Epoch 106/200\n",
            "126/126 [==============================] - 1s 5ms/step - loss: 1758.5088 - accuracy: 0.0344\n",
            "Epoch 107/200\n",
            "126/126 [==============================] - 1s 5ms/step - loss: 1916.5615 - accuracy: 0.0342\n",
            "Epoch 108/200\n",
            "126/126 [==============================] - 1s 5ms/step - loss: 1831.3586 - accuracy: 0.0349\n",
            "Epoch 109/200\n",
            "126/126 [==============================] - 1s 5ms/step - loss: 1805.3483 - accuracy: 0.0345\n",
            "Epoch 110/200\n",
            "126/126 [==============================] - 1s 5ms/step - loss: 1730.5895 - accuracy: 0.0331\n",
            "Epoch 111/200\n",
            "126/126 [==============================] - 1s 5ms/step - loss: 1791.6533 - accuracy: 0.0344\n",
            "Epoch 112/200\n",
            "126/126 [==============================] - 1s 5ms/step - loss: 1906.2957 - accuracy: 0.0342\n",
            "Epoch 113/200\n",
            "126/126 [==============================] - 1s 5ms/step - loss: 1703.6597 - accuracy: 0.0344\n",
            "Epoch 114/200\n",
            "126/126 [==============================] - 1s 5ms/step - loss: 1776.9713 - accuracy: 0.0342\n",
            "Epoch 115/200\n",
            "126/126 [==============================] - 1s 5ms/step - loss: 1696.1561 - accuracy: 0.0345\n",
            "Epoch 116/200\n",
            "126/126 [==============================] - 1s 5ms/step - loss: 1720.1228 - accuracy: 0.0340\n",
            "Epoch 117/200\n",
            "126/126 [==============================] - 1s 4ms/step - loss: 1767.0480 - accuracy: 0.0340\n",
            "Epoch 118/200\n",
            "126/126 [==============================] - 1s 4ms/step - loss: 1721.5271 - accuracy: 0.0341\n",
            "Epoch 119/200\n",
            "126/126 [==============================] - 1s 5ms/step - loss: 1739.6296 - accuracy: 0.0339\n",
            "Epoch 120/200\n",
            "126/126 [==============================] - 1s 5ms/step - loss: 1757.9807 - accuracy: 0.0342\n",
            "Epoch 121/200\n",
            "126/126 [==============================] - 1s 5ms/step - loss: 1745.2976 - accuracy: 0.0344\n",
            "Epoch 122/200\n",
            "126/126 [==============================] - 1s 5ms/step - loss: 1652.3573 - accuracy: 0.0339\n",
            "Epoch 123/200\n",
            "126/126 [==============================] - 1s 5ms/step - loss: 1774.3073 - accuracy: 0.0337\n",
            "Epoch 124/200\n",
            "126/126 [==============================] - 1s 5ms/step - loss: 1768.9141 - accuracy: 0.0336\n",
            "Epoch 125/200\n",
            "126/126 [==============================] - 1s 5ms/step - loss: 1809.7253 - accuracy: 0.0345\n",
            "Epoch 126/200\n",
            "126/126 [==============================] - 1s 5ms/step - loss: 1810.0643 - accuracy: 0.0340\n",
            "Epoch 127/200\n",
            "126/126 [==============================] - 1s 5ms/step - loss: 1719.3016 - accuracy: 0.0344\n",
            "Epoch 128/200\n",
            "126/126 [==============================] - 1s 5ms/step - loss: 1844.7899 - accuracy: 0.0345\n",
            "Epoch 129/200\n",
            "126/126 [==============================] - 1s 5ms/step - loss: 1706.0482 - accuracy: 0.0346\n",
            "Epoch 130/200\n",
            "126/126 [==============================] - 1s 5ms/step - loss: 1730.2147 - accuracy: 0.0342\n",
            "Epoch 131/200\n",
            "126/126 [==============================] - 1s 5ms/step - loss: 1710.5450 - accuracy: 0.0345\n",
            "Epoch 132/200\n",
            "126/126 [==============================] - 1s 5ms/step - loss: 1703.6722 - accuracy: 0.0340\n",
            "Epoch 133/200\n",
            "126/126 [==============================] - 1s 5ms/step - loss: 1751.0355 - accuracy: 0.0340\n",
            "Epoch 134/200\n",
            "126/126 [==============================] - 1s 5ms/step - loss: 1702.5781 - accuracy: 0.0339\n",
            "Epoch 135/200\n",
            "126/126 [==============================] - 1s 5ms/step - loss: 1650.2943 - accuracy: 0.0330\n",
            "Epoch 136/200\n",
            "126/126 [==============================] - 1s 5ms/step - loss: 1760.7635 - accuracy: 0.0340\n",
            "Epoch 137/200\n",
            "126/126 [==============================] - 1s 5ms/step - loss: 1765.4524 - accuracy: 0.0335\n",
            "Epoch 138/200\n",
            "126/126 [==============================] - 1s 5ms/step - loss: 1852.6084 - accuracy: 0.0341\n",
            "Epoch 139/200\n",
            "126/126 [==============================] - 1s 5ms/step - loss: 1692.0978 - accuracy: 0.0344\n",
            "Epoch 140/200\n",
            "126/126 [==============================] - 1s 5ms/step - loss: 1695.2523 - accuracy: 0.0340\n",
            "Epoch 141/200\n",
            "126/126 [==============================] - 1s 5ms/step - loss: 1864.5334 - accuracy: 0.0345\n",
            "Epoch 142/200\n",
            "126/126 [==============================] - 1s 5ms/step - loss: 1716.9055 - accuracy: 0.0334\n",
            "Epoch 143/200\n",
            "126/126 [==============================] - 1s 5ms/step - loss: 1684.8336 - accuracy: 0.0344\n",
            "Epoch 144/200\n",
            "126/126 [==============================] - 1s 5ms/step - loss: 1543.8010 - accuracy: 0.0340\n",
            "Epoch 145/200\n",
            "126/126 [==============================] - 1s 5ms/step - loss: 1760.8533 - accuracy: 0.0339\n",
            "Epoch 146/200\n",
            "126/126 [==============================] - 1s 5ms/step - loss: 1758.8955 - accuracy: 0.0341\n",
            "Epoch 147/200\n",
            "126/126 [==============================] - 1s 5ms/step - loss: 1786.9093 - accuracy: 0.0336\n",
            "Epoch 148/200\n",
            "126/126 [==============================] - 1s 5ms/step - loss: 1658.4822 - accuracy: 0.0344\n",
            "Epoch 149/200\n",
            "126/126 [==============================] - 1s 5ms/step - loss: 1711.0850 - accuracy: 0.0342\n",
            "Epoch 150/200\n",
            "126/126 [==============================] - 1s 4ms/step - loss: 1762.9404 - accuracy: 0.0337\n",
            "Epoch 151/200\n",
            "126/126 [==============================] - 1s 5ms/step - loss: 1567.8829 - accuracy: 0.0339\n",
            "Epoch 152/200\n",
            "126/126 [==============================] - 1s 5ms/step - loss: 1755.3457 - accuracy: 0.0344\n",
            "Epoch 153/200\n",
            "126/126 [==============================] - 1s 5ms/step - loss: 1639.9435 - accuracy: 0.0344\n",
            "Epoch 154/200\n",
            "126/126 [==============================] - 1s 5ms/step - loss: 1780.4939 - accuracy: 0.0345\n",
            "Epoch 155/200\n",
            "126/126 [==============================] - 1s 5ms/step - loss: 1725.8438 - accuracy: 0.0344\n",
            "Epoch 156/200\n",
            "126/126 [==============================] - 1s 5ms/step - loss: 1649.7651 - accuracy: 0.0341\n",
            "Epoch 157/200\n",
            "126/126 [==============================] - 1s 5ms/step - loss: 1665.2889 - accuracy: 0.0342\n",
            "Epoch 158/200\n",
            "126/126 [==============================] - 1s 5ms/step - loss: 1638.8384 - accuracy: 0.0346\n",
            "Epoch 159/200\n",
            "126/126 [==============================] - 1s 5ms/step - loss: 1712.8889 - accuracy: 0.0345\n",
            "Epoch 160/200\n",
            "126/126 [==============================] - 1s 5ms/step - loss: 1650.5491 - accuracy: 0.0342\n",
            "Epoch 161/200\n",
            "126/126 [==============================] - 1s 5ms/step - loss: 1587.4492 - accuracy: 0.0345\n",
            "Epoch 162/200\n",
            "126/126 [==============================] - 1s 5ms/step - loss: 1690.3335 - accuracy: 0.0342\n",
            "Epoch 163/200\n",
            "126/126 [==============================] - 1s 5ms/step - loss: 1688.0574 - accuracy: 0.0342\n",
            "Epoch 164/200\n",
            "126/126 [==============================] - 1s 5ms/step - loss: 1640.4233 - accuracy: 0.0344\n",
            "Epoch 165/200\n",
            "126/126 [==============================] - 1s 5ms/step - loss: 1650.1625 - accuracy: 0.0341\n",
            "Epoch 166/200\n",
            "126/126 [==============================] - 1s 5ms/step - loss: 1648.6620 - accuracy: 0.0344\n",
            "Epoch 167/200\n",
            "126/126 [==============================] - 1s 5ms/step - loss: 1601.6975 - accuracy: 0.0344\n",
            "Epoch 168/200\n",
            "126/126 [==============================] - 1s 5ms/step - loss: 1593.5894 - accuracy: 0.0344\n",
            "Epoch 169/200\n",
            "126/126 [==============================] - 1s 5ms/step - loss: 1713.6692 - accuracy: 0.0344\n",
            "Epoch 170/200\n",
            "126/126 [==============================] - 1s 5ms/step - loss: 1606.2373 - accuracy: 0.0344\n",
            "Epoch 171/200\n",
            "126/126 [==============================] - 1s 5ms/step - loss: 1671.2537 - accuracy: 0.0340\n",
            "Epoch 172/200\n",
            "126/126 [==============================] - 1s 4ms/step - loss: 1768.9349 - accuracy: 0.0344\n",
            "Epoch 173/200\n",
            "126/126 [==============================] - 1s 5ms/step - loss: 1619.3660 - accuracy: 0.0341\n",
            "Epoch 174/200\n",
            "126/126 [==============================] - 1s 5ms/step - loss: 1680.8110 - accuracy: 0.0342\n",
            "Epoch 175/200\n",
            "126/126 [==============================] - 1s 5ms/step - loss: 1641.4548 - accuracy: 0.0345\n",
            "Epoch 176/200\n",
            "126/126 [==============================] - 1s 5ms/step - loss: 1567.2296 - accuracy: 0.0342\n",
            "Epoch 177/200\n",
            "126/126 [==============================] - 1s 5ms/step - loss: 1602.6246 - accuracy: 0.0342\n",
            "Epoch 178/200\n",
            "126/126 [==============================] - 1s 5ms/step - loss: 1629.8651 - accuracy: 0.0344\n",
            "Epoch 179/200\n",
            "126/126 [==============================] - 1s 5ms/step - loss: 1687.7573 - accuracy: 0.0346\n",
            "Epoch 180/200\n",
            "126/126 [==============================] - 1s 4ms/step - loss: 1665.5326 - accuracy: 0.0344\n",
            "Epoch 181/200\n",
            "126/126 [==============================] - 1s 5ms/step - loss: 1688.4485 - accuracy: 0.0345\n",
            "Epoch 182/200\n",
            "126/126 [==============================] - 1s 5ms/step - loss: 1619.2135 - accuracy: 0.0337\n",
            "Epoch 183/200\n",
            "126/126 [==============================] - 1s 5ms/step - loss: 1712.2389 - accuracy: 0.0345\n",
            "Epoch 184/200\n",
            "126/126 [==============================] - 1s 5ms/step - loss: 1561.9374 - accuracy: 0.0341\n",
            "Epoch 185/200\n",
            "126/126 [==============================] - 1s 5ms/step - loss: 1564.8436 - accuracy: 0.0336\n",
            "Epoch 186/200\n",
            "126/126 [==============================] - 1s 5ms/step - loss: 1508.8113 - accuracy: 0.0336\n",
            "Epoch 187/200\n",
            "126/126 [==============================] - 1s 5ms/step - loss: 1630.6138 - accuracy: 0.0341\n",
            "Epoch 188/200\n",
            "126/126 [==============================] - 1s 5ms/step - loss: 1655.3842 - accuracy: 0.0336\n",
            "Epoch 189/200\n",
            "126/126 [==============================] - 1s 5ms/step - loss: 1547.0160 - accuracy: 0.0344\n",
            "Epoch 190/200\n",
            "126/126 [==============================] - 1s 5ms/step - loss: 1781.5511 - accuracy: 0.0344\n",
            "Epoch 191/200\n",
            "126/126 [==============================] - 1s 5ms/step - loss: 1573.7607 - accuracy: 0.0344\n",
            "Epoch 192/200\n",
            "126/126 [==============================] - 1s 5ms/step - loss: 1654.1693 - accuracy: 0.0340\n",
            "Epoch 193/200\n",
            "126/126 [==============================] - 1s 5ms/step - loss: 1619.6146 - accuracy: 0.0345\n",
            "Epoch 194/200\n",
            "126/126 [==============================] - 1s 5ms/step - loss: 1546.2336 - accuracy: 0.0346\n",
            "Epoch 195/200\n",
            "126/126 [==============================] - 1s 5ms/step - loss: 1572.7106 - accuracy: 0.0345\n",
            "Epoch 196/200\n",
            "126/126 [==============================] - 1s 5ms/step - loss: 1543.2841 - accuracy: 0.0346\n",
            "Epoch 197/200\n",
            "126/126 [==============================] - 1s 5ms/step - loss: 1569.5391 - accuracy: 0.0340\n",
            "Epoch 198/200\n",
            "126/126 [==============================] - 1s 5ms/step - loss: 1598.6437 - accuracy: 0.0347\n",
            "Epoch 199/200\n",
            "126/126 [==============================] - 1s 5ms/step - loss: 1626.8380 - accuracy: 0.0342\n",
            "Epoch 200/200\n",
            "126/126 [==============================] - 1s 5ms/step - loss: 1577.6082 - accuracy: 0.0345\n"
          ]
        }
      ]
    },
    {
      "cell_type": "code",
      "source": [
        "plt.bar(namerandom,sgdmeanlist)\n",
        "plt.xlabel(\"Data\")\n",
        "plt.ylabel(\"Mean Absolute Error\")\n"
      ],
      "metadata": {
        "id": "22gTYjYasb6x",
        "colab": {
          "base_uri": "https://localhost:8080/",
          "height": 307
        },
        "outputId": "dd3fbf53-e4bc-4250-b953-c8b5bee55be9"
      },
      "execution_count": null,
      "outputs": [
        {
          "output_type": "execute_result",
          "data": {
            "text/plain": [
              "Text(0, 0.5, 'Mean Absolute Error')"
            ]
          },
          "metadata": {},
          "execution_count": 61
        },
        {
          "output_type": "display_data",
          "data": {
            "image/png": "[encoded data removed]",
            "text/plain": [
              "<Figure size 432x288 with 1 Axes>"
            ]
          },
          "metadata": {
            "needs_background": "light"
          }
        }
      ]
    },
    {
      "cell_type": "code",
      "source": [
        "maesgd,maesgdscaled"
      ],
      "metadata": {
        "colab": {
          "base_uri": "https://localhost:8080/"
        },
        "id": "LG0f_PFey_II",
        "outputId": "fbfba737-59df-4711-f576-815e16e45d88"
      },
      "execution_count": null,
      "outputs": [
        {
          "output_type": "execute_result",
          "data": {
            "text/plain": [
              "(9.664195009985814e+16, 66548.99238092538)"
            ]
          },
          "metadata": {},
          "execution_count": 62
        }
      ]
    },
    {
      "cell_type": "code",
      "source": [
        "meanlist = [maelinear,knnmae,]\n",
        "name = ['Linear Regression', 'KNN']"
      ],
      "metadata": {
        "id": "9TD00riYy_-X"
      },
      "execution_count": null,
      "outputs": []
    },
    {
      "cell_type": "code",
      "source": [
        "plt.bar(name,meanlist)\n",
        "plt.xlabel(\"Data\")\n",
        "plt.ylabel(\"Mean Absolute Error\")"
      ],
      "metadata": {
        "colab": {
          "base_uri": "https://localhost:8080/",
          "height": 296
        },
        "id": "3tTLubjxzAx9",
        "outputId": "5f867a73-39d4-4063-d0c3-2c9d01e9fef3"
      },
      "execution_count": null,
      "outputs": [
        {
          "output_type": "execute_result",
          "data": {
            "text/plain": [
              "Text(0, 0.5, 'Mean Absolute Error')"
            ]
          },
          "metadata": {},
          "execution_count": 68
        },
        {
          "output_type": "display_data",
          "data": {
            "image/png": "[encoded data removed]",
            "text/plain": [
              "<Figure size 432x288 with 1 Axes>"
            ]
          },
          "metadata": {
            "needs_background": "light"
          }
        }
      ]
    },
    {
      "cell_type": "code",
      "source": [
        "meanlistscaled = [maelinearscaled,maesgdscaled,knnmaescaled]\n",
        "name = ['Linear Regression','SGD','KNN']"
      ],
      "metadata": {
        "id": "aLTv85OvzAuq"
      },
      "execution_count": null,
      "outputs": []
    },
    {
      "cell_type": "code",
      "source": [
        "plt.bar(name,meanlistscaled)\n",
        "plt.xlabel(\"Data\")\n",
        "plt.ylabel(\"Mean Absolute Error\")"
      ],
      "metadata": {
        "colab": {
          "base_uri": "https://localhost:8080/",
          "height": 307
        },
        "id": "Db4vDjo-zAoF",
        "outputId": "ba4699e5-c89a-4a60-811d-4c9a62aa7031"
      },
      "execution_count": null,
      "outputs": [
        {
          "output_type": "execute_result",
          "data": {
            "text/plain": [
              "Text(0, 0.5, 'Mean Absolute Error')"
            ]
          },
          "metadata": {},
          "execution_count": 73
        },
        {
          "output_type": "display_data",
          "data": {
            "image/png": "[encoded data removed]",
            "text/plain": [
              "<Figure size 432x288 with 1 Axes>"
            ]
          },
          "metadata": {
            "needs_background": "light"
          }
        }
      ]
    },
    {
      "cell_type": "code",
      "source": [
        "num=[]\n",
        "for i in range(x_testscaled.shape[0]):\n",
        "    num.append(i+1)\n"
      ],
      "metadata": {
        "id": "t9uYaA6pzPbF"
      },
      "execution_count": null,
      "outputs": []
    },
    {
      "cell_type": "code",
      "source": [
        "plt.scatter(num,ypredranscaled,label=\"Predicted\")\n",
        "plt.scatter(num,y_test,label=\"Actual\")\n",
        "plt.legend()\n",
        "plt.xlabel(\"Datapoints\")\n",
        "plt.ylabel(\"Production\")"
      ],
      "metadata": {
        "colab": {
          "base_uri": "https://localhost:8080/",
          "height": 296
        },
        "id": "jCBSR9hEzVrI",
        "outputId": "babd966d-b8d6-4214-d0c6-b8e453fb96e1"
      },
      "execution_count": null,
      "outputs": [
        {
          "output_type": "execute_result",
          "data": {
            "text/plain": [
              "Text(0, 0.5, 'Production')"
            ]
          },
          "metadata": {},
          "execution_count": 76
        },
        {
          "output_type": "display_data",
          "data": {
            "image/png": "[encoded data removed]",
            "text/plain": [
              "<Figure size 432x288 with 1 Axes>"
            ]
          },
          "metadata": {
            "needs_background": "light"
          }
        }
      ]
    },
    {
      "cell_type": "code",
      "source": [
        ""
      ],
      "metadata": {
        "id": "YxfSTxBB3YmT"
      },
      "execution_count": null,
      "outputs": []
    }
  ]
}