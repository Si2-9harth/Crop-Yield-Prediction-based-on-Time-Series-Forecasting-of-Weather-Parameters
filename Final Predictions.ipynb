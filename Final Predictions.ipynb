{
  "nbformat": 4,
  "nbformat_minor": 0,
  "metadata": {
    "colab": {
      "name": "INPUT_PREDICTION _OF_YIELD.ipynb",
      "provenance": []
    },
    "kernelspec": {
      "name": "python3",
      "display_name": "Python 3"
    },
    "language_info": {
      "name": "python"
    },
    "accelerator": "GPU"
  },
  "cells": [
    {
      "cell_type": "code",
      "execution_count": null,
      "metadata": {
        "id": "5h7gGjPFjgf3"
      },
      "outputs": [],
      "source": [
        "import pandas as pd\n",
        "import numpy as np\n",
        "import os\n",
        "import glob\n",
        "import matplotlib.pyplot as plt\n",
        "from sklearn.cluster import DBSCAN\n",
        "from sklearn.preprocessing import StandardScaler\n",
        "from keras.models import Sequential\n",
        "from keras.layers import Dense, Dropout\n",
        "from keras.wrappers.scikit_learn import KerasClassifier\n",
        "from keras.utils import np_utils\n",
        "from sklearn.model_selection import cross_val_score\n",
        "from sklearn.model_selection import KFold\n",
        "from sklearn.preprocessing import LabelEncoder\n",
        "from sklearn.pipeline import Pipeline\n",
        "from sklearn.ensemble import RandomForestClassifier\n",
        "from keras.optimizers import Optimizer\n",
        "from keras import optimizers"
      ]
    },
    {
      "cell_type": "code",
      "source": [
        "df = pd.read_excel(\"/content/crop_train.xls\")"
      ],
      "metadata": {
        "id": "VYhtiGcSnWyi"
      },
      "execution_count": null,
      "outputs": []
    },
    {
      "cell_type": "code",
      "source": [
        "df.head()"
      ],
      "metadata": {
        "colab": {
          "base_uri": "https://localhost:8080/",
          "height": 206
        },
        "id": "mgilXBrboEp7",
        "outputId": "b3d33497-9055-482d-dee9-f35b8f02ab6d"
      },
      "execution_count": null,
      "outputs": [
        {
          "output_type": "execute_result",
          "data": {
            "text/html": [
              "<div>\n",
              "<style scoped>\n",
              "    .dataframe tbody tr th:only-of-type {\n",
              "        vertical-align: middle;\n",
              "    }\n",
              "\n",
              "    .dataframe tbody tr th {\n",
              "        vertical-align: top;\n",
              "    }\n",
              "\n",
              "    .dataframe thead th {\n",
              "        text-align: right;\n",
              "    }\n",
              "</style>\n",
              "<table border=\"1\" class=\"dataframe\">\n",
              "  <thead>\n",
              "    <tr style=\"text-align: right;\">\n",
              "      <th></th>\n",
              "      <th>Unnamed: 0</th>\n",
              "      <th>State</th>\n",
              "      <th>District</th>\n",
              "      <th>Year</th>\n",
              "      <th>Season</th>\n",
              "      <th>Crop</th>\n",
              "      <th>Area</th>\n",
              "      <th>Production</th>\n",
              "      <th>Temperature</th>\n",
              "      <th>Rainfall</th>\n",
              "      <th>Humidity</th>\n",
              "      <th>Wind Speed</th>\n",
              "    </tr>\n",
              "  </thead>\n",
              "  <tbody>\n",
              "    <tr>\n",
              "      <th>0</th>\n",
              "      <td>0</td>\n",
              "      <td>Chhattisgarh</td>\n",
              "      <td>balod</td>\n",
              "      <td>2011</td>\n",
              "      <td>Kharif</td>\n",
              "      <td>Arhar/Tur</td>\n",
              "      <td>607</td>\n",
              "      <td>290.0</td>\n",
              "      <td>25.5025</td>\n",
              "      <td>9.856148</td>\n",
              "      <td>83.805</td>\n",
              "      <td>2.11</td>\n",
              "    </tr>\n",
              "    <tr>\n",
              "      <th>1</th>\n",
              "      <td>1</td>\n",
              "      <td>Chhattisgarh</td>\n",
              "      <td>balod</td>\n",
              "      <td>2011</td>\n",
              "      <td>Kharif</td>\n",
              "      <td>Horse-gram</td>\n",
              "      <td>288</td>\n",
              "      <td>102.0</td>\n",
              "      <td>25.5025</td>\n",
              "      <td>9.856148</td>\n",
              "      <td>83.805</td>\n",
              "      <td>2.11</td>\n",
              "    </tr>\n",
              "    <tr>\n",
              "      <th>2</th>\n",
              "      <td>2</td>\n",
              "      <td>Chhattisgarh</td>\n",
              "      <td>balod</td>\n",
              "      <td>2011</td>\n",
              "      <td>Kharif</td>\n",
              "      <td>Jowar</td>\n",
              "      <td>11</td>\n",
              "      <td>8.0</td>\n",
              "      <td>25.5025</td>\n",
              "      <td>9.856148</td>\n",
              "      <td>83.805</td>\n",
              "      <td>2.11</td>\n",
              "    </tr>\n",
              "    <tr>\n",
              "      <th>3</th>\n",
              "      <td>3</td>\n",
              "      <td>Chhattisgarh</td>\n",
              "      <td>balod</td>\n",
              "      <td>2011</td>\n",
              "      <td>Kharif</td>\n",
              "      <td>Maize</td>\n",
              "      <td>125</td>\n",
              "      <td>149.0</td>\n",
              "      <td>25.5025</td>\n",
              "      <td>9.856148</td>\n",
              "      <td>83.805</td>\n",
              "      <td>2.11</td>\n",
              "    </tr>\n",
              "    <tr>\n",
              "      <th>4</th>\n",
              "      <td>4</td>\n",
              "      <td>Chhattisgarh</td>\n",
              "      <td>balod</td>\n",
              "      <td>2011</td>\n",
              "      <td>Kharif</td>\n",
              "      <td>Mesta</td>\n",
              "      <td>8</td>\n",
              "      <td>15.0</td>\n",
              "      <td>25.5025</td>\n",
              "      <td>9.856148</td>\n",
              "      <td>83.805</td>\n",
              "      <td>2.11</td>\n",
              "    </tr>\n",
              "  </tbody>\n",
              "</table>\n",
              "</div>"
            ],
            "text/plain": [
              "   Unnamed: 0         State District  ...  Rainfall Humidity Wind Speed\n",
              "0           0  Chhattisgarh    balod  ...  9.856148   83.805       2.11\n",
              "1           1  Chhattisgarh    balod  ...  9.856148   83.805       2.11\n",
              "2           2  Chhattisgarh    balod  ...  9.856148   83.805       2.11\n",
              "3           3  Chhattisgarh    balod  ...  9.856148   83.805       2.11\n",
              "4           4  Chhattisgarh    balod  ...  9.856148   83.805       2.11\n",
              "\n",
              "[5 rows x 12 columns]"
            ]
          },
          "metadata": {},
          "execution_count": 3
        }
      ]
    },
    {
      "cell_type": "code",
      "source": [
        "df.info()"
      ],
      "metadata": {
        "colab": {
          "base_uri": "https://localhost:8080/"
        },
        "id": "eNP_eTrhoJ9x",
        "outputId": "f0b3d3eb-fe35-42ee-8448-2b662e45f667"
      },
      "execution_count": null,
      "outputs": [
        {
          "output_type": "stream",
          "name": "stdout",
          "text": [
            "<class 'pandas.core.frame.DataFrame'>\n",
            "RangeIndex: 10709 entries, 0 to 10708\n",
            "Data columns (total 12 columns):\n",
            " #   Column       Non-Null Count  Dtype  \n",
            "---  ------       --------------  -----  \n",
            " 0   Unnamed: 0   10709 non-null  int64  \n",
            " 1   State        10709 non-null  object \n",
            " 2   District     10709 non-null  object \n",
            " 3   Year         10709 non-null  int64  \n",
            " 4   Season       10709 non-null  object \n",
            " 5   Crop         10709 non-null  object \n",
            " 6   Area         10709 non-null  int64  \n",
            " 7   Production   10368 non-null  float64\n",
            " 8   Temperature  10709 non-null  float64\n",
            " 9   Rainfall     10709 non-null  float64\n",
            " 10  Humidity     10709 non-null  float64\n",
            " 11  Wind Speed   10709 non-null  float64\n",
            "dtypes: float64(5), int64(3), object(4)\n",
            "memory usage: 1004.1+ KB\n"
          ]
        }
      ]
    },
    {
      "cell_type": "code",
      "source": [
        "df.describe()"
      ],
      "metadata": {
        "colab": {
          "base_uri": "https://localhost:8080/",
          "height": 300
        },
        "id": "Cf1FRWrpoLN9",
        "outputId": "e71c98b7-1aab-4a0c-a66d-b10c31850313"
      },
      "execution_count": null,
      "outputs": [
        {
          "output_type": "execute_result",
          "data": {
            "text/html": [
              "<div>\n",
              "<style scoped>\n",
              "    .dataframe tbody tr th:only-of-type {\n",
              "        vertical-align: middle;\n",
              "    }\n",
              "\n",
              "    .dataframe tbody tr th {\n",
              "        vertical-align: top;\n",
              "    }\n",
              "\n",
              "    .dataframe thead th {\n",
              "        text-align: right;\n",
              "    }\n",
              "</style>\n",
              "<table border=\"1\" class=\"dataframe\">\n",
              "  <thead>\n",
              "    <tr style=\"text-align: right;\">\n",
              "      <th></th>\n",
              "      <th>Unnamed: 0</th>\n",
              "      <th>Year</th>\n",
              "      <th>Area</th>\n",
              "      <th>Production</th>\n",
              "      <th>Temperature</th>\n",
              "      <th>Rainfall</th>\n",
              "      <th>Humidity</th>\n",
              "      <th>Wind Speed</th>\n",
              "    </tr>\n",
              "  </thead>\n",
              "  <tbody>\n",
              "    <tr>\n",
              "      <th>count</th>\n",
              "      <td>10709.000000</td>\n",
              "      <td>10709.000000</td>\n",
              "      <td>10709.000000</td>\n",
              "      <td>1.036800e+04</td>\n",
              "      <td>10709.000000</td>\n",
              "      <td>10709.000000</td>\n",
              "      <td>10709.000000</td>\n",
              "      <td>10709.000000</td>\n",
              "    </tr>\n",
              "    <tr>\n",
              "      <th>mean</th>\n",
              "      <td>5354.000000</td>\n",
              "      <td>2007.727426</td>\n",
              "      <td>7754.194042</td>\n",
              "      <td>9.736874e+03</td>\n",
              "      <td>24.647882</td>\n",
              "      <td>4.631773</td>\n",
              "      <td>68.128860</td>\n",
              "      <td>1.851537</td>\n",
              "    </tr>\n",
              "    <tr>\n",
              "      <th>std</th>\n",
              "      <td>3091.566351</td>\n",
              "      <td>4.396948</td>\n",
              "      <td>38147.615088</td>\n",
              "      <td>5.902254e+04</td>\n",
              "      <td>2.698674</td>\n",
              "      <td>3.440207</td>\n",
              "      <td>15.337771</td>\n",
              "      <td>0.349847</td>\n",
              "    </tr>\n",
              "    <tr>\n",
              "      <th>min</th>\n",
              "      <td>0.000000</td>\n",
              "      <td>2000.000000</td>\n",
              "      <td>1.000000</td>\n",
              "      <td>0.000000e+00</td>\n",
              "      <td>17.564000</td>\n",
              "      <td>0.078581</td>\n",
              "      <td>24.520000</td>\n",
              "      <td>0.916000</td>\n",
              "    </tr>\n",
              "    <tr>\n",
              "      <th>25%</th>\n",
              "      <td>2677.000000</td>\n",
              "      <td>2004.000000</td>\n",
              "      <td>32.000000</td>\n",
              "      <td>2.800000e+01</td>\n",
              "      <td>22.224000</td>\n",
              "      <td>0.672380</td>\n",
              "      <td>55.396000</td>\n",
              "      <td>1.528000</td>\n",
              "    </tr>\n",
              "    <tr>\n",
              "      <th>50%</th>\n",
              "      <td>5354.000000</td>\n",
              "      <td>2008.000000</td>\n",
              "      <td>230.000000</td>\n",
              "      <td>1.740000e+02</td>\n",
              "      <td>25.330000</td>\n",
              "      <td>4.335726</td>\n",
              "      <td>67.140739</td>\n",
              "      <td>1.925000</td>\n",
              "    </tr>\n",
              "    <tr>\n",
              "      <th>75%</th>\n",
              "      <td>8031.000000</td>\n",
              "      <td>2012.000000</td>\n",
              "      <td>1303.000000</td>\n",
              "      <td>9.222500e+02</td>\n",
              "      <td>26.370000</td>\n",
              "      <td>7.627804</td>\n",
              "      <td>83.560000</td>\n",
              "      <td>2.107290</td>\n",
              "    </tr>\n",
              "    <tr>\n",
              "      <th>max</th>\n",
              "      <td>10708.000000</td>\n",
              "      <td>2014.000000</td>\n",
              "      <td>545965.000000</td>\n",
              "      <td>2.129180e+06</td>\n",
              "      <td>32.356667</td>\n",
              "      <td>11.850688</td>\n",
              "      <td>88.922500</td>\n",
              "      <td>2.700000</td>\n",
              "    </tr>\n",
              "  </tbody>\n",
              "</table>\n",
              "</div>"
            ],
            "text/plain": [
              "         Unnamed: 0          Year  ...      Humidity    Wind Speed\n",
              "count  10709.000000  10709.000000  ...  10709.000000  10709.000000\n",
              "mean    5354.000000   2007.727426  ...     68.128860      1.851537\n",
              "std     3091.566351      4.396948  ...     15.337771      0.349847\n",
              "min        0.000000   2000.000000  ...     24.520000      0.916000\n",
              "25%     2677.000000   2004.000000  ...     55.396000      1.528000\n",
              "50%     5354.000000   2008.000000  ...     67.140739      1.925000\n",
              "75%     8031.000000   2012.000000  ...     83.560000      2.107290\n",
              "max    10708.000000   2014.000000  ...     88.922500      2.700000\n",
              "\n",
              "[8 rows x 8 columns]"
            ]
          },
          "metadata": {},
          "execution_count": 5
        }
      ]
    },
    {
      "cell_type": "code",
      "source": [
        "type(np.unique(df['Production'])[-1])"
      ],
      "metadata": {
        "colab": {
          "base_uri": "https://localhost:8080/"
        },
        "id": "s9VI2Pj2oMnC",
        "outputId": "986b4617-4370-4606-e431-7e62e4b529f5"
      },
      "execution_count": null,
      "outputs": [
        {
          "output_type": "execute_result",
          "data": {
            "text/plain": [
              "numpy.float64"
            ]
          },
          "metadata": {},
          "execution_count": 6
        }
      ]
    },
    {
      "cell_type": "code",
      "source": [
        "df[(np.isnan(df['Production']))]"
      ],
      "metadata": {
        "colab": {
          "base_uri": "https://localhost:8080/",
          "height": 423
        },
        "id": "7FELkpqloOE-",
        "outputId": "9de58d4e-d3ff-4690-f881-d80527c2069a"
      },
      "execution_count": null,
      "outputs": [
        {
          "output_type": "execute_result",
          "data": {
            "text/html": [
              "<div>\n",
              "<style scoped>\n",
              "    .dataframe tbody tr th:only-of-type {\n",
              "        vertical-align: middle;\n",
              "    }\n",
              "\n",
              "    .dataframe tbody tr th {\n",
              "        vertical-align: top;\n",
              "    }\n",
              "\n",
              "    .dataframe thead th {\n",
              "        text-align: right;\n",
              "    }\n",
              "</style>\n",
              "<table border=\"1\" class=\"dataframe\">\n",
              "  <thead>\n",
              "    <tr style=\"text-align: right;\">\n",
              "      <th></th>\n",
              "      <th>Unnamed: 0</th>\n",
              "      <th>State</th>\n",
              "      <th>District</th>\n",
              "      <th>Year</th>\n",
              "      <th>Season</th>\n",
              "      <th>Crop</th>\n",
              "      <th>Area</th>\n",
              "      <th>Production</th>\n",
              "      <th>Temperature</th>\n",
              "      <th>Rainfall</th>\n",
              "      <th>Humidity</th>\n",
              "      <th>Wind Speed</th>\n",
              "    </tr>\n",
              "  </thead>\n",
              "  <tbody>\n",
              "    <tr>\n",
              "      <th>74</th>\n",
              "      <td>74</td>\n",
              "      <td>Chhattisgarh</td>\n",
              "      <td>balod</td>\n",
              "      <td>2013</td>\n",
              "      <td>Kharif</td>\n",
              "      <td>Other Kharif pulses</td>\n",
              "      <td>141</td>\n",
              "      <td>NaN</td>\n",
              "      <td>25.3575</td>\n",
              "      <td>10.151371</td>\n",
              "      <td>87.4975</td>\n",
              "      <td>2.4050</td>\n",
              "    </tr>\n",
              "    <tr>\n",
              "      <th>91</th>\n",
              "      <td>91</td>\n",
              "      <td>Chhattisgarh</td>\n",
              "      <td>balod</td>\n",
              "      <td>2013</td>\n",
              "      <td>Rabi</td>\n",
              "      <td>Safflower</td>\n",
              "      <td>1</td>\n",
              "      <td>NaN</td>\n",
              "      <td>21.3720</td>\n",
              "      <td>0.108918</td>\n",
              "      <td>57.5540</td>\n",
              "      <td>1.4400</td>\n",
              "    </tr>\n",
              "    <tr>\n",
              "      <th>121</th>\n",
              "      <td>121</td>\n",
              "      <td>Chhattisgarh</td>\n",
              "      <td>balod</td>\n",
              "      <td>2014</td>\n",
              "      <td>Rabi</td>\n",
              "      <td>Other  Rabi pulses</td>\n",
              "      <td>1</td>\n",
              "      <td>NaN</td>\n",
              "      <td>20.4540</td>\n",
              "      <td>0.520286</td>\n",
              "      <td>62.9440</td>\n",
              "      <td>1.4180</td>\n",
              "    </tr>\n",
              "    <tr>\n",
              "      <th>141</th>\n",
              "      <td>141</td>\n",
              "      <td>Chhattisgarh</td>\n",
              "      <td>baloda bazar</td>\n",
              "      <td>2011</td>\n",
              "      <td>Kharif</td>\n",
              "      <td>Mesta</td>\n",
              "      <td>17</td>\n",
              "      <td>NaN</td>\n",
              "      <td>26.0800</td>\n",
              "      <td>9.382960</td>\n",
              "      <td>83.2575</td>\n",
              "      <td>1.8850</td>\n",
              "    </tr>\n",
              "    <tr>\n",
              "      <th>222</th>\n",
              "      <td>222</td>\n",
              "      <td>Chhattisgarh</td>\n",
              "      <td>baloda bazar</td>\n",
              "      <td>2013</td>\n",
              "      <td>Kharif</td>\n",
              "      <td>Sunflower</td>\n",
              "      <td>60</td>\n",
              "      <td>NaN</td>\n",
              "      <td>26.1350</td>\n",
              "      <td>10.084793</td>\n",
              "      <td>85.7350</td>\n",
              "      <td>1.9475</td>\n",
              "    </tr>\n",
              "    <tr>\n",
              "      <th>...</th>\n",
              "      <td>...</td>\n",
              "      <td>...</td>\n",
              "      <td>...</td>\n",
              "      <td>...</td>\n",
              "      <td>...</td>\n",
              "      <td>...</td>\n",
              "      <td>...</td>\n",
              "      <td>...</td>\n",
              "      <td>...</td>\n",
              "      <td>...</td>\n",
              "      <td>...</td>\n",
              "      <td>...</td>\n",
              "    </tr>\n",
              "    <tr>\n",
              "      <th>10599</th>\n",
              "      <td>10599</td>\n",
              "      <td>Chhattisgarh</td>\n",
              "      <td>surguja</td>\n",
              "      <td>2012</td>\n",
              "      <td>Kharif</td>\n",
              "      <td>Jute</td>\n",
              "      <td>21</td>\n",
              "      <td>NaN</td>\n",
              "      <td>24.5850</td>\n",
              "      <td>9.418030</td>\n",
              "      <td>83.5825</td>\n",
              "      <td>1.7175</td>\n",
              "    </tr>\n",
              "    <tr>\n",
              "      <th>10636</th>\n",
              "      <td>10636</td>\n",
              "      <td>Chhattisgarh</td>\n",
              "      <td>surguja</td>\n",
              "      <td>2013</td>\n",
              "      <td>Kharif</td>\n",
              "      <td>Jute</td>\n",
              "      <td>15</td>\n",
              "      <td>NaN</td>\n",
              "      <td>24.9050</td>\n",
              "      <td>10.079675</td>\n",
              "      <td>86.0000</td>\n",
              "      <td>1.8550</td>\n",
              "    </tr>\n",
              "    <tr>\n",
              "      <th>10641</th>\n",
              "      <td>10641</td>\n",
              "      <td>Chhattisgarh</td>\n",
              "      <td>surguja</td>\n",
              "      <td>2013</td>\n",
              "      <td>Kharif</td>\n",
              "      <td>Other Kharif pulses</td>\n",
              "      <td>136</td>\n",
              "      <td>NaN</td>\n",
              "      <td>24.9050</td>\n",
              "      <td>10.079675</td>\n",
              "      <td>86.0000</td>\n",
              "      <td>1.8550</td>\n",
              "    </tr>\n",
              "    <tr>\n",
              "      <th>10674</th>\n",
              "      <td>10674</td>\n",
              "      <td>Chhattisgarh</td>\n",
              "      <td>surguja</td>\n",
              "      <td>2014</td>\n",
              "      <td>Kharif</td>\n",
              "      <td>Jute</td>\n",
              "      <td>13</td>\n",
              "      <td>NaN</td>\n",
              "      <td>25.1150</td>\n",
              "      <td>7.945099</td>\n",
              "      <td>82.3250</td>\n",
              "      <td>1.8700</td>\n",
              "    </tr>\n",
              "    <tr>\n",
              "      <th>10679</th>\n",
              "      <td>10679</td>\n",
              "      <td>Chhattisgarh</td>\n",
              "      <td>surguja</td>\n",
              "      <td>2014</td>\n",
              "      <td>Kharif</td>\n",
              "      <td>Other Kharif pulses</td>\n",
              "      <td>219</td>\n",
              "      <td>NaN</td>\n",
              "      <td>25.1150</td>\n",
              "      <td>7.945099</td>\n",
              "      <td>82.3250</td>\n",
              "      <td>1.8700</td>\n",
              "    </tr>\n",
              "  </tbody>\n",
              "</table>\n",
              "<p>341 rows × 12 columns</p>\n",
              "</div>"
            ],
            "text/plain": [
              "       Unnamed: 0         State      District  ...   Rainfall Humidity Wind Speed\n",
              "74             74  Chhattisgarh         balod  ...  10.151371  87.4975     2.4050\n",
              "91             91  Chhattisgarh         balod  ...   0.108918  57.5540     1.4400\n",
              "121           121  Chhattisgarh         balod  ...   0.520286  62.9440     1.4180\n",
              "141           141  Chhattisgarh  baloda bazar  ...   9.382960  83.2575     1.8850\n",
              "222           222  Chhattisgarh  baloda bazar  ...  10.084793  85.7350     1.9475\n",
              "...           ...           ...           ...  ...        ...      ...        ...\n",
              "10599       10599  Chhattisgarh       surguja  ...   9.418030  83.5825     1.7175\n",
              "10636       10636  Chhattisgarh       surguja  ...  10.079675  86.0000     1.8550\n",
              "10641       10641  Chhattisgarh       surguja  ...  10.079675  86.0000     1.8550\n",
              "10674       10674  Chhattisgarh       surguja  ...   7.945099  82.3250     1.8700\n",
              "10679       10679  Chhattisgarh       surguja  ...   7.945099  82.3250     1.8700\n",
              "\n",
              "[341 rows x 12 columns]"
            ]
          },
          "metadata": {},
          "execution_count": 7
        }
      ]
    },
    {
      "cell_type": "code",
      "source": [
        "sum(df['Production'].isna())"
      ],
      "metadata": {
        "colab": {
          "base_uri": "https://localhost:8080/"
        },
        "id": "rhGUgOseoPXT",
        "outputId": "56c6403a-755f-44e0-b053-a2c4cdefb376"
      },
      "execution_count": null,
      "outputs": [
        {
          "output_type": "execute_result",
          "data": {
            "text/plain": [
              "341"
            ]
          },
          "metadata": {},
          "execution_count": 8
        }
      ]
    },
    {
      "cell_type": "code",
      "source": [
        "df.fillna(0,axis=1,inplace=True)"
      ],
      "metadata": {
        "id": "IPbfOrRWoQ2P"
      },
      "execution_count": null,
      "outputs": []
    },
    {
      "cell_type": "code",
      "source": [
        "sum(df['Production'].isna())"
      ],
      "metadata": {
        "colab": {
          "base_uri": "https://localhost:8080/"
        },
        "id": "GIO-UR6XoSQe",
        "outputId": "547788fa-c20b-46d8-ed9f-7355895b6159"
      },
      "execution_count": null,
      "outputs": [
        {
          "output_type": "execute_result",
          "data": {
            "text/plain": [
              "0"
            ]
          },
          "metadata": {},
          "execution_count": 10
        }
      ]
    },
    {
      "cell_type": "code",
      "source": [
        "df.describe().iloc[:,2]"
      ],
      "metadata": {
        "colab": {
          "base_uri": "https://localhost:8080/"
        },
        "id": "7ndkiyZFoTe9",
        "outputId": "379aaa95-13f0-4071-8326-aab5e92d15a2"
      },
      "execution_count": null,
      "outputs": [
        {
          "output_type": "execute_result",
          "data": {
            "text/plain": [
              "count     10709.000000\n",
              "mean       7754.194042\n",
              "std       38147.615088\n",
              "min           1.000000\n",
              "25%          32.000000\n",
              "50%         230.000000\n",
              "75%        1303.000000\n",
              "max      545965.000000\n",
              "Name: Area, dtype: float64"
            ]
          },
          "metadata": {},
          "execution_count": 11
        }
      ]
    },
    {
      "cell_type": "code",
      "source": [
        "import sklearn\n",
        "from sklearn.preprocessing import LabelEncoder"
      ],
      "metadata": {
        "id": "PwBbZglwH739"
      },
      "execution_count": null,
      "outputs": []
    },
    {
      "cell_type": "code",
      "source": [
        "cr = LabelEncoder()\n",
        "se = LabelEncoder()\n",
        "dis = LabelEncoder()\n",
        "df['Season'] = se.fit_transform(df['Season'])\n",
        "df['Crop'] = cr.fit_transform(df['Crop'])\n",
        "df['District'] = dis.fit_transform(df['District'])"
      ],
      "metadata": {
        "id": "GrmLZ7gzH4yc"
      },
      "execution_count": null,
      "outputs": []
    },
    {
      "cell_type": "code",
      "source": [
        "df.drop(['State','Unnamed: 0'],axis=1,inplace=True)"
      ],
      "metadata": {
        "id": "n3SQDMVfoihk"
      },
      "execution_count": null,
      "outputs": []
    },
    {
      "cell_type": "code",
      "source": [
        "df.head()"
      ],
      "metadata": {
        "colab": {
          "base_uri": "https://localhost:8080/",
          "height": 206
        },
        "id": "rTvm8Ut5oopd",
        "outputId": "fa543c41-5dd0-4c6f-f40f-bb52e3158ddd"
      },
      "execution_count": null,
      "outputs": [
        {
          "output_type": "execute_result",
          "data": {
            "text/html": [
              "<div>\n",
              "<style scoped>\n",
              "    .dataframe tbody tr th:only-of-type {\n",
              "        vertical-align: middle;\n",
              "    }\n",
              "\n",
              "    .dataframe tbody tr th {\n",
              "        vertical-align: top;\n",
              "    }\n",
              "\n",
              "    .dataframe thead th {\n",
              "        text-align: right;\n",
              "    }\n",
              "</style>\n",
              "<table border=\"1\" class=\"dataframe\">\n",
              "  <thead>\n",
              "    <tr style=\"text-align: right;\">\n",
              "      <th></th>\n",
              "      <th>District</th>\n",
              "      <th>Year</th>\n",
              "      <th>Season</th>\n",
              "      <th>Crop</th>\n",
              "      <th>Area</th>\n",
              "      <th>Production</th>\n",
              "      <th>Temperature</th>\n",
              "      <th>Rainfall</th>\n",
              "      <th>Humidity</th>\n",
              "      <th>Wind Speed</th>\n",
              "    </tr>\n",
              "  </thead>\n",
              "  <tbody>\n",
              "    <tr>\n",
              "      <th>0</th>\n",
              "      <td>0</td>\n",
              "      <td>2011</td>\n",
              "      <td>0</td>\n",
              "      <td>0</td>\n",
              "      <td>607</td>\n",
              "      <td>290.0</td>\n",
              "      <td>25.5025</td>\n",
              "      <td>9.856148</td>\n",
              "      <td>83.805</td>\n",
              "      <td>2.11</td>\n",
              "    </tr>\n",
              "    <tr>\n",
              "      <th>1</th>\n",
              "      <td>0</td>\n",
              "      <td>2011</td>\n",
              "      <td>0</td>\n",
              "      <td>14</td>\n",
              "      <td>288</td>\n",
              "      <td>102.0</td>\n",
              "      <td>25.5025</td>\n",
              "      <td>9.856148</td>\n",
              "      <td>83.805</td>\n",
              "      <td>2.11</td>\n",
              "    </tr>\n",
              "    <tr>\n",
              "      <th>2</th>\n",
              "      <td>0</td>\n",
              "      <td>2011</td>\n",
              "      <td>0</td>\n",
              "      <td>15</td>\n",
              "      <td>11</td>\n",
              "      <td>8.0</td>\n",
              "      <td>25.5025</td>\n",
              "      <td>9.856148</td>\n",
              "      <td>83.805</td>\n",
              "      <td>2.11</td>\n",
              "    </tr>\n",
              "    <tr>\n",
              "      <th>3</th>\n",
              "      <td>0</td>\n",
              "      <td>2011</td>\n",
              "      <td>0</td>\n",
              "      <td>19</td>\n",
              "      <td>125</td>\n",
              "      <td>149.0</td>\n",
              "      <td>25.5025</td>\n",
              "      <td>9.856148</td>\n",
              "      <td>83.805</td>\n",
              "      <td>2.11</td>\n",
              "    </tr>\n",
              "    <tr>\n",
              "      <th>4</th>\n",
              "      <td>0</td>\n",
              "      <td>2011</td>\n",
              "      <td>0</td>\n",
              "      <td>21</td>\n",
              "      <td>8</td>\n",
              "      <td>15.0</td>\n",
              "      <td>25.5025</td>\n",
              "      <td>9.856148</td>\n",
              "      <td>83.805</td>\n",
              "      <td>2.11</td>\n",
              "    </tr>\n",
              "  </tbody>\n",
              "</table>\n",
              "</div>"
            ],
            "text/plain": [
              "   District  Year  Season  Crop  ...  Temperature  Rainfall  Humidity  Wind Speed\n",
              "0         0  2011       0     0  ...      25.5025  9.856148    83.805        2.11\n",
              "1         0  2011       0    14  ...      25.5025  9.856148    83.805        2.11\n",
              "2         0  2011       0    15  ...      25.5025  9.856148    83.805        2.11\n",
              "3         0  2011       0    19  ...      25.5025  9.856148    83.805        2.11\n",
              "4         0  2011       0    21  ...      25.5025  9.856148    83.805        2.11\n",
              "\n",
              "[5 rows x 10 columns]"
            ]
          },
          "metadata": {},
          "execution_count": 15
        }
      ]
    },
    {
      "cell_type": "code",
      "source": [
        "X=df.drop(['Production'],axis=1)"
      ],
      "metadata": {
        "id": "TagN8NyOo4Np"
      },
      "execution_count": null,
      "outputs": []
    },
    {
      "cell_type": "code",
      "source": [
        "Y=df['Production']"
      ],
      "metadata": {
        "id": "lFKzdVnAo93h"
      },
      "execution_count": null,
      "outputs": []
    },
    {
      "cell_type": "code",
      "source": [
        "import seaborn as sns"
      ],
      "metadata": {
        "id": "RBvyk59KpZV9"
      },
      "execution_count": null,
      "outputs": []
    },
    {
      "cell_type": "code",
      "source": [
        "plt.figure(figsize=(10,6))\n",
        "plt.plot(Y)\n",
        "plt.show()"
      ],
      "metadata": {
        "colab": {
          "base_uri": "https://localhost:8080/",
          "height": 385
        },
        "id": "3JU3C_5hpD6H",
        "outputId": "88fc2632-2d0f-41e2-b4a8-b479c998771a"
      },
      "execution_count": null,
      "outputs": [
        {
          "output_type": "display_data",
          "data": {
            "image/png": "[encoded data removed]",
            "text/plain": [
              "<Figure size 720x432 with 1 Axes>"
            ]
          },
          "metadata": {
            "needs_background": "light"
          }
        }
      ]
    },
    {
      "cell_type": "code",
      "source": [
        "plt.figure(figsize=(10,6))\n",
        "plt.plot(np.unique(Y))\n",
        "plt.show()"
      ],
      "metadata": {
        "colab": {
          "base_uri": "https://localhost:8080/",
          "height": 385
        },
        "id": "MXxuv1kSpeQs",
        "outputId": "90fe4a55-9f3b-4286-fcb3-47b492f6751f"
      },
      "execution_count": null,
      "outputs": [
        {
          "output_type": "display_data",
          "data": {
            "image/png": "[encoded data removed]",
            "text/plain": [
              "<Figure size 720x432 with 1 Axes>"
            ]
          },
          "metadata": {
            "needs_background": "light"
          }
        }
      ]
    },
    {
      "cell_type": "code",
      "source": [
        "y_hat=np.log1p(Y)"
      ],
      "metadata": {
        "id": "SJSpfoNvqJPi"
      },
      "execution_count": null,
      "outputs": []
    },
    {
      "cell_type": "code",
      "source": [
        "plt.figure(figsize=(10,6))\n",
        "plt.plot(np.unique(y_hat))\n",
        "plt.show()"
      ],
      "metadata": {
        "colab": {
          "base_uri": "https://localhost:8080/",
          "height": 374
        },
        "id": "Ta5K01uHqri-",
        "outputId": "e3b1d204-b3bc-4b4a-ab8e-3f7a349cf474"
      },
      "execution_count": null,
      "outputs": [
        {
          "output_type": "display_data",
          "data": {
            "image/png": "[encoded data removed]",
            "text/plain": [
              "<Figure size 720x432 with 1 Axes>"
            ]
          },
          "metadata": {
            "needs_background": "light"
          }
        }
      ]
    },
    {
      "cell_type": "code",
      "source": [
        "Y=y_hat"
      ],
      "metadata": {
        "id": "zEFwepdwquY4"
      },
      "execution_count": null,
      "outputs": []
    },
    {
      "cell_type": "code",
      "source": [
        "from sklearn.model_selection import train_test_split\n",
        "x_train, x_test, y_train, y_test = train_test_split(X, Y, test_size=0.25, random_state=42)\n",
        "print('Train', x_train.shape, y_train.shape)\n",
        "print('Test', x_test.shape, y_test.shape)"
      ],
      "metadata": {
        "colab": {
          "base_uri": "https://localhost:8080/"
        },
        "id": "85ki06UYs_af",
        "outputId": "894e228c-c153-46b7-d6d6-48edd9211761"
      },
      "execution_count": null,
      "outputs": [
        {
          "output_type": "stream",
          "name": "stdout",
          "text": [
            "Train (8031, 9) (8031,)\n",
            "Test (2678, 9) (2678,)\n"
          ]
        }
      ]
    },
    {
      "cell_type": "code",
      "source": [
        "from sklearn.ensemble import RandomForestRegressor\n",
        "clf = RandomForestRegressor()\n",
        "clf.fit(x_train, y_train)"
      ],
      "metadata": {
        "colab": {
          "base_uri": "https://localhost:8080/"
        },
        "id": "YmPqC6Y3r_mF",
        "outputId": "cddc9548-7708-485a-c4c0-0b075d66022e"
      },
      "execution_count": null,
      "outputs": [
        {
          "output_type": "execute_result",
          "data": {
            "text/plain": [
              "RandomForestRegressor()"
            ]
          },
          "metadata": {},
          "execution_count": 25
        }
      ]
    },
    {
      "cell_type": "code",
      "source": [
        "from sklearn.metrics import mean_absolute_error"
      ],
      "metadata": {
        "id": "lKlBc74ntCdJ"
      },
      "execution_count": null,
      "outputs": []
    },
    {
      "cell_type": "code",
      "source": [
        "y_pred = clf.predict(x_test)"
      ],
      "metadata": {
        "id": "RQNWudEbtE3N"
      },
      "execution_count": null,
      "outputs": []
    },
    {
      "cell_type": "code",
      "source": [
        "maerandom = mean_absolute_error(y_test, y_pred)\n",
        "maerandom"
      ],
      "metadata": {
        "colab": {
          "base_uri": "https://localhost:8080/"
        },
        "id": "mrt_Gr-ItGq1",
        "outputId": "c8205fa2-db80-46c3-b5a1-3a213aa4d614"
      },
      "execution_count": null,
      "outputs": [
        {
          "output_type": "execute_result",
          "data": {
            "text/plain": [
              "0.34274530292948474"
            ]
          },
          "metadata": {},
          "execution_count": 28
        }
      ]
    },
    {
      "cell_type": "code",
      "source": [
        "x_train.shape, y_train.shape, x_test.shape, y_test.shape"
      ],
      "metadata": {
        "colab": {
          "base_uri": "https://localhost:8080/"
        },
        "id": "Rr-oQeVdtIK_",
        "outputId": "67fefafe-5a68-4ee1-8e72-4b5b5f555c75"
      },
      "execution_count": null,
      "outputs": [
        {
          "output_type": "execute_result",
          "data": {
            "text/plain": [
              "((8031, 9), (8031,), (2678, 9), (2678,))"
            ]
          },
          "metadata": {},
          "execution_count": 29
        }
      ]
    },
    {
      "cell_type": "code",
      "source": [
        "scaler = StandardScaler()\n",
        "x_trainscaled = scaler.fit_transform(x_train)\n",
        "x_testscaled = scaler.transform(x_test)"
      ],
      "metadata": {
        "id": "6lsjAKD_tTLo"
      },
      "execution_count": null,
      "outputs": []
    },
    {
      "cell_type": "code",
      "source": [
        "clf1=RandomForestRegressor()\n",
        "clf1.fit(x_trainscaled,y_train)"
      ],
      "metadata": {
        "colab": {
          "base_uri": "https://localhost:8080/"
        },
        "id": "GIrdnWTjtU6q",
        "outputId": "70d29e5e-85d5-4a29-df16-aea4df13602c"
      },
      "execution_count": null,
      "outputs": [
        {
          "output_type": "execute_result",
          "data": {
            "text/plain": [
              "RandomForestRegressor()"
            ]
          },
          "metadata": {},
          "execution_count": 31
        }
      ]
    },
    {
      "cell_type": "code",
      "source": [
        "ypredranscaled=clf1.predict(x_testscaled)\n",
        "maerandomscaled = mean_absolute_error(ypredranscaled,y_test)\n",
        "maerandomscaled"
      ],
      "metadata": {
        "colab": {
          "base_uri": "https://localhost:8080/"
        },
        "id": "Z40vRemftWwY",
        "outputId": "d54ffe0d-f7dc-4fa6-c81f-3784569354e2"
      },
      "execution_count": null,
      "outputs": [
        {
          "output_type": "execute_result",
          "data": {
            "text/plain": [
              "0.3419983025440185"
            ]
          },
          "metadata": {},
          "execution_count": 32
        }
      ]
    },
    {
      "cell_type": "code",
      "source": [
        "randommeanlist = [maerandom, maerandomscaled]\n",
        "namerandom = ['Non Scaled', 'Scaled']"
      ],
      "metadata": {
        "id": "kFcZ6MZMtbeQ"
      },
      "execution_count": null,
      "outputs": []
    },
    {
      "cell_type": "code",
      "source": [
        "plt.bar(namerandom,randommeanlist)\n",
        "plt.xlabel(\"Data\")\n",
        "plt.ylabel(\"Mean Absolute Error\")"
      ],
      "metadata": {
        "colab": {
          "base_uri": "https://localhost:8080/",
          "height": 296
        },
        "id": "Uytz5XHmtgsf",
        "outputId": "b3f634ba-be99-4ab5-f5ef-b9cf7c7fa421"
      },
      "execution_count": null,
      "outputs": [
        {
          "output_type": "execute_result",
          "data": {
            "text/plain": [
              "Text(0, 0.5, 'Mean Absolute Error')"
            ]
          },
          "metadata": {},
          "execution_count": 34
        },
        {
          "output_type": "display_data",
          "data": {
            "image/png": "[encoded data removed]",
            "text/plain": [
              "<Figure size 432x288 with 1 Axes>"
            ]
          },
          "metadata": {
            "needs_background": "light"
          }
        }
      ]
    },
    {
      "cell_type": "code",
      "source": [
        "import tensorflow as tf"
      ],
      "metadata": {
        "id": "s10A6laztuvw"
      },
      "execution_count": null,
      "outputs": []
    },
    {
      "cell_type": "code",
      "source": [
        "model = Sequential()\n",
        "model.add(Dense(256, input_dim = 9, activation='relu'))\n",
        "model.add(Dropout(0.2))\n",
        "model.add(Dense(128, activation='relu'))\n",
        "model.add(Dense(1, activation='relu'))\n",
        "model.compile(loss='mean_absolute_error', optimizer='adam')\n",
        "model.fit(x_trainscaled, y_train, epochs=100, batch_size=50)"
      ],
      "metadata": {
        "colab": {
          "base_uri": "https://localhost:8080/"
        },
        "id": "kiOL55ZXtiPi",
        "outputId": "ddd184cb-1e4b-4c28-d7b4-e78a7e939189"
      },
      "execution_count": null,
      "outputs": [
        {
          "output_type": "stream",
          "name": "stdout",
          "text": [
            "Epoch 1/100\n",
            "161/161 [==============================] - 1s 3ms/step - loss: 2.2296\n",
            "Epoch 2/100\n",
            "161/161 [==============================] - 0s 3ms/step - loss: 1.9535\n",
            "Epoch 3/100\n",
            "161/161 [==============================] - 0s 3ms/step - loss: 1.8681\n",
            "Epoch 4/100\n",
            "161/161 [==============================] - 0s 3ms/step - loss: 1.7438\n",
            "Epoch 5/100\n",
            "161/161 [==============================] - 1s 3ms/step - loss: 1.6531\n",
            "Epoch 6/100\n",
            "161/161 [==============================] - 1s 3ms/step - loss: 1.5935\n",
            "Epoch 7/100\n",
            "161/161 [==============================] - 1s 3ms/step - loss: 1.5139\n",
            "Epoch 8/100\n",
            "161/161 [==============================] - 0s 3ms/step - loss: 1.4594\n",
            "Epoch 9/100\n",
            "161/161 [==============================] - 1s 3ms/step - loss: 1.4039\n",
            "Epoch 10/100\n",
            "161/161 [==============================] - 1s 3ms/step - loss: 1.3708\n",
            "Epoch 11/100\n",
            "161/161 [==============================] - 1s 3ms/step - loss: 1.3232\n",
            "Epoch 12/100\n",
            "161/161 [==============================] - 1s 3ms/step - loss: 1.2901\n",
            "Epoch 13/100\n",
            "161/161 [==============================] - 1s 3ms/step - loss: 1.2632\n",
            "Epoch 14/100\n",
            "161/161 [==============================] - 1s 3ms/step - loss: 1.2429\n",
            "Epoch 15/100\n",
            "161/161 [==============================] - 0s 3ms/step - loss: 1.2250\n",
            "Epoch 16/100\n",
            "161/161 [==============================] - 1s 3ms/step - loss: 1.1802\n",
            "Epoch 17/100\n",
            "161/161 [==============================] - 1s 3ms/step - loss: 1.1682\n",
            "Epoch 18/100\n",
            "161/161 [==============================] - 1s 3ms/step - loss: 1.1426\n",
            "Epoch 19/100\n",
            "161/161 [==============================] - 1s 3ms/step - loss: 1.1318\n",
            "Epoch 20/100\n",
            "161/161 [==============================] - 1s 3ms/step - loss: 1.0947\n",
            "Epoch 21/100\n",
            "161/161 [==============================] - 1s 3ms/step - loss: 1.0974\n",
            "Epoch 22/100\n",
            "161/161 [==============================] - 1s 3ms/step - loss: 1.0854\n",
            "Epoch 23/100\n",
            "161/161 [==============================] - 1s 3ms/step - loss: 1.0821\n",
            "Epoch 24/100\n",
            "161/161 [==============================] - 1s 3ms/step - loss: 1.0551\n",
            "Epoch 25/100\n",
            "161/161 [==============================] - 0s 3ms/step - loss: 1.0384\n",
            "Epoch 26/100\n",
            "161/161 [==============================] - 1s 3ms/step - loss: 1.0149\n",
            "Epoch 27/100\n",
            "161/161 [==============================] - 0s 3ms/step - loss: 1.0058\n",
            "Epoch 28/100\n",
            "161/161 [==============================] - 1s 3ms/step - loss: 1.0066\n",
            "Epoch 29/100\n",
            "161/161 [==============================] - 1s 3ms/step - loss: 0.9999\n",
            "Epoch 30/100\n",
            "161/161 [==============================] - 1s 3ms/step - loss: 1.0004\n",
            "Epoch 31/100\n",
            "161/161 [==============================] - 1s 3ms/step - loss: 1.0083\n",
            "Epoch 32/100\n",
            "161/161 [==============================] - 1s 3ms/step - loss: 0.9704\n",
            "Epoch 33/100\n",
            "161/161 [==============================] - 1s 3ms/step - loss: 0.9802\n",
            "Epoch 34/100\n",
            "161/161 [==============================] - 1s 3ms/step - loss: 0.9636\n",
            "Epoch 35/100\n",
            "161/161 [==============================] - 1s 3ms/step - loss: 0.9479\n",
            "Epoch 36/100\n",
            "161/161 [==============================] - 1s 3ms/step - loss: 0.9563\n",
            "Epoch 37/100\n",
            "161/161 [==============================] - 1s 3ms/step - loss: 0.9135\n",
            "Epoch 38/100\n",
            "161/161 [==============================] - 1s 3ms/step - loss: 0.9234\n",
            "Epoch 39/100\n",
            "161/161 [==============================] - 0s 3ms/step - loss: 0.9403\n",
            "Epoch 40/100\n",
            "161/161 [==============================] - 1s 3ms/step - loss: 0.9111\n",
            "Epoch 41/100\n",
            "161/161 [==============================] - 1s 3ms/step - loss: 0.9191\n",
            "Epoch 42/100\n",
            "161/161 [==============================] - 1s 3ms/step - loss: 0.9050\n",
            "Epoch 43/100\n",
            "161/161 [==============================] - 1s 3ms/step - loss: 0.8947\n",
            "Epoch 44/100\n",
            "161/161 [==============================] - 1s 3ms/step - loss: 0.8966\n",
            "Epoch 45/100\n",
            "161/161 [==============================] - 1s 3ms/step - loss: 0.8874\n",
            "Epoch 46/100\n",
            "161/161 [==============================] - 0s 3ms/step - loss: 0.8778\n",
            "Epoch 47/100\n",
            "161/161 [==============================] - 1s 3ms/step - loss: 0.8860\n",
            "Epoch 48/100\n",
            "161/161 [==============================] - 0s 3ms/step - loss: 0.8673\n",
            "Epoch 49/100\n",
            "161/161 [==============================] - 1s 3ms/step - loss: 0.8738\n",
            "Epoch 50/100\n",
            "161/161 [==============================] - 0s 3ms/step - loss: 0.8534\n",
            "Epoch 51/100\n",
            "161/161 [==============================] - 1s 3ms/step - loss: 0.8405\n",
            "Epoch 52/100\n",
            "161/161 [==============================] - 1s 3ms/step - loss: 0.8457\n",
            "Epoch 53/100\n",
            "161/161 [==============================] - 1s 3ms/step - loss: 0.8691\n",
            "Epoch 54/100\n",
            "161/161 [==============================] - 1s 3ms/step - loss: 0.8747\n",
            "Epoch 55/100\n",
            "161/161 [==============================] - 1s 3ms/step - loss: 0.8650\n",
            "Epoch 56/100\n",
            "161/161 [==============================] - 1s 3ms/step - loss: 0.8505\n",
            "Epoch 57/100\n",
            "161/161 [==============================] - 0s 3ms/step - loss: 0.8446\n",
            "Epoch 58/100\n",
            "161/161 [==============================] - 1s 3ms/step - loss: 0.8352\n",
            "Epoch 59/100\n",
            "161/161 [==============================] - 1s 3ms/step - loss: 0.8349\n",
            "Epoch 60/100\n",
            "161/161 [==============================] - 0s 3ms/step - loss: 0.8457\n",
            "Epoch 61/100\n",
            "161/161 [==============================] - 1s 3ms/step - loss: 0.8537\n",
            "Epoch 62/100\n",
            "161/161 [==============================] - 1s 3ms/step - loss: 0.8349\n",
            "Epoch 63/100\n",
            "161/161 [==============================] - 1s 3ms/step - loss: 0.8298\n",
            "Epoch 64/100\n",
            "161/161 [==============================] - 1s 3ms/step - loss: 0.8077\n",
            "Epoch 65/100\n",
            "161/161 [==============================] - 0s 3ms/step - loss: 0.8109\n",
            "Epoch 66/100\n",
            "161/161 [==============================] - 0s 3ms/step - loss: 0.8136\n",
            "Epoch 67/100\n",
            "161/161 [==============================] - 0s 3ms/step - loss: 0.8207\n",
            "Epoch 68/100\n",
            "161/161 [==============================] - 0s 3ms/step - loss: 0.7982\n",
            "Epoch 69/100\n",
            "161/161 [==============================] - 1s 3ms/step - loss: 0.8065\n",
            "Epoch 70/100\n",
            "161/161 [==============================] - 1s 3ms/step - loss: 0.8124\n",
            "Epoch 71/100\n",
            "161/161 [==============================] - 1s 3ms/step - loss: 0.7964\n",
            "Epoch 72/100\n",
            "161/161 [==============================] - 0s 3ms/step - loss: 0.8008\n",
            "Epoch 73/100\n",
            "161/161 [==============================] - 1s 3ms/step - loss: 0.8190\n",
            "Epoch 74/100\n",
            "161/161 [==============================] - 1s 3ms/step - loss: 0.8074\n",
            "Epoch 75/100\n",
            "161/161 [==============================] - 0s 3ms/step - loss: 0.7930\n",
            "Epoch 76/100\n",
            "161/161 [==============================] - 0s 3ms/step - loss: 0.7907\n",
            "Epoch 77/100\n",
            "161/161 [==============================] - 0s 3ms/step - loss: 0.7976\n",
            "Epoch 78/100\n",
            "161/161 [==============================] - 0s 3ms/step - loss: 0.7990\n",
            "Epoch 79/100\n",
            "161/161 [==============================] - 0s 3ms/step - loss: 0.7864\n",
            "Epoch 80/100\n",
            "161/161 [==============================] - 0s 3ms/step - loss: 0.7855\n",
            "Epoch 81/100\n",
            "161/161 [==============================] - 0s 3ms/step - loss: 0.7847\n",
            "Epoch 82/100\n",
            "161/161 [==============================] - 1s 3ms/step - loss: 0.7966\n",
            "Epoch 83/100\n",
            "161/161 [==============================] - 1s 3ms/step - loss: 0.7793\n",
            "Epoch 84/100\n",
            "161/161 [==============================] - 1s 3ms/step - loss: 0.7795\n",
            "Epoch 85/100\n",
            "161/161 [==============================] - 0s 3ms/step - loss: 0.7806\n",
            "Epoch 86/100\n",
            "161/161 [==============================] - 1s 3ms/step - loss: 0.7699\n",
            "Epoch 87/100\n",
            "161/161 [==============================] - 0s 3ms/step - loss: 0.7603\n",
            "Epoch 88/100\n",
            "161/161 [==============================] - 1s 3ms/step - loss: 0.7675\n",
            "Epoch 89/100\n",
            "161/161 [==============================] - 0s 3ms/step - loss: 0.7678\n",
            "Epoch 90/100\n",
            "161/161 [==============================] - 1s 3ms/step - loss: 0.7591\n",
            "Epoch 91/100\n",
            "161/161 [==============================] - 1s 3ms/step - loss: 0.7566\n",
            "Epoch 92/100\n",
            "161/161 [==============================] - 1s 3ms/step - loss: 0.7760\n",
            "Epoch 93/100\n",
            "161/161 [==============================] - 0s 3ms/step - loss: 0.7666\n",
            "Epoch 94/100\n",
            "161/161 [==============================] - 1s 3ms/step - loss: 0.7554\n",
            "Epoch 95/100\n",
            "161/161 [==============================] - 0s 3ms/step - loss: 0.7724\n",
            "Epoch 96/100\n",
            "161/161 [==============================] - 1s 3ms/step - loss: 0.7639\n",
            "Epoch 97/100\n",
            "161/161 [==============================] - 1s 3ms/step - loss: 0.7483\n",
            "Epoch 98/100\n",
            "161/161 [==============================] - 1s 3ms/step - loss: 0.7653\n",
            "Epoch 99/100\n",
            "161/161 [==============================] - 1s 3ms/step - loss: 0.7427\n",
            "Epoch 100/100\n",
            "161/161 [==============================] - 1s 3ms/step - loss: 0.7554\n"
          ]
        },
        {
          "output_type": "execute_result",
          "data": {
            "text/plain": [
              "<keras.callbacks.History at 0x7f2caf5d0590>"
            ]
          },
          "metadata": {},
          "execution_count": 36
        }
      ]
    },
    {
      "cell_type": "code",
      "source": [
        "ypredkeras = model.predict(x_testscaled)\n",
        "maekeras_scaled=mean_absolute_error(y_test, ypredkeras)"
      ],
      "metadata": {
        "id": "L4FRXsnZtq5b"
      },
      "execution_count": null,
      "outputs": []
    },
    {
      "cell_type": "code",
      "source": [
        "model1 = Sequential()\n",
        "model1.add(Dense(256, input_dim = 9, activation='relu'))\n",
        "model1.add(Dropout(0.2))\n",
        "model1.add(Dense(128, activation='relu'))\n",
        "model1.add(Dense(1, activation='relu'))\n",
        "model1.compile(loss='mean_absolute_error', optimizer='adam')"
      ],
      "metadata": {
        "id": "bVo-zhfvt9qc"
      },
      "execution_count": null,
      "outputs": []
    },
    {
      "cell_type": "code",
      "source": [
        "model1.fit(x_train, y_train, epochs=100, batch_size=64)"
      ],
      "metadata": {
        "colab": {
          "base_uri": "https://localhost:8080/"
        },
        "id": "vODdburYuDnw",
        "outputId": "d58b1353-ed08-45b0-d1eb-be1e9cd5d2a1"
      },
      "execution_count": null,
      "outputs": [
        {
          "output_type": "stream",
          "name": "stdout",
          "text": [
            "Epoch 1/100\n",
            "126/126 [==============================] - 1s 3ms/step - loss: 23.6232\n",
            "Epoch 2/100\n",
            "126/126 [==============================] - 0s 3ms/step - loss: 5.0620\n",
            "Epoch 3/100\n",
            "126/126 [==============================] - 0s 3ms/step - loss: 5.0620\n",
            "Epoch 4/100\n",
            "126/126 [==============================] - 0s 3ms/step - loss: 5.0620\n",
            "Epoch 5/100\n",
            "126/126 [==============================] - 0s 3ms/step - loss: 5.0620\n",
            "Epoch 6/100\n",
            "126/126 [==============================] - 0s 3ms/step - loss: 5.0620\n",
            "Epoch 7/100\n",
            "126/126 [==============================] - 0s 3ms/step - loss: 5.0620\n",
            "Epoch 8/100\n",
            "126/126 [==============================] - 0s 3ms/step - loss: 5.0620\n",
            "Epoch 9/100\n",
            "126/126 [==============================] - 0s 3ms/step - loss: 5.0620\n",
            "Epoch 10/100\n",
            "126/126 [==============================] - 0s 3ms/step - loss: 5.0620\n",
            "Epoch 11/100\n",
            "126/126 [==============================] - 0s 3ms/step - loss: 5.0620\n",
            "Epoch 12/100\n",
            "126/126 [==============================] - 0s 3ms/step - loss: 5.0620\n",
            "Epoch 13/100\n",
            "126/126 [==============================] - 0s 3ms/step - loss: 5.0620\n",
            "Epoch 14/100\n",
            "126/126 [==============================] - 0s 3ms/step - loss: 5.0620\n",
            "Epoch 15/100\n",
            "126/126 [==============================] - 0s 3ms/step - loss: 5.0620\n",
            "Epoch 16/100\n",
            "126/126 [==============================] - 0s 3ms/step - loss: 5.0620\n",
            "Epoch 17/100\n",
            "126/126 [==============================] - 0s 3ms/step - loss: 5.0620\n",
            "Epoch 18/100\n",
            "126/126 [==============================] - 0s 3ms/step - loss: 5.0620\n",
            "Epoch 19/100\n",
            "126/126 [==============================] - 0s 3ms/step - loss: 5.0620\n",
            "Epoch 20/100\n",
            "126/126 [==============================] - 0s 3ms/step - loss: 5.0620\n",
            "Epoch 21/100\n",
            "126/126 [==============================] - 0s 3ms/step - loss: 5.0620\n",
            "Epoch 22/100\n",
            "126/126 [==============================] - 0s 3ms/step - loss: 5.0620\n",
            "Epoch 23/100\n",
            "126/126 [==============================] - 0s 4ms/step - loss: 5.0620\n",
            "Epoch 24/100\n",
            "126/126 [==============================] - 0s 3ms/step - loss: 5.0620\n",
            "Epoch 25/100\n",
            "126/126 [==============================] - 0s 3ms/step - loss: 5.0620\n",
            "Epoch 26/100\n",
            "126/126 [==============================] - 0s 3ms/step - loss: 5.0620\n",
            "Epoch 27/100\n",
            "126/126 [==============================] - 0s 3ms/step - loss: 5.0620\n",
            "Epoch 28/100\n",
            "126/126 [==============================] - 0s 3ms/step - loss: 5.0620\n",
            "Epoch 29/100\n",
            "126/126 [==============================] - 0s 3ms/step - loss: 5.0620\n",
            "Epoch 30/100\n",
            "126/126 [==============================] - 0s 3ms/step - loss: 5.0620\n",
            "Epoch 31/100\n",
            "126/126 [==============================] - 0s 3ms/step - loss: 5.0620\n",
            "Epoch 32/100\n",
            "126/126 [==============================] - 0s 3ms/step - loss: 5.0620\n",
            "Epoch 33/100\n",
            "126/126 [==============================] - 0s 3ms/step - loss: 5.0620\n",
            "Epoch 34/100\n",
            "126/126 [==============================] - 0s 3ms/step - loss: 5.0620\n",
            "Epoch 35/100\n",
            "126/126 [==============================] - 0s 3ms/step - loss: 5.0620\n",
            "Epoch 36/100\n",
            "126/126 [==============================] - 0s 3ms/step - loss: 5.0620\n",
            "Epoch 37/100\n",
            "126/126 [==============================] - 0s 3ms/step - loss: 5.0620\n",
            "Epoch 38/100\n",
            "126/126 [==============================] - 0s 3ms/step - loss: 5.0620\n",
            "Epoch 39/100\n",
            "126/126 [==============================] - 0s 3ms/step - loss: 5.0620\n",
            "Epoch 40/100\n",
            "126/126 [==============================] - 0s 3ms/step - loss: 5.0620\n",
            "Epoch 41/100\n",
            "126/126 [==============================] - 0s 3ms/step - loss: 5.0620\n",
            "Epoch 42/100\n",
            "126/126 [==============================] - 0s 3ms/step - loss: 5.0620\n",
            "Epoch 43/100\n",
            "126/126 [==============================] - 0s 3ms/step - loss: 5.0620\n",
            "Epoch 44/100\n",
            "126/126 [==============================] - 0s 3ms/step - loss: 5.0620\n",
            "Epoch 45/100\n",
            "126/126 [==============================] - 0s 3ms/step - loss: 5.0620\n",
            "Epoch 46/100\n",
            "126/126 [==============================] - 0s 3ms/step - loss: 5.0620\n",
            "Epoch 47/100\n",
            "126/126 [==============================] - 0s 3ms/step - loss: 5.0620\n",
            "Epoch 48/100\n",
            "126/126 [==============================] - 0s 3ms/step - loss: 5.0620\n",
            "Epoch 49/100\n",
            "126/126 [==============================] - 0s 3ms/step - loss: 5.0620\n",
            "Epoch 50/100\n",
            "126/126 [==============================] - 0s 3ms/step - loss: 5.0620\n",
            "Epoch 51/100\n",
            "126/126 [==============================] - 0s 3ms/step - loss: 5.0620\n",
            "Epoch 52/100\n",
            "126/126 [==============================] - 0s 3ms/step - loss: 5.0620\n",
            "Epoch 53/100\n",
            "126/126 [==============================] - 0s 3ms/step - loss: 5.0620\n",
            "Epoch 54/100\n",
            "126/126 [==============================] - 0s 3ms/step - loss: 5.0620\n",
            "Epoch 55/100\n",
            "126/126 [==============================] - 0s 3ms/step - loss: 5.0620\n",
            "Epoch 56/100\n",
            "126/126 [==============================] - 0s 3ms/step - loss: 5.0620\n",
            "Epoch 57/100\n",
            "126/126 [==============================] - 0s 3ms/step - loss: 5.0620\n",
            "Epoch 58/100\n",
            "126/126 [==============================] - 0s 3ms/step - loss: 5.0620\n",
            "Epoch 59/100\n",
            "126/126 [==============================] - 0s 3ms/step - loss: 5.0620\n",
            "Epoch 60/100\n",
            "126/126 [==============================] - 0s 3ms/step - loss: 5.0620\n",
            "Epoch 61/100\n",
            "126/126 [==============================] - 0s 3ms/step - loss: 5.0620\n",
            "Epoch 62/100\n",
            "126/126 [==============================] - 0s 3ms/step - loss: 5.0620\n",
            "Epoch 63/100\n",
            "126/126 [==============================] - 0s 3ms/step - loss: 5.0620\n",
            "Epoch 64/100\n",
            "126/126 [==============================] - 0s 3ms/step - loss: 5.0620\n",
            "Epoch 65/100\n",
            "126/126 [==============================] - 0s 3ms/step - loss: 5.0620\n",
            "Epoch 66/100\n",
            "126/126 [==============================] - 0s 3ms/step - loss: 5.0620\n",
            "Epoch 67/100\n",
            "126/126 [==============================] - 0s 3ms/step - loss: 5.0620\n",
            "Epoch 68/100\n",
            "126/126 [==============================] - 0s 3ms/step - loss: 5.0620\n",
            "Epoch 69/100\n",
            "126/126 [==============================] - 0s 3ms/step - loss: 5.0620\n",
            "Epoch 70/100\n",
            "126/126 [==============================] - 0s 3ms/step - loss: 5.0620\n",
            "Epoch 71/100\n",
            "126/126 [==============================] - 0s 3ms/step - loss: 5.0620\n",
            "Epoch 72/100\n",
            "126/126 [==============================] - 0s 3ms/step - loss: 5.0620\n",
            "Epoch 73/100\n",
            "126/126 [==============================] - 0s 3ms/step - loss: 5.0620\n",
            "Epoch 74/100\n",
            "126/126 [==============================] - 0s 3ms/step - loss: 5.0620\n",
            "Epoch 75/100\n",
            "126/126 [==============================] - 0s 3ms/step - loss: 5.0620\n",
            "Epoch 76/100\n",
            "126/126 [==============================] - 0s 3ms/step - loss: 5.0620\n",
            "Epoch 77/100\n",
            "126/126 [==============================] - 0s 3ms/step - loss: 5.0620\n",
            "Epoch 78/100\n",
            "126/126 [==============================] - 0s 3ms/step - loss: 5.0620\n",
            "Epoch 79/100\n",
            "126/126 [==============================] - 0s 3ms/step - loss: 5.0620\n",
            "Epoch 80/100\n",
            "126/126 [==============================] - 0s 3ms/step - loss: 5.0620\n",
            "Epoch 81/100\n",
            "126/126 [==============================] - 0s 3ms/step - loss: 5.0620\n",
            "Epoch 82/100\n",
            "126/126 [==============================] - 0s 3ms/step - loss: 5.0620\n",
            "Epoch 83/100\n",
            "126/126 [==============================] - 0s 3ms/step - loss: 5.0620\n",
            "Epoch 84/100\n",
            "126/126 [==============================] - 0s 3ms/step - loss: 5.0620\n",
            "Epoch 85/100\n",
            "126/126 [==============================] - 0s 3ms/step - loss: 5.0620\n",
            "Epoch 86/100\n",
            "126/126 [==============================] - 0s 3ms/step - loss: 5.0620\n",
            "Epoch 87/100\n",
            "126/126 [==============================] - 0s 3ms/step - loss: 5.0620\n",
            "Epoch 88/100\n",
            "126/126 [==============================] - 0s 3ms/step - loss: 5.0620\n",
            "Epoch 89/100\n",
            "126/126 [==============================] - 1s 4ms/step - loss: 5.0620\n",
            "Epoch 90/100\n",
            "126/126 [==============================] - 0s 3ms/step - loss: 5.0620\n",
            "Epoch 91/100\n",
            "126/126 [==============================] - 0s 3ms/step - loss: 5.0620\n",
            "Epoch 92/100\n",
            "126/126 [==============================] - 0s 3ms/step - loss: 5.0620\n",
            "Epoch 93/100\n",
            "126/126 [==============================] - 0s 3ms/step - loss: 5.0620\n",
            "Epoch 94/100\n",
            "126/126 [==============================] - 0s 3ms/step - loss: 5.0620\n",
            "Epoch 95/100\n",
            "126/126 [==============================] - 0s 3ms/step - loss: 5.0620\n",
            "Epoch 96/100\n",
            "126/126 [==============================] - 0s 3ms/step - loss: 5.0620\n",
            "Epoch 97/100\n",
            "126/126 [==============================] - 0s 3ms/step - loss: 5.0620\n",
            "Epoch 98/100\n",
            "126/126 [==============================] - 0s 3ms/step - loss: 5.0620\n",
            "Epoch 99/100\n",
            "126/126 [==============================] - 0s 3ms/step - loss: 5.0620\n",
            "Epoch 100/100\n",
            "126/126 [==============================] - 0s 3ms/step - loss: 5.0620\n"
          ]
        },
        {
          "output_type": "execute_result",
          "data": {
            "text/plain": [
              "<keras.callbacks.History at 0x7f2cb05f36d0>"
            ]
          },
          "metadata": {},
          "execution_count": 39
        }
      ]
    },
    {
      "cell_type": "code",
      "source": [
        "ypredkeras1 = model1.predict(x_test)\n",
        "maekeras=mean_absolute_error(y_test, ypredkeras1)"
      ],
      "metadata": {
        "id": "1zrxBC9huHhy"
      },
      "execution_count": null,
      "outputs": []
    },
    {
      "cell_type": "code",
      "source": [
        "kerasmeanlist = [maekeras, maekeras_scaled]\n",
        "namerandom = ['Non Scaled', 'Scaled']\n",
        "plt.bar(namerandom,kerasmeanlist)\n",
        "plt.xlabel(\"Data\")\n",
        "plt.ylabel(\"Mean Absolute Error\")"
      ],
      "metadata": {
        "colab": {
          "base_uri": "https://localhost:8080/",
          "height": 296
        },
        "id": "7LPAmLSmuLok",
        "outputId": "7d2d7f89-9005-4f2d-ca1f-bf9840e53847"
      },
      "execution_count": null,
      "outputs": [
        {
          "output_type": "execute_result",
          "data": {
            "text/plain": [
              "Text(0, 0.5, 'Mean Absolute Error')"
            ]
          },
          "metadata": {},
          "execution_count": 41
        },
        {
          "output_type": "display_data",
          "data": {
            "image/png": "[encoded data removed]",
            "text/plain": [
              "<Figure size 432x288 with 1 Axes>"
            ]
          },
          "metadata": {
            "needs_background": "light"
          }
        }
      ]
    },
    {
      "cell_type": "code",
      "source": [
        "import sklearn"
      ],
      "metadata": {
        "id": "VejR4wfXuWKl"
      },
      "execution_count": null,
      "outputs": []
    },
    {
      "cell_type": "code",
      "source": [
        "from sklearn.model_selection import RandomizedSearchCV\n",
        "from sklearn.model_selection import GridSearchCV\n",
        "rfc = RandomForestRegressor()\n",
        "para_grid = {\n",
        "    'n_estimators' : [20, 50, 100], \n",
        "}\n",
        "cv_rfc = GridSearchCV(estimator = rfc, param_grid = para_grid, cv = 3)\n",
        "cv_rfc.fit(x_trainscaled, y_train)"
      ],
      "metadata": {
        "colab": {
          "base_uri": "https://localhost:8080/"
        },
        "id": "CT-0xJXyuP9T",
        "outputId": "fb844ba8-dc78-4dab-f7c4-231314dc1901"
      },
      "execution_count": null,
      "outputs": [
        {
          "output_type": "execute_result",
          "data": {
            "text/plain": [
              "GridSearchCV(cv=3, estimator=RandomForestRegressor(),\n",
              "             param_grid={'n_estimators': [20, 50, 100]})"
            ]
          },
          "metadata": {},
          "execution_count": 43
        }
      ]
    },
    {
      "cell_type": "code",
      "source": [
        "yp1=cv_rfc.predict(x_testscaled)"
      ],
      "metadata": {
        "id": "vi3OnNAKuSz4"
      },
      "execution_count": null,
      "outputs": []
    },
    {
      "cell_type": "code",
      "source": [
        "mae1=mean_absolute_error(yp1,y_test)\n",
        "mae1"
      ],
      "metadata": {
        "colab": {
          "base_uri": "https://localhost:8080/"
        },
        "id": "avDWV6t7ujCC",
        "outputId": "36426af0-eacb-4860-a463-d2e3d45c7bbb"
      },
      "execution_count": null,
      "outputs": [
        {
          "output_type": "execute_result",
          "data": {
            "text/plain": [
              "0.34463343711680644"
            ]
          },
          "metadata": {},
          "execution_count": 45
        }
      ]
    },
    {
      "cell_type": "code",
      "source": [
        "from sklearn.linear_model import LinearRegression\n",
        "clf_linear = LinearRegression()\n",
        "clf_linear.fit(x_train, y_train)\n",
        "ypredlinear = clf_linear.predict(x_test)\n",
        "maelinear=mean_absolute_error(y_test, ypredlinear)\n",
        "# on scaled data:\n",
        "clf_linearscaled = LinearRegression()\n",
        "clf_linearscaled.fit(x_trainscaled, y_train)\n",
        "ypredlinearscaled = clf_linearscaled.predict(x_testscaled)\n",
        "maelinearscaled=mean_absolute_error(y_test, ypredlinearscaled)\n",
        "linearmeanlist = [maelinear, maelinearscaled]\n",
        "namerandom = ['Non Scaled', 'Scaled']\n",
        "plt.bar(namerandom,linearmeanlist)\n",
        "plt.xlabel(\"Data\")\n",
        "plt.ylabel(\"Mean Absolute Error\")"
      ],
      "metadata": {
        "colab": {
          "base_uri": "https://localhost:8080/",
          "height": 296
        },
        "id": "00tHsibruooJ",
        "outputId": "87fd600f-aa72-4035-f47c-816d971b6822"
      },
      "execution_count": null,
      "outputs": [
        {
          "output_type": "execute_result",
          "data": {
            "text/plain": [
              "Text(0, 0.5, 'Mean Absolute Error')"
            ]
          },
          "metadata": {},
          "execution_count": 46
        },
        {
          "output_type": "display_data",
          "data": {
            "image/png": "[encoded data removed]",
            "text/plain": [
              "<Figure size 432x288 with 1 Axes>"
            ]
          },
          "metadata": {
            "needs_background": "light"
          }
        }
      ]
    },
    {
      "cell_type": "code",
      "source": [
        "from sklearn.neighbors import KNeighborsRegressor\n",
        "clfKNN = KNeighborsRegressor(n_neighbors = 3, algorithm = 'ball_tree')\n",
        "clfKNN.fit(x_train, y_train)\n",
        "ypredknn = clfKNN.predict(x_test)\n",
        "knnmae=mean_absolute_error(y_test, ypredknn)\n",
        "clfKNN1 = KNeighborsRegressor(n_neighbors = 3, algorithm = 'ball_tree')\n",
        "clfKNN1.fit(x_trainscaled, y_train)\n",
        "ypredknnscaled = clfKNN1.predict(x_testscaled)\n",
        "knnmaescaled=mean_absolute_error(y_test, ypredknnscaled)\n",
        "knnmeanlist = [knnmae, knnmaescaled]\n",
        "namerandom = ['Non Scaled', 'Scaled']\n",
        "plt.bar(namerandom,knnmeanlist)\n",
        "plt.xlabel(\"Data\")\n",
        "plt.ylabel(\"Mean Absolute Error\")"
      ],
      "metadata": {
        "colab": {
          "base_uri": "https://localhost:8080/",
          "height": 296
        },
        "id": "HbUvwlCJuqpJ",
        "outputId": "521cf085-b962-4863-eca7-ce5f9e385af9"
      },
      "execution_count": null,
      "outputs": [
        {
          "output_type": "execute_result",
          "data": {
            "text/plain": [
              "Text(0, 0.5, 'Mean Absolute Error')"
            ]
          },
          "metadata": {},
          "execution_count": 47
        },
        {
          "output_type": "display_data",
          "data": {
            "image/png": "[encoded data removed]",
            "text/plain": [
              "<Figure size 432x288 with 1 Axes>"
            ]
          },
          "metadata": {
            "needs_background": "light"
          }
        }
      ]
    },
    {
      "cell_type": "code",
      "source": [
        "x_ax = []\n",
        "y_ax = []\n",
        "for i in range(1, 50, 2):\n",
        "    clfk = KNeighborsRegressor(n_neighbors = i, algorithm='ball_tree')\n",
        "    clfk.fit(x_trainscaled, y_train)\n",
        "    ypredk = clfk.predict(x_testscaled)\n",
        "    mae = mean_absolute_error(y_test, ypredk)\n",
        "    print(mae)\n",
        "    x_ax.append(i)\n",
        "    y_ax.append(mae)"
      ],
      "metadata": {
        "colab": {
          "base_uri": "https://localhost:8080/"
        },
        "id": "hcuT1COAuwWt",
        "outputId": "b5aabc2c-60eb-4522-ca17-e32c4cef3c7e"
      },
      "execution_count": null,
      "outputs": [
        {
          "output_type": "stream",
          "name": "stdout",
          "text": [
            "2.205803099081464\n",
            "1.7805099195676586\n",
            "1.6958237014789745\n",
            "1.693954969504183\n",
            "1.6961133217784\n",
            "1.7128980907497418\n",
            "1.7106364631285738\n",
            "1.7190955688121776\n",
            "1.7233124031623608\n",
            "1.7285824011099502\n",
            "1.7336631406556446\n",
            "1.7394618329143925\n",
            "1.7462115073085749\n",
            "1.752213550002383\n",
            "1.759059952779002\n",
            "1.765241396027854\n",
            "1.7705351779756477\n",
            "1.776180326542933\n",
            "1.781066824487234\n",
            "1.7861506375405256\n",
            "1.7891839991106018\n",
            "1.7923602716190916\n",
            "1.7976520513278014\n",
            "1.803600264086046\n",
            "1.8089041654054037\n"
          ]
        }
      ]
    },
    {
      "cell_type": "code",
      "source": [
        "plt.plot(x_ax,y_ax)\n",
        "plt.xlabel('No Of Neighbors')\n",
        "plt.ylabel('Mean Absolute Error')"
      ],
      "metadata": {
        "colab": {
          "base_uri": "https://localhost:8080/",
          "height": 296
        },
        "id": "I-DCCYzzuzha",
        "outputId": "15ef58c5-45ba-4d42-e441-f19352a77524"
      },
      "execution_count": null,
      "outputs": [
        {
          "output_type": "execute_result",
          "data": {
            "text/plain": [
              "Text(0, 0.5, 'Mean Absolute Error')"
            ]
          },
          "metadata": {},
          "execution_count": 49
        },
        {
          "output_type": "display_data",
          "data": {
            "image/png": "[encoded data removed]",
            "text/plain": [
              "<Figure size 432x288 with 1 Axes>"
            ]
          },
          "metadata": {
            "needs_background": "light"
          }
        }
      ]
    },
    {
      "cell_type": "code",
      "source": [
        "from sklearn.linear_model import SGDRegressor\n",
        "clfsgd1=SGDRegressor()\n",
        "clfsgd1.fit(x_trainscaled,y_train)"
      ],
      "metadata": {
        "colab": {
          "base_uri": "https://localhost:8080/"
        },
        "id": "4PmeX6wRu1O1",
        "outputId": "5e45f2ad-22d7-4ff7-9063-cd03ed715b98"
      },
      "execution_count": null,
      "outputs": [
        {
          "output_type": "execute_result",
          "data": {
            "text/plain": [
              "SGDRegressor()"
            ]
          },
          "metadata": {},
          "execution_count": 50
        }
      ]
    },
    {
      "cell_type": "code",
      "source": [
        "ypredsgdscaled=clfsgd1.predict(x_testscaled)\n",
        "maesgdscaled=mean_absolute_error(ypredsgdscaled,y_test)\n",
        "clfsgd2=SGDRegressor()\n",
        "clfsgd2.fit(x_train,y_train)"
      ],
      "metadata": {
        "colab": {
          "base_uri": "https://localhost:8080/"
        },
        "id": "svqOszjZu3qk",
        "outputId": "1450c7c8-5e99-4f19-f1a6-85f2f829a644"
      },
      "execution_count": null,
      "outputs": [
        {
          "output_type": "execute_result",
          "data": {
            "text/plain": [
              "SGDRegressor()"
            ]
          },
          "metadata": {},
          "execution_count": 51
        }
      ]
    },
    {
      "cell_type": "code",
      "source": [
        "ypredsgd=clfsgd2.predict(x_test)\n",
        "maesgd=mean_absolute_error(ypredsgd,y_test)\n",
        "sgdmeanlist = [maesgd, maesgdscaled]\n",
        "namerandom = ['Non Scaled', 'Scaled']\n",
        "plt.bar(namerandom,sgdmeanlist)\n",
        "plt.xlabel(\"Data\")\n",
        "plt.ylabel(\"Mean Absolute Error\")"
      ],
      "metadata": {
        "colab": {
          "base_uri": "https://localhost:8080/",
          "height": 307
        },
        "id": "obhvnWn-u5io",
        "outputId": "459be746-4dd3-4a19-de90-b892226fd32e"
      },
      "execution_count": null,
      "outputs": [
        {
          "output_type": "execute_result",
          "data": {
            "text/plain": [
              "Text(0, 0.5, 'Mean Absolute Error')"
            ]
          },
          "metadata": {},
          "execution_count": 52
        },
        {
          "output_type": "display_data",
          "data": {
            "image/png": "[encoded data removed]",
            "text/plain": [
              "<Figure size 432x288 with 1 Axes>"
            ]
          },
          "metadata": {
            "needs_background": "light"
          }
        }
      ]
    },
    {
      "cell_type": "code",
      "source": [
        "maesgd,maesgdscaled"
      ],
      "metadata": {
        "colab": {
          "base_uri": "https://localhost:8080/"
        },
        "id": "ZksBaTJEu7sM",
        "outputId": "f252786c-cff8-47ff-90b3-51b1d3497bbe"
      },
      "execution_count": null,
      "outputs": [
        {
          "output_type": "execute_result",
          "data": {
            "text/plain": [
              "(1.6620122379237296e+17, 1.9818359536217514)"
            ]
          },
          "metadata": {},
          "execution_count": 53
        }
      ]
    },
    {
      "cell_type": "code",
      "source": [
        "meanlist = [maelinear, maekeras,maerandom,knnmae,]\n",
        "name = ['Linear Regression', 'Keras','Random Forest','KNN']"
      ],
      "metadata": {
        "id": "eenZqzGtu-Yn"
      },
      "execution_count": null,
      "outputs": []
    },
    {
      "cell_type": "code",
      "source": [
        "plt.bar(name,meanlist)\n",
        "plt.xlabel(\"Data\")\n",
        "plt.ylabel(\"Mean Absolute Error\")"
      ],
      "metadata": {
        "colab": {
          "base_uri": "https://localhost:8080/",
          "height": 296
        },
        "id": "LJjioo-Du_yU",
        "outputId": "280d4db6-6add-43a8-ac67-a6b4655dabf0"
      },
      "execution_count": null,
      "outputs": [
        {
          "output_type": "execute_result",
          "data": {
            "text/plain": [
              "Text(0, 0.5, 'Mean Absolute Error')"
            ]
          },
          "metadata": {},
          "execution_count": 55
        },
        {
          "output_type": "display_data",
          "data": {
            "image/png": "[encoded data removed]",
            "text/plain": [
              "<Figure size 432x288 with 1 Axes>"
            ]
          },
          "metadata": {
            "needs_background": "light"
          }
        }
      ]
    },
    {
      "cell_type": "code",
      "source": [
        "meanlistscaled = [maelinearscaled, maekeras_scaled,maerandomscaled,maesgdscaled,knnmaescaled]\n",
        "name = ['Linear Regression', 'Keras','Random Forest','SGD','KNN']\n",
        "plt.bar(name,meanlistscaled)\n",
        "plt.xlabel(\"Data\")\n",
        "plt.ylabel(\"Mean Absolute Error\")"
      ],
      "metadata": {
        "colab": {
          "base_uri": "https://localhost:8080/",
          "height": 296
        },
        "id": "OaelRxQfvDfT",
        "outputId": "bfa1baf3-2728-4e9d-be96-783933261246"
      },
      "execution_count": null,
      "outputs": [
        {
          "output_type": "execute_result",
          "data": {
            "text/plain": [
              "Text(0, 0.5, 'Mean Absolute Error')"
            ]
          },
          "metadata": {},
          "execution_count": 56
        },
        {
          "output_type": "display_data",
          "data": {
            "image/png": "[encoded data removed]",
            "text/plain": [
              "<Figure size 432x288 with 1 Axes>"
            ]
          },
          "metadata": {
            "needs_background": "light"
          }
        }
      ]
    },
    {
      "cell_type": "code",
      "source": [
        "num=[]\n",
        "for i in range(x_testscaled.shape[0]):\n",
        "    num.append(i+1)\n",
        "plt.scatter(num,ypredranscaled,label=\"Predicted\")\n",
        "plt.scatter(num,y_test,label=\"Actual\")\n",
        "plt.legend()\n",
        "plt.xlabel(\"Datapoints\")\n",
        "plt.ylabel(\"Production\")"
      ],
      "metadata": {
        "colab": {
          "base_uri": "https://localhost:8080/",
          "height": 296
        },
        "id": "znbjD8__vGRF",
        "outputId": "22d3895c-73e6-4049-9772-bf8cd142f690"
      },
      "execution_count": null,
      "outputs": [
        {
          "output_type": "execute_result",
          "data": {
            "text/plain": [
              "Text(0, 0.5, 'Production')"
            ]
          },
          "metadata": {},
          "execution_count": 57
        },
        {
          "output_type": "display_data",
          "data": {
            "image/png": "[encoded data removed]",
            "text/plain": [
              "<Figure size 432x288 with 1 Axes>"
            ]
          },
          "metadata": {
            "needs_background": "light"
          }
        }
      ]
    },
    {
      "cell_type": "code",
      "source": [
        "df=pd.read_excel('/content/crop_train.xls')\n",
        "df.head()"
      ],
      "metadata": {
        "colab": {
          "base_uri": "https://localhost:8080/",
          "height": 206
        },
        "id": "PtllXNedy6_H",
        "outputId": "b3e914d7-db8c-45c1-af2c-9c63aa02831c"
      },
      "execution_count": null,
      "outputs": [
        {
          "output_type": "execute_result",
          "data": {
            "text/html": [
              "<div>\n",
              "<style scoped>\n",
              "    .dataframe tbody tr th:only-of-type {\n",
              "        vertical-align: middle;\n",
              "    }\n",
              "\n",
              "    .dataframe tbody tr th {\n",
              "        vertical-align: top;\n",
              "    }\n",
              "\n",
              "    .dataframe thead th {\n",
              "        text-align: right;\n",
              "    }\n",
              "</style>\n",
              "<table border=\"1\" class=\"dataframe\">\n",
              "  <thead>\n",
              "    <tr style=\"text-align: right;\">\n",
              "      <th></th>\n",
              "      <th>Unnamed: 0</th>\n",
              "      <th>State</th>\n",
              "      <th>District</th>\n",
              "      <th>Year</th>\n",
              "      <th>Season</th>\n",
              "      <th>Crop</th>\n",
              "      <th>Area</th>\n",
              "      <th>Production</th>\n",
              "      <th>Temperature</th>\n",
              "      <th>Rainfall</th>\n",
              "      <th>Humidity</th>\n",
              "      <th>Wind Speed</th>\n",
              "    </tr>\n",
              "  </thead>\n",
              "  <tbody>\n",
              "    <tr>\n",
              "      <th>0</th>\n",
              "      <td>0</td>\n",
              "      <td>Chhattisgarh</td>\n",
              "      <td>balod</td>\n",
              "      <td>2011</td>\n",
              "      <td>Kharif</td>\n",
              "      <td>Arhar/Tur</td>\n",
              "      <td>607</td>\n",
              "      <td>290.0</td>\n",
              "      <td>25.5025</td>\n",
              "      <td>9.856148</td>\n",
              "      <td>83.805</td>\n",
              "      <td>2.11</td>\n",
              "    </tr>\n",
              "    <tr>\n",
              "      <th>1</th>\n",
              "      <td>1</td>\n",
              "      <td>Chhattisgarh</td>\n",
              "      <td>balod</td>\n",
              "      <td>2011</td>\n",
              "      <td>Kharif</td>\n",
              "      <td>Horse-gram</td>\n",
              "      <td>288</td>\n",
              "      <td>102.0</td>\n",
              "      <td>25.5025</td>\n",
              "      <td>9.856148</td>\n",
              "      <td>83.805</td>\n",
              "      <td>2.11</td>\n",
              "    </tr>\n",
              "    <tr>\n",
              "      <th>2</th>\n",
              "      <td>2</td>\n",
              "      <td>Chhattisgarh</td>\n",
              "      <td>balod</td>\n",
              "      <td>2011</td>\n",
              "      <td>Kharif</td>\n",
              "      <td>Jowar</td>\n",
              "      <td>11</td>\n",
              "      <td>8.0</td>\n",
              "      <td>25.5025</td>\n",
              "      <td>9.856148</td>\n",
              "      <td>83.805</td>\n",
              "      <td>2.11</td>\n",
              "    </tr>\n",
              "    <tr>\n",
              "      <th>3</th>\n",
              "      <td>3</td>\n",
              "      <td>Chhattisgarh</td>\n",
              "      <td>balod</td>\n",
              "      <td>2011</td>\n",
              "      <td>Kharif</td>\n",
              "      <td>Maize</td>\n",
              "      <td>125</td>\n",
              "      <td>149.0</td>\n",
              "      <td>25.5025</td>\n",
              "      <td>9.856148</td>\n",
              "      <td>83.805</td>\n",
              "      <td>2.11</td>\n",
              "    </tr>\n",
              "    <tr>\n",
              "      <th>4</th>\n",
              "      <td>4</td>\n",
              "      <td>Chhattisgarh</td>\n",
              "      <td>balod</td>\n",
              "      <td>2011</td>\n",
              "      <td>Kharif</td>\n",
              "      <td>Mesta</td>\n",
              "      <td>8</td>\n",
              "      <td>15.0</td>\n",
              "      <td>25.5025</td>\n",
              "      <td>9.856148</td>\n",
              "      <td>83.805</td>\n",
              "      <td>2.11</td>\n",
              "    </tr>\n",
              "  </tbody>\n",
              "</table>\n",
              "</div>"
            ],
            "text/plain": [
              "   Unnamed: 0         State District  ...  Rainfall Humidity Wind Speed\n",
              "0           0  Chhattisgarh    balod  ...  9.856148   83.805       2.11\n",
              "1           1  Chhattisgarh    balod  ...  9.856148   83.805       2.11\n",
              "2           2  Chhattisgarh    balod  ...  9.856148   83.805       2.11\n",
              "3           3  Chhattisgarh    balod  ...  9.856148   83.805       2.11\n",
              "4           4  Chhattisgarh    balod  ...  9.856148   83.805       2.11\n",
              "\n",
              "[5 rows x 12 columns]"
            ]
          },
          "metadata": {},
          "execution_count": 58
        }
      ]
    },
    {
      "cell_type": "code",
      "source": [
        "df.drop(['State'],axis=1,inplace=True)"
      ],
      "metadata": {
        "id": "TV-dtBFBzB0L"
      },
      "execution_count": null,
      "outputs": []
    },
    {
      "cell_type": "code",
      "source": [
        "sum(df['Production'].isna())"
      ],
      "metadata": {
        "colab": {
          "base_uri": "https://localhost:8080/"
        },
        "id": "wDNzdaBYzIja",
        "outputId": "d1f41fea-d8c0-4528-c73f-b5869ada824d"
      },
      "execution_count": null,
      "outputs": [
        {
          "output_type": "execute_result",
          "data": {
            "text/plain": [
              "341"
            ]
          },
          "metadata": {},
          "execution_count": 60
        }
      ]
    },
    {
      "cell_type": "code",
      "source": [
        "df.fillna(0,axis=1,inplace=True)"
      ],
      "metadata": {
        "id": "_l05LLLgzn1x"
      },
      "execution_count": null,
      "outputs": []
    },
    {
      "cell_type": "code",
      "source": [
        "df.head()"
      ],
      "metadata": {
        "colab": {
          "base_uri": "https://localhost:8080/",
          "height": 206
        },
        "id": "81E63xs_zpUK",
        "outputId": "926b7af3-a2ec-42e2-9599-819b5f205751"
      },
      "execution_count": null,
      "outputs": [
        {
          "output_type": "execute_result",
          "data": {
            "text/html": [
              "<div>\n",
              "<style scoped>\n",
              "    .dataframe tbody tr th:only-of-type {\n",
              "        vertical-align: middle;\n",
              "    }\n",
              "\n",
              "    .dataframe tbody tr th {\n",
              "        vertical-align: top;\n",
              "    }\n",
              "\n",
              "    .dataframe thead th {\n",
              "        text-align: right;\n",
              "    }\n",
              "</style>\n",
              "<table border=\"1\" class=\"dataframe\">\n",
              "  <thead>\n",
              "    <tr style=\"text-align: right;\">\n",
              "      <th></th>\n",
              "      <th>Unnamed: 0</th>\n",
              "      <th>District</th>\n",
              "      <th>Year</th>\n",
              "      <th>Season</th>\n",
              "      <th>Crop</th>\n",
              "      <th>Area</th>\n",
              "      <th>Production</th>\n",
              "      <th>Temperature</th>\n",
              "      <th>Rainfall</th>\n",
              "      <th>Humidity</th>\n",
              "      <th>Wind Speed</th>\n",
              "    </tr>\n",
              "  </thead>\n",
              "  <tbody>\n",
              "    <tr>\n",
              "      <th>0</th>\n",
              "      <td>0</td>\n",
              "      <td>balod</td>\n",
              "      <td>2011</td>\n",
              "      <td>Kharif</td>\n",
              "      <td>Arhar/Tur</td>\n",
              "      <td>607</td>\n",
              "      <td>290.0</td>\n",
              "      <td>25.5025</td>\n",
              "      <td>9.856148</td>\n",
              "      <td>83.805</td>\n",
              "      <td>2.11</td>\n",
              "    </tr>\n",
              "    <tr>\n",
              "      <th>1</th>\n",
              "      <td>1</td>\n",
              "      <td>balod</td>\n",
              "      <td>2011</td>\n",
              "      <td>Kharif</td>\n",
              "      <td>Horse-gram</td>\n",
              "      <td>288</td>\n",
              "      <td>102.0</td>\n",
              "      <td>25.5025</td>\n",
              "      <td>9.856148</td>\n",
              "      <td>83.805</td>\n",
              "      <td>2.11</td>\n",
              "    </tr>\n",
              "    <tr>\n",
              "      <th>2</th>\n",
              "      <td>2</td>\n",
              "      <td>balod</td>\n",
              "      <td>2011</td>\n",
              "      <td>Kharif</td>\n",
              "      <td>Jowar</td>\n",
              "      <td>11</td>\n",
              "      <td>8.0</td>\n",
              "      <td>25.5025</td>\n",
              "      <td>9.856148</td>\n",
              "      <td>83.805</td>\n",
              "      <td>2.11</td>\n",
              "    </tr>\n",
              "    <tr>\n",
              "      <th>3</th>\n",
              "      <td>3</td>\n",
              "      <td>balod</td>\n",
              "      <td>2011</td>\n",
              "      <td>Kharif</td>\n",
              "      <td>Maize</td>\n",
              "      <td>125</td>\n",
              "      <td>149.0</td>\n",
              "      <td>25.5025</td>\n",
              "      <td>9.856148</td>\n",
              "      <td>83.805</td>\n",
              "      <td>2.11</td>\n",
              "    </tr>\n",
              "    <tr>\n",
              "      <th>4</th>\n",
              "      <td>4</td>\n",
              "      <td>balod</td>\n",
              "      <td>2011</td>\n",
              "      <td>Kharif</td>\n",
              "      <td>Mesta</td>\n",
              "      <td>8</td>\n",
              "      <td>15.0</td>\n",
              "      <td>25.5025</td>\n",
              "      <td>9.856148</td>\n",
              "      <td>83.805</td>\n",
              "      <td>2.11</td>\n",
              "    </tr>\n",
              "  </tbody>\n",
              "</table>\n",
              "</div>"
            ],
            "text/plain": [
              "   Unnamed: 0 District  Year  ...  Rainfall Humidity  Wind Speed\n",
              "0           0    balod  2011  ...  9.856148   83.805        2.11\n",
              "1           1    balod  2011  ...  9.856148   83.805        2.11\n",
              "2           2    balod  2011  ...  9.856148   83.805        2.11\n",
              "3           3    balod  2011  ...  9.856148   83.805        2.11\n",
              "4           4    balod  2011  ...  9.856148   83.805        2.11\n",
              "\n",
              "[5 rows x 11 columns]"
            ]
          },
          "metadata": {},
          "execution_count": 62
        }
      ]
    },
    {
      "cell_type": "code",
      "source": [
        "test=df.drop(['Production'],axis=1)"
      ],
      "metadata": {
        "id": "D2VXd9KdzxGC"
      },
      "execution_count": null,
      "outputs": []
    },
    {
      "cell_type": "code",
      "source": [
        "test.head(15)"
      ],
      "metadata": {
        "colab": {
          "base_uri": "https://localhost:8080/",
          "height": 520
        },
        "id": "_RlISYot0dx0",
        "outputId": "c17f7b08-6c13-4119-9ed2-da31d7539a1e"
      },
      "execution_count": null,
      "outputs": [
        {
          "output_type": "execute_result",
          "data": {
            "text/html": [
              "<div>\n",
              "<style scoped>\n",
              "    .dataframe tbody tr th:only-of-type {\n",
              "        vertical-align: middle;\n",
              "    }\n",
              "\n",
              "    .dataframe tbody tr th {\n",
              "        vertical-align: top;\n",
              "    }\n",
              "\n",
              "    .dataframe thead th {\n",
              "        text-align: right;\n",
              "    }\n",
              "</style>\n",
              "<table border=\"1\" class=\"dataframe\">\n",
              "  <thead>\n",
              "    <tr style=\"text-align: right;\">\n",
              "      <th></th>\n",
              "      <th>Unnamed: 0</th>\n",
              "      <th>District</th>\n",
              "      <th>Year</th>\n",
              "      <th>Season</th>\n",
              "      <th>Crop</th>\n",
              "      <th>Area</th>\n",
              "      <th>Temperature</th>\n",
              "      <th>Rainfall</th>\n",
              "      <th>Humidity</th>\n",
              "      <th>Wind Speed</th>\n",
              "    </tr>\n",
              "  </thead>\n",
              "  <tbody>\n",
              "    <tr>\n",
              "      <th>0</th>\n",
              "      <td>0</td>\n",
              "      <td>balod</td>\n",
              "      <td>2011</td>\n",
              "      <td>Kharif</td>\n",
              "      <td>Arhar/Tur</td>\n",
              "      <td>607</td>\n",
              "      <td>25.5025</td>\n",
              "      <td>9.856148</td>\n",
              "      <td>83.805</td>\n",
              "      <td>2.110</td>\n",
              "    </tr>\n",
              "    <tr>\n",
              "      <th>1</th>\n",
              "      <td>1</td>\n",
              "      <td>balod</td>\n",
              "      <td>2011</td>\n",
              "      <td>Kharif</td>\n",
              "      <td>Horse-gram</td>\n",
              "      <td>288</td>\n",
              "      <td>25.5025</td>\n",
              "      <td>9.856148</td>\n",
              "      <td>83.805</td>\n",
              "      <td>2.110</td>\n",
              "    </tr>\n",
              "    <tr>\n",
              "      <th>2</th>\n",
              "      <td>2</td>\n",
              "      <td>balod</td>\n",
              "      <td>2011</td>\n",
              "      <td>Kharif</td>\n",
              "      <td>Jowar</td>\n",
              "      <td>11</td>\n",
              "      <td>25.5025</td>\n",
              "      <td>9.856148</td>\n",
              "      <td>83.805</td>\n",
              "      <td>2.110</td>\n",
              "    </tr>\n",
              "    <tr>\n",
              "      <th>3</th>\n",
              "      <td>3</td>\n",
              "      <td>balod</td>\n",
              "      <td>2011</td>\n",
              "      <td>Kharif</td>\n",
              "      <td>Maize</td>\n",
              "      <td>125</td>\n",
              "      <td>25.5025</td>\n",
              "      <td>9.856148</td>\n",
              "      <td>83.805</td>\n",
              "      <td>2.110</td>\n",
              "    </tr>\n",
              "    <tr>\n",
              "      <th>4</th>\n",
              "      <td>4</td>\n",
              "      <td>balod</td>\n",
              "      <td>2011</td>\n",
              "      <td>Kharif</td>\n",
              "      <td>Mesta</td>\n",
              "      <td>8</td>\n",
              "      <td>25.5025</td>\n",
              "      <td>9.856148</td>\n",
              "      <td>83.805</td>\n",
              "      <td>2.110</td>\n",
              "    </tr>\n",
              "    <tr>\n",
              "      <th>5</th>\n",
              "      <td>5</td>\n",
              "      <td>balod</td>\n",
              "      <td>2011</td>\n",
              "      <td>Kharif</td>\n",
              "      <td>Moong(Green Gram)</td>\n",
              "      <td>46</td>\n",
              "      <td>25.5025</td>\n",
              "      <td>9.856148</td>\n",
              "      <td>83.805</td>\n",
              "      <td>2.110</td>\n",
              "    </tr>\n",
              "    <tr>\n",
              "      <th>6</th>\n",
              "      <td>6</td>\n",
              "      <td>balod</td>\n",
              "      <td>2011</td>\n",
              "      <td>Kharif</td>\n",
              "      <td>Other Kharif pulses</td>\n",
              "      <td>218</td>\n",
              "      <td>25.5025</td>\n",
              "      <td>9.856148</td>\n",
              "      <td>83.805</td>\n",
              "      <td>2.110</td>\n",
              "    </tr>\n",
              "    <tr>\n",
              "      <th>7</th>\n",
              "      <td>7</td>\n",
              "      <td>balod</td>\n",
              "      <td>2011</td>\n",
              "      <td>Kharif</td>\n",
              "      <td>Ragi</td>\n",
              "      <td>4</td>\n",
              "      <td>25.5025</td>\n",
              "      <td>9.856148</td>\n",
              "      <td>83.805</td>\n",
              "      <td>2.110</td>\n",
              "    </tr>\n",
              "    <tr>\n",
              "      <th>8</th>\n",
              "      <td>8</td>\n",
              "      <td>balod</td>\n",
              "      <td>2011</td>\n",
              "      <td>Kharif</td>\n",
              "      <td>Rice</td>\n",
              "      <td>177115</td>\n",
              "      <td>25.5025</td>\n",
              "      <td>9.856148</td>\n",
              "      <td>83.805</td>\n",
              "      <td>2.110</td>\n",
              "    </tr>\n",
              "    <tr>\n",
              "      <th>9</th>\n",
              "      <td>9</td>\n",
              "      <td>balod</td>\n",
              "      <td>2011</td>\n",
              "      <td>Kharif</td>\n",
              "      <td>Sesamum</td>\n",
              "      <td>291</td>\n",
              "      <td>25.5025</td>\n",
              "      <td>9.856148</td>\n",
              "      <td>83.805</td>\n",
              "      <td>2.110</td>\n",
              "    </tr>\n",
              "    <tr>\n",
              "      <th>10</th>\n",
              "      <td>10</td>\n",
              "      <td>balod</td>\n",
              "      <td>2011</td>\n",
              "      <td>Kharif</td>\n",
              "      <td>Small millets</td>\n",
              "      <td>1448</td>\n",
              "      <td>25.5025</td>\n",
              "      <td>9.856148</td>\n",
              "      <td>83.805</td>\n",
              "      <td>2.110</td>\n",
              "    </tr>\n",
              "    <tr>\n",
              "      <th>11</th>\n",
              "      <td>11</td>\n",
              "      <td>balod</td>\n",
              "      <td>2011</td>\n",
              "      <td>Kharif</td>\n",
              "      <td>Soyabean</td>\n",
              "      <td>136</td>\n",
              "      <td>25.5025</td>\n",
              "      <td>9.856148</td>\n",
              "      <td>83.805</td>\n",
              "      <td>2.110</td>\n",
              "    </tr>\n",
              "    <tr>\n",
              "      <th>12</th>\n",
              "      <td>12</td>\n",
              "      <td>balod</td>\n",
              "      <td>2011</td>\n",
              "      <td>Kharif</td>\n",
              "      <td>Sunflower</td>\n",
              "      <td>37</td>\n",
              "      <td>25.5025</td>\n",
              "      <td>9.856148</td>\n",
              "      <td>83.805</td>\n",
              "      <td>2.110</td>\n",
              "    </tr>\n",
              "    <tr>\n",
              "      <th>13</th>\n",
              "      <td>13</td>\n",
              "      <td>balod</td>\n",
              "      <td>2011</td>\n",
              "      <td>Kharif</td>\n",
              "      <td>Urad</td>\n",
              "      <td>1261</td>\n",
              "      <td>25.5025</td>\n",
              "      <td>9.856148</td>\n",
              "      <td>83.805</td>\n",
              "      <td>2.110</td>\n",
              "    </tr>\n",
              "    <tr>\n",
              "      <th>14</th>\n",
              "      <td>14</td>\n",
              "      <td>balod</td>\n",
              "      <td>2011</td>\n",
              "      <td>Rabi</td>\n",
              "      <td>Barley</td>\n",
              "      <td>3</td>\n",
              "      <td>20.8120</td>\n",
              "      <td>0.218903</td>\n",
              "      <td>56.324</td>\n",
              "      <td>1.416</td>\n",
              "    </tr>\n",
              "  </tbody>\n",
              "</table>\n",
              "</div>"
            ],
            "text/plain": [
              "    Unnamed: 0 District  Year  ...  Rainfall Humidity  Wind Speed\n",
              "0            0    balod  2011  ...  9.856148   83.805       2.110\n",
              "1            1    balod  2011  ...  9.856148   83.805       2.110\n",
              "2            2    balod  2011  ...  9.856148   83.805       2.110\n",
              "3            3    balod  2011  ...  9.856148   83.805       2.110\n",
              "4            4    balod  2011  ...  9.856148   83.805       2.110\n",
              "5            5    balod  2011  ...  9.856148   83.805       2.110\n",
              "6            6    balod  2011  ...  9.856148   83.805       2.110\n",
              "7            7    balod  2011  ...  9.856148   83.805       2.110\n",
              "8            8    balod  2011  ...  9.856148   83.805       2.110\n",
              "9            9    balod  2011  ...  9.856148   83.805       2.110\n",
              "10          10    balod  2011  ...  9.856148   83.805       2.110\n",
              "11          11    balod  2011  ...  9.856148   83.805       2.110\n",
              "12          12    balod  2011  ...  9.856148   83.805       2.110\n",
              "13          13    balod  2011  ...  9.856148   83.805       2.110\n",
              "14          14    balod  2011  ...  0.218903   56.324       1.416\n",
              "\n",
              "[15 rows x 10 columns]"
            ]
          },
          "metadata": {},
          "execution_count": 64
        }
      ]
    },
    {
      "cell_type": "code",
      "source": [
        "test.head()"
      ],
      "metadata": {
        "colab": {
          "base_uri": "https://localhost:8080/",
          "height": 206
        },
        "id": "jE2zoE5_1qzN",
        "outputId": "24b08e35-5635-4fde-fd25-d2563f0c8c41"
      },
      "execution_count": null,
      "outputs": [
        {
          "output_type": "execute_result",
          "data": {
            "text/html": [
              "<div>\n",
              "<style scoped>\n",
              "    .dataframe tbody tr th:only-of-type {\n",
              "        vertical-align: middle;\n",
              "    }\n",
              "\n",
              "    .dataframe tbody tr th {\n",
              "        vertical-align: top;\n",
              "    }\n",
              "\n",
              "    .dataframe thead th {\n",
              "        text-align: right;\n",
              "    }\n",
              "</style>\n",
              "<table border=\"1\" class=\"dataframe\">\n",
              "  <thead>\n",
              "    <tr style=\"text-align: right;\">\n",
              "      <th></th>\n",
              "      <th>Unnamed: 0</th>\n",
              "      <th>District</th>\n",
              "      <th>Year</th>\n",
              "      <th>Season</th>\n",
              "      <th>Crop</th>\n",
              "      <th>Area</th>\n",
              "      <th>Temperature</th>\n",
              "      <th>Rainfall</th>\n",
              "      <th>Humidity</th>\n",
              "      <th>Wind Speed</th>\n",
              "    </tr>\n",
              "  </thead>\n",
              "  <tbody>\n",
              "    <tr>\n",
              "      <th>0</th>\n",
              "      <td>0</td>\n",
              "      <td>balod</td>\n",
              "      <td>2011</td>\n",
              "      <td>Kharif</td>\n",
              "      <td>Arhar/Tur</td>\n",
              "      <td>607</td>\n",
              "      <td>25.5025</td>\n",
              "      <td>9.856148</td>\n",
              "      <td>83.805</td>\n",
              "      <td>2.11</td>\n",
              "    </tr>\n",
              "    <tr>\n",
              "      <th>1</th>\n",
              "      <td>1</td>\n",
              "      <td>balod</td>\n",
              "      <td>2011</td>\n",
              "      <td>Kharif</td>\n",
              "      <td>Horse-gram</td>\n",
              "      <td>288</td>\n",
              "      <td>25.5025</td>\n",
              "      <td>9.856148</td>\n",
              "      <td>83.805</td>\n",
              "      <td>2.11</td>\n",
              "    </tr>\n",
              "    <tr>\n",
              "      <th>2</th>\n",
              "      <td>2</td>\n",
              "      <td>balod</td>\n",
              "      <td>2011</td>\n",
              "      <td>Kharif</td>\n",
              "      <td>Jowar</td>\n",
              "      <td>11</td>\n",
              "      <td>25.5025</td>\n",
              "      <td>9.856148</td>\n",
              "      <td>83.805</td>\n",
              "      <td>2.11</td>\n",
              "    </tr>\n",
              "    <tr>\n",
              "      <th>3</th>\n",
              "      <td>3</td>\n",
              "      <td>balod</td>\n",
              "      <td>2011</td>\n",
              "      <td>Kharif</td>\n",
              "      <td>Maize</td>\n",
              "      <td>125</td>\n",
              "      <td>25.5025</td>\n",
              "      <td>9.856148</td>\n",
              "      <td>83.805</td>\n",
              "      <td>2.11</td>\n",
              "    </tr>\n",
              "    <tr>\n",
              "      <th>4</th>\n",
              "      <td>4</td>\n",
              "      <td>balod</td>\n",
              "      <td>2011</td>\n",
              "      <td>Kharif</td>\n",
              "      <td>Mesta</td>\n",
              "      <td>8</td>\n",
              "      <td>25.5025</td>\n",
              "      <td>9.856148</td>\n",
              "      <td>83.805</td>\n",
              "      <td>2.11</td>\n",
              "    </tr>\n",
              "  </tbody>\n",
              "</table>\n",
              "</div>"
            ],
            "text/plain": [
              "   Unnamed: 0 District  Year  ...  Rainfall Humidity  Wind Speed\n",
              "0           0    balod  2011  ...  9.856148   83.805        2.11\n",
              "1           1    balod  2011  ...  9.856148   83.805        2.11\n",
              "2           2    balod  2011  ...  9.856148   83.805        2.11\n",
              "3           3    balod  2011  ...  9.856148   83.805        2.11\n",
              "4           4    balod  2011  ...  9.856148   83.805        2.11\n",
              "\n",
              "[5 rows x 10 columns]"
            ]
          },
          "metadata": {},
          "execution_count": 65
        }
      ]
    },
    {
      "cell_type": "code",
      "source": [
        "testf = pd.DataFrame()\n",
        "#district\tyear\tseason\tcrop\tarea\ttemp\trainfall\thumidity\twind\n",
        "testf = testf.assign(district = test[\"District\"])\n",
        "testf = testf.assign(year = test[\"Year\"])\n",
        "testf = testf.assign(season = test[\"Season\"])\n",
        "testf = testf.assign(crop = test[\"Crop\"])\n",
        "testf = testf.assign(area = test[\"Area\"])\n",
        "testf = testf.assign(temp = test[\"Temperature\"])\n",
        "testf = testf.assign(rainfall = test[\"Rainfall\"])\n",
        "testf = testf.assign(humidity = test[\"Humidity\"])\n",
        "testf = testf.assign(wind = test[\"Wind Speed\"])"
      ],
      "metadata": {
        "id": "XRimiRBg1k8U"
      },
      "execution_count": null,
      "outputs": []
    },
    {
      "cell_type": "code",
      "source": [
        "testf.head(10)"
      ],
      "metadata": {
        "colab": {
          "base_uri": "https://localhost:8080/",
          "height": 363
        },
        "id": "S_CFygNV1y0w",
        "outputId": "8a132951-7dc4-4fb9-cb0a-a9c972b3af41"
      },
      "execution_count": null,
      "outputs": [
        {
          "output_type": "execute_result",
          "data": {
            "text/html": [
              "<div>\n",
              "<style scoped>\n",
              "    .dataframe tbody tr th:only-of-type {\n",
              "        vertical-align: middle;\n",
              "    }\n",
              "\n",
              "    .dataframe tbody tr th {\n",
              "        vertical-align: top;\n",
              "    }\n",
              "\n",
              "    .dataframe thead th {\n",
              "        text-align: right;\n",
              "    }\n",
              "</style>\n",
              "<table border=\"1\" class=\"dataframe\">\n",
              "  <thead>\n",
              "    <tr style=\"text-align: right;\">\n",
              "      <th></th>\n",
              "      <th>district</th>\n",
              "      <th>year</th>\n",
              "      <th>season</th>\n",
              "      <th>crop</th>\n",
              "      <th>area</th>\n",
              "      <th>temp</th>\n",
              "      <th>rainfall</th>\n",
              "      <th>humidity</th>\n",
              "      <th>wind</th>\n",
              "    </tr>\n",
              "  </thead>\n",
              "  <tbody>\n",
              "    <tr>\n",
              "      <th>0</th>\n",
              "      <td>balod</td>\n",
              "      <td>2011</td>\n",
              "      <td>Kharif</td>\n",
              "      <td>Arhar/Tur</td>\n",
              "      <td>607</td>\n",
              "      <td>25.5025</td>\n",
              "      <td>9.856148</td>\n",
              "      <td>83.805</td>\n",
              "      <td>2.11</td>\n",
              "    </tr>\n",
              "    <tr>\n",
              "      <th>1</th>\n",
              "      <td>balod</td>\n",
              "      <td>2011</td>\n",
              "      <td>Kharif</td>\n",
              "      <td>Horse-gram</td>\n",
              "      <td>288</td>\n",
              "      <td>25.5025</td>\n",
              "      <td>9.856148</td>\n",
              "      <td>83.805</td>\n",
              "      <td>2.11</td>\n",
              "    </tr>\n",
              "    <tr>\n",
              "      <th>2</th>\n",
              "      <td>balod</td>\n",
              "      <td>2011</td>\n",
              "      <td>Kharif</td>\n",
              "      <td>Jowar</td>\n",
              "      <td>11</td>\n",
              "      <td>25.5025</td>\n",
              "      <td>9.856148</td>\n",
              "      <td>83.805</td>\n",
              "      <td>2.11</td>\n",
              "    </tr>\n",
              "    <tr>\n",
              "      <th>3</th>\n",
              "      <td>balod</td>\n",
              "      <td>2011</td>\n",
              "      <td>Kharif</td>\n",
              "      <td>Maize</td>\n",
              "      <td>125</td>\n",
              "      <td>25.5025</td>\n",
              "      <td>9.856148</td>\n",
              "      <td>83.805</td>\n",
              "      <td>2.11</td>\n",
              "    </tr>\n",
              "    <tr>\n",
              "      <th>4</th>\n",
              "      <td>balod</td>\n",
              "      <td>2011</td>\n",
              "      <td>Kharif</td>\n",
              "      <td>Mesta</td>\n",
              "      <td>8</td>\n",
              "      <td>25.5025</td>\n",
              "      <td>9.856148</td>\n",
              "      <td>83.805</td>\n",
              "      <td>2.11</td>\n",
              "    </tr>\n",
              "    <tr>\n",
              "      <th>5</th>\n",
              "      <td>balod</td>\n",
              "      <td>2011</td>\n",
              "      <td>Kharif</td>\n",
              "      <td>Moong(Green Gram)</td>\n",
              "      <td>46</td>\n",
              "      <td>25.5025</td>\n",
              "      <td>9.856148</td>\n",
              "      <td>83.805</td>\n",
              "      <td>2.11</td>\n",
              "    </tr>\n",
              "    <tr>\n",
              "      <th>6</th>\n",
              "      <td>balod</td>\n",
              "      <td>2011</td>\n",
              "      <td>Kharif</td>\n",
              "      <td>Other Kharif pulses</td>\n",
              "      <td>218</td>\n",
              "      <td>25.5025</td>\n",
              "      <td>9.856148</td>\n",
              "      <td>83.805</td>\n",
              "      <td>2.11</td>\n",
              "    </tr>\n",
              "    <tr>\n",
              "      <th>7</th>\n",
              "      <td>balod</td>\n",
              "      <td>2011</td>\n",
              "      <td>Kharif</td>\n",
              "      <td>Ragi</td>\n",
              "      <td>4</td>\n",
              "      <td>25.5025</td>\n",
              "      <td>9.856148</td>\n",
              "      <td>83.805</td>\n",
              "      <td>2.11</td>\n",
              "    </tr>\n",
              "    <tr>\n",
              "      <th>8</th>\n",
              "      <td>balod</td>\n",
              "      <td>2011</td>\n",
              "      <td>Kharif</td>\n",
              "      <td>Rice</td>\n",
              "      <td>177115</td>\n",
              "      <td>25.5025</td>\n",
              "      <td>9.856148</td>\n",
              "      <td>83.805</td>\n",
              "      <td>2.11</td>\n",
              "    </tr>\n",
              "    <tr>\n",
              "      <th>9</th>\n",
              "      <td>balod</td>\n",
              "      <td>2011</td>\n",
              "      <td>Kharif</td>\n",
              "      <td>Sesamum</td>\n",
              "      <td>291</td>\n",
              "      <td>25.5025</td>\n",
              "      <td>9.856148</td>\n",
              "      <td>83.805</td>\n",
              "      <td>2.11</td>\n",
              "    </tr>\n",
              "  </tbody>\n",
              "</table>\n",
              "</div>"
            ],
            "text/plain": [
              "  district  year  season  ...  rainfall  humidity  wind\n",
              "0    balod  2011  Kharif  ...  9.856148    83.805  2.11\n",
              "1    balod  2011  Kharif  ...  9.856148    83.805  2.11\n",
              "2    balod  2011  Kharif  ...  9.856148    83.805  2.11\n",
              "3    balod  2011  Kharif  ...  9.856148    83.805  2.11\n",
              "4    balod  2011  Kharif  ...  9.856148    83.805  2.11\n",
              "5    balod  2011  Kharif  ...  9.856148    83.805  2.11\n",
              "6    balod  2011  Kharif  ...  9.856148    83.805  2.11\n",
              "7    balod  2011  Kharif  ...  9.856148    83.805  2.11\n",
              "8    balod  2011  Kharif  ...  9.856148    83.805  2.11\n",
              "9    balod  2011  Kharif  ...  9.856148    83.805  2.11\n",
              "\n",
              "[10 rows x 9 columns]"
            ]
          },
          "metadata": {},
          "execution_count": 67
        }
      ]
    },
    {
      "cell_type": "code",
      "source": [
        "testf.head()"
      ],
      "metadata": {
        "colab": {
          "base_uri": "https://localhost:8080/",
          "height": 206
        },
        "id": "eoA3TQFoP8lZ",
        "outputId": "963f1049-1331-4113-9ad2-e0e2802c14af"
      },
      "execution_count": null,
      "outputs": [
        {
          "output_type": "execute_result",
          "data": {
            "text/html": [
              "<div>\n",
              "<style scoped>\n",
              "    .dataframe tbody tr th:only-of-type {\n",
              "        vertical-align: middle;\n",
              "    }\n",
              "\n",
              "    .dataframe tbody tr th {\n",
              "        vertical-align: top;\n",
              "    }\n",
              "\n",
              "    .dataframe thead th {\n",
              "        text-align: right;\n",
              "    }\n",
              "</style>\n",
              "<table border=\"1\" class=\"dataframe\">\n",
              "  <thead>\n",
              "    <tr style=\"text-align: right;\">\n",
              "      <th></th>\n",
              "      <th>district</th>\n",
              "      <th>year</th>\n",
              "      <th>season</th>\n",
              "      <th>crop</th>\n",
              "      <th>area</th>\n",
              "      <th>temp</th>\n",
              "      <th>rainfall</th>\n",
              "      <th>humidity</th>\n",
              "      <th>wind</th>\n",
              "    </tr>\n",
              "  </thead>\n",
              "  <tbody>\n",
              "    <tr>\n",
              "      <th>0</th>\n",
              "      <td>balod</td>\n",
              "      <td>2011</td>\n",
              "      <td>Kharif</td>\n",
              "      <td>Arhar/Tur</td>\n",
              "      <td>607</td>\n",
              "      <td>25.5025</td>\n",
              "      <td>9.856148</td>\n",
              "      <td>83.805</td>\n",
              "      <td>2.11</td>\n",
              "    </tr>\n",
              "    <tr>\n",
              "      <th>1</th>\n",
              "      <td>balod</td>\n",
              "      <td>2011</td>\n",
              "      <td>Kharif</td>\n",
              "      <td>Horse-gram</td>\n",
              "      <td>288</td>\n",
              "      <td>25.5025</td>\n",
              "      <td>9.856148</td>\n",
              "      <td>83.805</td>\n",
              "      <td>2.11</td>\n",
              "    </tr>\n",
              "    <tr>\n",
              "      <th>2</th>\n",
              "      <td>balod</td>\n",
              "      <td>2011</td>\n",
              "      <td>Kharif</td>\n",
              "      <td>Jowar</td>\n",
              "      <td>11</td>\n",
              "      <td>25.5025</td>\n",
              "      <td>9.856148</td>\n",
              "      <td>83.805</td>\n",
              "      <td>2.11</td>\n",
              "    </tr>\n",
              "    <tr>\n",
              "      <th>3</th>\n",
              "      <td>balod</td>\n",
              "      <td>2011</td>\n",
              "      <td>Kharif</td>\n",
              "      <td>Maize</td>\n",
              "      <td>125</td>\n",
              "      <td>25.5025</td>\n",
              "      <td>9.856148</td>\n",
              "      <td>83.805</td>\n",
              "      <td>2.11</td>\n",
              "    </tr>\n",
              "    <tr>\n",
              "      <th>4</th>\n",
              "      <td>balod</td>\n",
              "      <td>2011</td>\n",
              "      <td>Kharif</td>\n",
              "      <td>Mesta</td>\n",
              "      <td>8</td>\n",
              "      <td>25.5025</td>\n",
              "      <td>9.856148</td>\n",
              "      <td>83.805</td>\n",
              "      <td>2.11</td>\n",
              "    </tr>\n",
              "  </tbody>\n",
              "</table>\n",
              "</div>"
            ],
            "text/plain": [
              "  district  year  season        crop  area     temp  rainfall  humidity  wind\n",
              "0    balod  2011  Kharif   Arhar/Tur   607  25.5025  9.856148    83.805  2.11\n",
              "1    balod  2011  Kharif  Horse-gram   288  25.5025  9.856148    83.805  2.11\n",
              "2    balod  2011  Kharif       Jowar    11  25.5025  9.856148    83.805  2.11\n",
              "3    balod  2011  Kharif       Maize   125  25.5025  9.856148    83.805  2.11\n",
              "4    balod  2011  Kharif       Mesta     8  25.5025  9.856148    83.805  2.11"
            ]
          },
          "metadata": {},
          "execution_count": 68
        }
      ]
    },
    {
      "cell_type": "code",
      "source": [
        "testf['season'] = se.transform(testf['season'])\n",
        "testf['crop'] = cr.transform(testf['crop'])\n",
        "testf['district']=dis.transform(testf['district'])"
      ],
      "metadata": {
        "id": "_pdUU8Q02I_N"
      },
      "execution_count": null,
      "outputs": []
    },
    {
      "cell_type": "code",
      "source": [
        "print(\"Enter name of district: \")\n",
        "name = input()"
      ],
      "metadata": {
        "colab": {
          "base_uri": "https://localhost:8080/"
        },
        "id": "nWzAXSP8Lu76",
        "outputId": "07f80bc8-d870-4443-f599-10f7785d2287"
      },
      "execution_count": null,
      "outputs": [
        {
          "name": "stdout",
          "output_type": "stream",
          "text": [
            "Enter name of district: \n",
            "balod\n"
          ]
        }
      ]
    },
    {
      "cell_type": "code",
      "source": [
        "name = name.lower()\n",
        "name"
      ],
      "metadata": {
        "colab": {
          "base_uri": "https://localhost:8080/",
          "height": 35
        },
        "id": "MDXg3eltL6x9",
        "outputId": "bb14893b-b224-4ac5-f099-8fc4b722683e"
      },
      "execution_count": null,
      "outputs": [
        {
          "output_type": "execute_result",
          "data": {
            "application/vnd.google.colaboratory.intrinsic+json": {
              "type": "string"
            },
            "text/plain": [
              "'balod'"
            ]
          },
          "metadata": {},
          "execution_count": 71
        }
      ]
    },
    {
      "cell_type": "code",
      "source": [
        "encode=np.unique(testf['district'])"
      ],
      "metadata": {
        "id": "Ac9MvJp-RBND"
      },
      "execution_count": null,
      "outputs": []
    },
    {
      "cell_type": "code",
      "source": [
        "testf.head()"
      ],
      "metadata": {
        "colab": {
          "base_uri": "https://localhost:8080/",
          "height": 206
        },
        "id": "3IV1YE5fWzDr",
        "outputId": "e20689b9-1683-4385-9d9c-5269f4457b75"
      },
      "execution_count": null,
      "outputs": [
        {
          "output_type": "execute_result",
          "data": {
            "text/html": [
              "<div>\n",
              "<style scoped>\n",
              "    .dataframe tbody tr th:only-of-type {\n",
              "        vertical-align: middle;\n",
              "    }\n",
              "\n",
              "    .dataframe tbody tr th {\n",
              "        vertical-align: top;\n",
              "    }\n",
              "\n",
              "    .dataframe thead th {\n",
              "        text-align: right;\n",
              "    }\n",
              "</style>\n",
              "<table border=\"1\" class=\"dataframe\">\n",
              "  <thead>\n",
              "    <tr style=\"text-align: right;\">\n",
              "      <th></th>\n",
              "      <th>district</th>\n",
              "      <th>year</th>\n",
              "      <th>season</th>\n",
              "      <th>crop</th>\n",
              "      <th>area</th>\n",
              "      <th>temp</th>\n",
              "      <th>rainfall</th>\n",
              "      <th>humidity</th>\n",
              "      <th>wind</th>\n",
              "    </tr>\n",
              "  </thead>\n",
              "  <tbody>\n",
              "    <tr>\n",
              "      <th>0</th>\n",
              "      <td>0</td>\n",
              "      <td>2011</td>\n",
              "      <td>0</td>\n",
              "      <td>0</td>\n",
              "      <td>607</td>\n",
              "      <td>25.5025</td>\n",
              "      <td>9.856148</td>\n",
              "      <td>83.805</td>\n",
              "      <td>2.11</td>\n",
              "    </tr>\n",
              "    <tr>\n",
              "      <th>1</th>\n",
              "      <td>0</td>\n",
              "      <td>2011</td>\n",
              "      <td>0</td>\n",
              "      <td>14</td>\n",
              "      <td>288</td>\n",
              "      <td>25.5025</td>\n",
              "      <td>9.856148</td>\n",
              "      <td>83.805</td>\n",
              "      <td>2.11</td>\n",
              "    </tr>\n",
              "    <tr>\n",
              "      <th>2</th>\n",
              "      <td>0</td>\n",
              "      <td>2011</td>\n",
              "      <td>0</td>\n",
              "      <td>15</td>\n",
              "      <td>11</td>\n",
              "      <td>25.5025</td>\n",
              "      <td>9.856148</td>\n",
              "      <td>83.805</td>\n",
              "      <td>2.11</td>\n",
              "    </tr>\n",
              "    <tr>\n",
              "      <th>3</th>\n",
              "      <td>0</td>\n",
              "      <td>2011</td>\n",
              "      <td>0</td>\n",
              "      <td>19</td>\n",
              "      <td>125</td>\n",
              "      <td>25.5025</td>\n",
              "      <td>9.856148</td>\n",
              "      <td>83.805</td>\n",
              "      <td>2.11</td>\n",
              "    </tr>\n",
              "    <tr>\n",
              "      <th>4</th>\n",
              "      <td>0</td>\n",
              "      <td>2011</td>\n",
              "      <td>0</td>\n",
              "      <td>21</td>\n",
              "      <td>8</td>\n",
              "      <td>25.5025</td>\n",
              "      <td>9.856148</td>\n",
              "      <td>83.805</td>\n",
              "      <td>2.11</td>\n",
              "    </tr>\n",
              "  </tbody>\n",
              "</table>\n",
              "</div>"
            ],
            "text/plain": [
              "   district  year  season  crop  area     temp  rainfall  humidity  wind\n",
              "0         0  2011       0     0   607  25.5025  9.856148    83.805  2.11\n",
              "1         0  2011       0    14   288  25.5025  9.856148    83.805  2.11\n",
              "2         0  2011       0    15    11  25.5025  9.856148    83.805  2.11\n",
              "3         0  2011       0    19   125  25.5025  9.856148    83.805  2.11\n",
              "4         0  2011       0    21     8  25.5025  9.856148    83.805  2.11"
            ]
          },
          "metadata": {},
          "execution_count": 73
        }
      ]
    },
    {
      "cell_type": "code",
      "source": [
        "districts=list(np.unique(df['District']))"
      ],
      "metadata": {
        "id": "pheP2V6xReXC"
      },
      "execution_count": null,
      "outputs": []
    },
    {
      "cell_type": "code",
      "source": [
        "districts"
      ],
      "metadata": {
        "colab": {
          "base_uri": "https://localhost:8080/"
        },
        "id": "svpc6SiMSDnh",
        "outputId": "ffaf809c-be3c-413e-cef3-354bab21aa68"
      },
      "execution_count": null,
      "outputs": [
        {
          "output_type": "execute_result",
          "data": {
            "text/plain": [
              "['balod',\n",
              " 'baloda bazar',\n",
              " 'balrampur',\n",
              " 'bastar',\n",
              " 'bemetara',\n",
              " 'bijapur',\n",
              " 'bilaspur',\n",
              " 'dantewada',\n",
              " 'dhamtari',\n",
              " 'durg',\n",
              " 'gariyaband',\n",
              " 'janjgir-champa',\n",
              " 'jashpur',\n",
              " 'kabirdham',\n",
              " 'kanker',\n",
              " 'kondagaon',\n",
              " 'korba',\n",
              " 'korea',\n",
              " 'mahasamund',\n",
              " 'mungeli',\n",
              " 'narayanpur',\n",
              " 'raigarh',\n",
              " 'raipur',\n",
              " 'rajnandgaon',\n",
              " 'sukma',\n",
              " 'surajpur',\n",
              " 'surguja']"
            ]
          },
          "metadata": {},
          "execution_count": 75
        }
      ]
    },
    {
      "cell_type": "code",
      "source": [
        "districts.index(name)"
      ],
      "metadata": {
        "colab": {
          "base_uri": "https://localhost:8080/"
        },
        "id": "fP3bIQzuRuW0",
        "outputId": "2c62ca1d-f2ad-406b-be8a-6515092e650f"
      },
      "execution_count": null,
      "outputs": [
        {
          "output_type": "execute_result",
          "data": {
            "text/plain": [
              "0"
            ]
          },
          "metadata": {},
          "execution_count": 76
        }
      ]
    },
    {
      "cell_type": "code",
      "source": [
        "testf.head()"
      ],
      "metadata": {
        "colab": {
          "base_uri": "https://localhost:8080/",
          "height": 206
        },
        "id": "ggUONrw5ZIbj",
        "outputId": "92ef6640-1499-4ff0-b6ef-c21dc160eeba"
      },
      "execution_count": null,
      "outputs": [
        {
          "output_type": "execute_result",
          "data": {
            "text/html": [
              "<div>\n",
              "<style scoped>\n",
              "    .dataframe tbody tr th:only-of-type {\n",
              "        vertical-align: middle;\n",
              "    }\n",
              "\n",
              "    .dataframe tbody tr th {\n",
              "        vertical-align: top;\n",
              "    }\n",
              "\n",
              "    .dataframe thead th {\n",
              "        text-align: right;\n",
              "    }\n",
              "</style>\n",
              "<table border=\"1\" class=\"dataframe\">\n",
              "  <thead>\n",
              "    <tr style=\"text-align: right;\">\n",
              "      <th></th>\n",
              "      <th>district</th>\n",
              "      <th>year</th>\n",
              "      <th>season</th>\n",
              "      <th>crop</th>\n",
              "      <th>area</th>\n",
              "      <th>temp</th>\n",
              "      <th>rainfall</th>\n",
              "      <th>humidity</th>\n",
              "      <th>wind</th>\n",
              "    </tr>\n",
              "  </thead>\n",
              "  <tbody>\n",
              "    <tr>\n",
              "      <th>0</th>\n",
              "      <td>0</td>\n",
              "      <td>2011</td>\n",
              "      <td>0</td>\n",
              "      <td>0</td>\n",
              "      <td>607</td>\n",
              "      <td>25.5025</td>\n",
              "      <td>9.856148</td>\n",
              "      <td>83.805</td>\n",
              "      <td>2.11</td>\n",
              "    </tr>\n",
              "    <tr>\n",
              "      <th>1</th>\n",
              "      <td>0</td>\n",
              "      <td>2011</td>\n",
              "      <td>0</td>\n",
              "      <td>14</td>\n",
              "      <td>288</td>\n",
              "      <td>25.5025</td>\n",
              "      <td>9.856148</td>\n",
              "      <td>83.805</td>\n",
              "      <td>2.11</td>\n",
              "    </tr>\n",
              "    <tr>\n",
              "      <th>2</th>\n",
              "      <td>0</td>\n",
              "      <td>2011</td>\n",
              "      <td>0</td>\n",
              "      <td>15</td>\n",
              "      <td>11</td>\n",
              "      <td>25.5025</td>\n",
              "      <td>9.856148</td>\n",
              "      <td>83.805</td>\n",
              "      <td>2.11</td>\n",
              "    </tr>\n",
              "    <tr>\n",
              "      <th>3</th>\n",
              "      <td>0</td>\n",
              "      <td>2011</td>\n",
              "      <td>0</td>\n",
              "      <td>19</td>\n",
              "      <td>125</td>\n",
              "      <td>25.5025</td>\n",
              "      <td>9.856148</td>\n",
              "      <td>83.805</td>\n",
              "      <td>2.11</td>\n",
              "    </tr>\n",
              "    <tr>\n",
              "      <th>4</th>\n",
              "      <td>0</td>\n",
              "      <td>2011</td>\n",
              "      <td>0</td>\n",
              "      <td>21</td>\n",
              "      <td>8</td>\n",
              "      <td>25.5025</td>\n",
              "      <td>9.856148</td>\n",
              "      <td>83.805</td>\n",
              "      <td>2.11</td>\n",
              "    </tr>\n",
              "  </tbody>\n",
              "</table>\n",
              "</div>"
            ],
            "text/plain": [
              "   district  year  season  crop  area     temp  rainfall  humidity  wind\n",
              "0         0  2011       0     0   607  25.5025  9.856148    83.805  2.11\n",
              "1         0  2011       0    14   288  25.5025  9.856148    83.805  2.11\n",
              "2         0  2011       0    15    11  25.5025  9.856148    83.805  2.11\n",
              "3         0  2011       0    19   125  25.5025  9.856148    83.805  2.11\n",
              "4         0  2011       0    21     8  25.5025  9.856148    83.805  2.11"
            ]
          },
          "metadata": {},
          "execution_count": 77
        }
      ]
    },
    {
      "cell_type": "code",
      "source": [
        "test.drop('Unnamed: 0',axis=1,inplace=True)"
      ],
      "metadata": {
        "id": "YSm0wUBTnTZO"
      },
      "execution_count": null,
      "outputs": []
    },
    {
      "cell_type": "code",
      "source": [
        "len(test)"
      ],
      "metadata": {
        "colab": {
          "base_uri": "https://localhost:8080/"
        },
        "id": "CgQOCUuCpdj5",
        "outputId": "ca03a9b2-b8c7-4fbb-914e-12230aac0e9f"
      },
      "execution_count": null,
      "outputs": [
        {
          "output_type": "execute_result",
          "data": {
            "text/plain": [
              "10709"
            ]
          },
          "metadata": {},
          "execution_count": 79
        }
      ]
    },
    {
      "cell_type": "code",
      "source": [
        "area=[]"
      ],
      "metadata": {
        "id": "3EyPGRRRxMzP"
      },
      "execution_count": null,
      "outputs": []
    },
    {
      "cell_type": "code",
      "source": [
        "df=testf.loc[0]\n",
        "df=np.array(df)\n",
        "df=df.reshape((1,9))\n",
        "area.append((testf.loc[0][4],testf.loc[0][3]))"
      ],
      "metadata": {
        "id": "xmMS3X0sphi0"
      },
      "execution_count": null,
      "outputs": []
    },
    {
      "cell_type": "code",
      "source": [
        "area"
      ],
      "metadata": {
        "colab": {
          "base_uri": "https://localhost:8080/"
        },
        "id": "yC4HZrwjqqIY",
        "outputId": "cf0d2f19-21e4-40dc-b6b0-ab25c037e6e0"
      },
      "execution_count": null,
      "outputs": [
        {
          "output_type": "execute_result",
          "data": {
            "text/plain": [
              "[(607.0, 0.0)]"
            ]
          },
          "metadata": {},
          "execution_count": 82
        }
      ]
    },
    {
      "cell_type": "code",
      "source": [
        "x=[]"
      ],
      "metadata": {
        "id": "cLkq3dmtqsN3"
      },
      "execution_count": null,
      "outputs": []
    },
    {
      "cell_type": "code",
      "source": [
        "df=pd.DataFrame(df)\n",
        "df"
      ],
      "metadata": {
        "colab": {
          "base_uri": "https://localhost:8080/",
          "height": 81
        },
        "id": "HcshYDerrIO_",
        "outputId": "ac1a81fe-f05a-4028-b768-12a321eebaa5"
      },
      "execution_count": null,
      "outputs": [
        {
          "output_type": "execute_result",
          "data": {
            "text/html": [
              "<div>\n",
              "<style scoped>\n",
              "    .dataframe tbody tr th:only-of-type {\n",
              "        vertical-align: middle;\n",
              "    }\n",
              "\n",
              "    .dataframe tbody tr th {\n",
              "        vertical-align: top;\n",
              "    }\n",
              "\n",
              "    .dataframe thead th {\n",
              "        text-align: right;\n",
              "    }\n",
              "</style>\n",
              "<table border=\"1\" class=\"dataframe\">\n",
              "  <thead>\n",
              "    <tr style=\"text-align: right;\">\n",
              "      <th></th>\n",
              "      <th>0</th>\n",
              "      <th>1</th>\n",
              "      <th>2</th>\n",
              "      <th>3</th>\n",
              "      <th>4</th>\n",
              "      <th>5</th>\n",
              "      <th>6</th>\n",
              "      <th>7</th>\n",
              "      <th>8</th>\n",
              "    </tr>\n",
              "  </thead>\n",
              "  <tbody>\n",
              "    <tr>\n",
              "      <th>0</th>\n",
              "      <td>0.0</td>\n",
              "      <td>2011.0</td>\n",
              "      <td>0.0</td>\n",
              "      <td>0.0</td>\n",
              "      <td>607.0</td>\n",
              "      <td>25.5025</td>\n",
              "      <td>9.856148</td>\n",
              "      <td>83.805</td>\n",
              "      <td>2.11</td>\n",
              "    </tr>\n",
              "  </tbody>\n",
              "</table>\n",
              "</div>"
            ],
            "text/plain": [
              "     0       1    2    3      4        5         6       7     8\n",
              "0  0.0  2011.0  0.0  0.0  607.0  25.5025  9.856148  83.805  2.11"
            ]
          },
          "metadata": {},
          "execution_count": 84
        }
      ]
    },
    {
      "cell_type": "code",
      "source": [
        "x.append(df)"
      ],
      "metadata": {
        "id": "ZHFENiw8qulP"
      },
      "execution_count": null,
      "outputs": []
    },
    {
      "cell_type": "code",
      "source": [
        "x"
      ],
      "metadata": {
        "colab": {
          "base_uri": "https://localhost:8080/"
        },
        "id": "0PXNYy2trHiE",
        "outputId": "45908978-8a3a-40cb-d653-c706ba66a9d5"
      },
      "execution_count": null,
      "outputs": [
        {
          "output_type": "execute_result",
          "data": {
            "text/plain": [
              "[     0       1    2    3      4        5         6       7     8\n",
              " 0  0.0  2011.0  0.0  0.0  607.0  25.5025  9.856148  83.805  2.11]"
            ]
          },
          "metadata": {},
          "execution_count": 86
        }
      ]
    },
    {
      "cell_type": "code",
      "source": [
        "test.head()"
      ],
      "metadata": {
        "colab": {
          "base_uri": "https://localhost:8080/",
          "height": 206
        },
        "id": "he70pqvA7Xr6",
        "outputId": "2e3456cb-5ce1-480b-b621-17378184c42c"
      },
      "execution_count": null,
      "outputs": [
        {
          "output_type": "execute_result",
          "data": {
            "text/html": [
              "<div>\n",
              "<style scoped>\n",
              "    .dataframe tbody tr th:only-of-type {\n",
              "        vertical-align: middle;\n",
              "    }\n",
              "\n",
              "    .dataframe tbody tr th {\n",
              "        vertical-align: top;\n",
              "    }\n",
              "\n",
              "    .dataframe thead th {\n",
              "        text-align: right;\n",
              "    }\n",
              "</style>\n",
              "<table border=\"1\" class=\"dataframe\">\n",
              "  <thead>\n",
              "    <tr style=\"text-align: right;\">\n",
              "      <th></th>\n",
              "      <th>District</th>\n",
              "      <th>Year</th>\n",
              "      <th>Season</th>\n",
              "      <th>Crop</th>\n",
              "      <th>Area</th>\n",
              "      <th>Temperature</th>\n",
              "      <th>Rainfall</th>\n",
              "      <th>Humidity</th>\n",
              "      <th>Wind Speed</th>\n",
              "    </tr>\n",
              "  </thead>\n",
              "  <tbody>\n",
              "    <tr>\n",
              "      <th>0</th>\n",
              "      <td>balod</td>\n",
              "      <td>2011</td>\n",
              "      <td>Kharif</td>\n",
              "      <td>Arhar/Tur</td>\n",
              "      <td>607</td>\n",
              "      <td>25.5025</td>\n",
              "      <td>9.856148</td>\n",
              "      <td>83.805</td>\n",
              "      <td>2.11</td>\n",
              "    </tr>\n",
              "    <tr>\n",
              "      <th>1</th>\n",
              "      <td>balod</td>\n",
              "      <td>2011</td>\n",
              "      <td>Kharif</td>\n",
              "      <td>Horse-gram</td>\n",
              "      <td>288</td>\n",
              "      <td>25.5025</td>\n",
              "      <td>9.856148</td>\n",
              "      <td>83.805</td>\n",
              "      <td>2.11</td>\n",
              "    </tr>\n",
              "    <tr>\n",
              "      <th>2</th>\n",
              "      <td>balod</td>\n",
              "      <td>2011</td>\n",
              "      <td>Kharif</td>\n",
              "      <td>Jowar</td>\n",
              "      <td>11</td>\n",
              "      <td>25.5025</td>\n",
              "      <td>9.856148</td>\n",
              "      <td>83.805</td>\n",
              "      <td>2.11</td>\n",
              "    </tr>\n",
              "    <tr>\n",
              "      <th>3</th>\n",
              "      <td>balod</td>\n",
              "      <td>2011</td>\n",
              "      <td>Kharif</td>\n",
              "      <td>Maize</td>\n",
              "      <td>125</td>\n",
              "      <td>25.5025</td>\n",
              "      <td>9.856148</td>\n",
              "      <td>83.805</td>\n",
              "      <td>2.11</td>\n",
              "    </tr>\n",
              "    <tr>\n",
              "      <th>4</th>\n",
              "      <td>balod</td>\n",
              "      <td>2011</td>\n",
              "      <td>Kharif</td>\n",
              "      <td>Mesta</td>\n",
              "      <td>8</td>\n",
              "      <td>25.5025</td>\n",
              "      <td>9.856148</td>\n",
              "      <td>83.805</td>\n",
              "      <td>2.11</td>\n",
              "    </tr>\n",
              "  </tbody>\n",
              "</table>\n",
              "</div>"
            ],
            "text/plain": [
              "  District  Year  Season  ...  Rainfall  Humidity  Wind Speed\n",
              "0    balod  2011  Kharif  ...  9.856148    83.805        2.11\n",
              "1    balod  2011  Kharif  ...  9.856148    83.805        2.11\n",
              "2    balod  2011  Kharif  ...  9.856148    83.805        2.11\n",
              "3    balod  2011  Kharif  ...  9.856148    83.805        2.11\n",
              "4    balod  2011  Kharif  ...  9.856148    83.805        2.11\n",
              "\n",
              "[5 rows x 9 columns]"
            ]
          },
          "metadata": {},
          "execution_count": 92
        }
      ]
    },
    {
      "cell_type": "code",
      "source": [
        "x = []\n",
        "area = []\n",
        "for i in range(10709):\n",
        "  if(test.loc[i][0] == name):\n",
        "    df=testf.loc[i]\n",
        "    df=np.array(df)\n",
        "    df=df.reshape((1,9))\n",
        "    area.append((testf.loc[i][4],testf.loc[i][3]))\n",
        "    df=pd.DataFrame(df)\n",
        "    x.append(df)"
      ],
      "metadata": {
        "id": "iPEuc-TQMJAh"
      },
      "execution_count": null,
      "outputs": []
    },
    {
      "cell_type": "code",
      "source": [
        "x"
      ],
      "metadata": {
        "colab": {
          "base_uri": "https://localhost:8080/"
        },
        "id": "wIe__BS_m5Oo",
        "outputId": "d4312571-84ff-42a6-8a02-7f60620fa30f"
      },
      "execution_count": null,
      "outputs": [
        {
          "output_type": "execute_result",
          "data": {
            "text/plain": [
              "[     0       1    2    3      4        5         6       7     8\n",
              " 0  0.0  2011.0  0.0  0.0  607.0  25.5025  9.856148  83.805  2.11,\n",
              "      0       1    2     3      4        5         6       7     8\n",
              " 0  0.0  2011.0  0.0  14.0  288.0  25.5025  9.856148  83.805  2.11,\n",
              "      0       1    2     3     4        5         6       7     8\n",
              " 0  0.0  2011.0  0.0  15.0  11.0  25.5025  9.856148  83.805  2.11,\n",
              "      0       1    2     3      4        5         6       7     8\n",
              " 0  0.0  2011.0  0.0  19.0  125.0  25.5025  9.856148  83.805  2.11,\n",
              "      0       1    2     3    4        5         6       7     8\n",
              " 0  0.0  2011.0  0.0  21.0  8.0  25.5025  9.856148  83.805  2.11,\n",
              "      0       1    2     3     4        5         6       7     8\n",
              " 0  0.0  2011.0  0.0  22.0  46.0  25.5025  9.856148  83.805  2.11,\n",
              "      0       1    2     3      4        5         6       7     8\n",
              " 0  0.0  2011.0  0.0  26.0  218.0  25.5025  9.856148  83.805  2.11,\n",
              "      0       1    2     3    4        5         6       7     8\n",
              " 0  0.0  2011.0  0.0  30.0  4.0  25.5025  9.856148  83.805  2.11,\n",
              "      0       1    2     3         4        5         6       7     8\n",
              " 0  0.0  2011.0  0.0  32.0  177115.0  25.5025  9.856148  83.805  2.11,\n",
              "      0       1    2     3      4        5         6       7     8\n",
              " 0  0.0  2011.0  0.0  35.0  291.0  25.5025  9.856148  83.805  2.11,\n",
              "      0       1    2     3       4        5         6       7     8\n",
              " 0  0.0  2011.0  0.0  36.0  1448.0  25.5025  9.856148  83.805  2.11,\n",
              "      0       1    2     3      4        5         6       7     8\n",
              " 0  0.0  2011.0  0.0  37.0  136.0  25.5025  9.856148  83.805  2.11,\n",
              "      0       1    2     3     4        5         6       7     8\n",
              " 0  0.0  2011.0  0.0  39.0  37.0  25.5025  9.856148  83.805  2.11,\n",
              "      0       1    2     3       4        5         6       7     8\n",
              " 0  0.0  2011.0  0.0  43.0  1261.0  25.5025  9.856148  83.805  2.11,\n",
              "      0       1    2    3    4       5         6       7      8\n",
              " 0  0.0  2011.0  1.0  3.0  3.0  20.812  0.218903  56.324  1.416,\n",
              "      0       1    2     3       4       5         6       7      8\n",
              " 0  0.0  2011.0  1.0  11.0  7467.0  20.812  0.218903  56.324  1.416,\n",
              "      0       1    2     3     4       5         6       7      8\n",
              " 0  0.0  2011.0  1.0  14.0  66.0  20.812  0.218903  56.324  1.416,\n",
              "      0       1    2     3        4       5         6       7      8\n",
              " 0  0.0  2011.0  1.0  17.0  50711.0  20.812  0.218903  56.324  1.416,\n",
              "      0       1    2     3       4       5         6       7      8\n",
              " 0  0.0  2011.0  1.0  18.0  4365.0  20.812  0.218903  56.324  1.416,\n",
              "      0       1    2     3      4       5         6       7      8\n",
              " 0  0.0  2011.0  1.0  20.0  797.0  20.812  0.218903  56.324  1.416,\n",
              "      0       1    2     3      4       5         6       7      8\n",
              " 0  0.0  2011.0  1.0  22.0  185.0  20.812  0.218903  56.324  1.416,\n",
              "      0       1    2     3      4       5         6       7      8\n",
              " 0  0.0  2011.0  1.0  25.0  838.0  20.812  0.218903  56.324  1.416,\n",
              "      0       1    2     3      4       5         6       7      8\n",
              " 0  0.0  2011.0  1.0  28.0  473.0  20.812  0.218903  56.324  1.416,\n",
              "      0       1    2     3       4       5         6       7      8\n",
              " 0  0.0  2011.0  1.0  31.0  1154.0  20.812  0.218903  56.324  1.416,\n",
              "      0       1    2     3     4       5         6       7      8\n",
              " 0  0.0  2011.0  1.0  33.0  15.0  20.812  0.218903  56.324  1.416,\n",
              "      0       1    2     3       4       5         6       7      8\n",
              " 0  0.0  2011.0  1.0  43.0  1088.0  20.812  0.218903  56.324  1.416,\n",
              "      0       1    2     3       4       5         6       7      8\n",
              " 0  0.0  2011.0  1.0  44.0  3664.0  20.812  0.218903  56.324  1.416,\n",
              "      0       1    2    3     4         5         6          7         8\n",
              " 0  0.0  2011.0  3.0  2.0  16.0  27.44191  4.620758  68.474866  2.109838,\n",
              "      0       1    2    3      4         5         6          7         8\n",
              " 0  0.0  2011.0  3.0  6.0  284.0  27.44191  4.620758  68.474866  2.109838,\n",
              "      0       1    2    3     4         5         6          7         8\n",
              " 0  0.0  2011.0  3.0  8.0  25.0  27.44191  4.620758  68.474866  2.109838,\n",
              "      0       1    2    3    4         5         6          7         8\n",
              " 0  0.0  2011.0  3.0  9.0  1.0  27.44191  4.620758  68.474866  2.109838,\n",
              "      0       1    2     3     4         5         6          7         8\n",
              " 0  0.0  2011.0  3.0  24.0  10.0  27.44191  4.620758  68.474866  2.109838,\n",
              "      0       1    2     3    4         5         6          7         8\n",
              " 0  0.0  2011.0  3.0  34.0  1.0  27.44191  4.620758  68.474866  2.109838,\n",
              "      0       1    2     3     4         5         6          7         8\n",
              " 0  0.0  2011.0  3.0  38.0  42.0  27.44191  4.620758  68.474866  2.109838,\n",
              "      0       1    2     3    4         5         6          7         8\n",
              " 0  0.0  2011.0  3.0  40.0  7.0  27.44191  4.620758  68.474866  2.109838,\n",
              "      0       1    2    3      4       5          6       7     8\n",
              " 0  0.0  2012.0  0.0  0.0  571.0  25.015  11.199962  85.745  2.48,\n",
              "      0       1    2     3      4       5          6       7     8\n",
              " 0  0.0  2012.0  0.0  14.0  274.0  25.015  11.199962  85.745  2.48,\n",
              "      0       1    2     3     4       5          6       7     8\n",
              " 0  0.0  2012.0  0.0  15.0  12.0  25.015  11.199962  85.745  2.48,\n",
              "      0       1    2     3      4       5          6       7     8\n",
              " 0  0.0  2012.0  0.0  19.0  121.0  25.015  11.199962  85.745  2.48,\n",
              "      0       1    2     3     4       5          6       7     8\n",
              " 0  0.0  2012.0  0.0  21.0  14.0  25.015  11.199962  85.745  2.48,\n",
              "      0       1    2     3     4       5          6       7     8\n",
              " 0  0.0  2012.0  0.0  22.0  32.0  25.015  11.199962  85.745  2.48,\n",
              "      0       1    2     3    4       5          6       7     8\n",
              " 0  0.0  2012.0  0.0  23.0  5.0  25.015  11.199962  85.745  2.48,\n",
              "      0       1    2     3     4       5          6       7     8\n",
              " 0  0.0  2012.0  0.0  26.0  92.0  25.015  11.199962  85.745  2.48,\n",
              "      0       1    2     3    4       5          6       7     8\n",
              " 0  0.0  2012.0  0.0  30.0  7.0  25.015  11.199962  85.745  2.48,\n",
              "      0       1    2     3         4       5          6       7     8\n",
              " 0  0.0  2012.0  0.0  32.0  177182.0  25.015  11.199962  85.745  2.48,\n",
              "      0       1    2     3      4       5          6       7     8\n",
              " 0  0.0  2012.0  0.0  35.0  271.0  25.015  11.199962  85.745  2.48,\n",
              "      0       1    2     3       4       5          6       7     8\n",
              " 0  0.0  2012.0  0.0  36.0  1333.0  25.015  11.199962  85.745  2.48,\n",
              "      0       1    2     3      4       5          6       7     8\n",
              " 0  0.0  2012.0  0.0  37.0  121.0  25.015  11.199962  85.745  2.48,\n",
              "      0       1    2     3     4       5          6       7     8\n",
              " 0  0.0  2012.0  0.0  39.0  17.0  25.015  11.199962  85.745  2.48,\n",
              "      0       1    2     3       4       5          6       7     8\n",
              " 0  0.0  2012.0  0.0  43.0  1296.0  25.015  11.199962  85.745  2.48,\n",
              "      0       1    2     3       4       5         6       7     8\n",
              " 0  0.0  2012.0  1.0  11.0  7910.0  21.494  0.389483  53.606  1.52,\n",
              "      0       1    2     3     4       5         6       7     8\n",
              " 0  0.0  2012.0  1.0  14.0  74.0  21.494  0.389483  53.606  1.52,\n",
              "      0       1    2     3        4       5         6       7     8\n",
              " 0  0.0  2012.0  1.0  17.0  50638.0  21.494  0.389483  53.606  1.52,\n",
              "      0       1    2     3       4       5         6       7     8\n",
              " 0  0.0  2012.0  1.0  18.0  4276.0  21.494  0.389483  53.606  1.52,\n",
              "      0       1    2     3      4       5         6       7     8\n",
              " 0  0.0  2012.0  1.0  20.0  776.0  21.494  0.389483  53.606  1.52,\n",
              "      0       1    2     3      4       5         6       7     8\n",
              " 0  0.0  2012.0  1.0  22.0  168.0  21.494  0.389483  53.606  1.52,\n",
              "      0       1    2     3     4       5         6       7     8\n",
              " 0  0.0  2012.0  1.0  25.0  39.0  21.494  0.389483  53.606  1.52,\n",
              "      0       1    2     3      4       5         6       7     8\n",
              " 0  0.0  2012.0  1.0  28.0  473.0  21.494  0.389483  53.606  1.52,\n",
              "      0       1    2     3       4       5         6       7     8\n",
              " 0  0.0  2012.0  1.0  31.0  1118.0  21.494  0.389483  53.606  1.52,\n",
              "      0       1    2     3      4       5         6       7     8\n",
              " 0  0.0  2012.0  1.0  33.0  111.0  21.494  0.389483  53.606  1.52,\n",
              "      0       1    2     3       4       5         6       7     8\n",
              " 0  0.0  2012.0  1.0  43.0  1125.0  21.494  0.389483  53.606  1.52,\n",
              "      0       1    2     3       4       5         6       7     8\n",
              " 0  0.0  2012.0  1.0  44.0  3572.0  21.494  0.389483  53.606  1.52,\n",
              "      0       1    2    3    4          5         6          7        8\n",
              " 0  0.0  2012.0  3.0  2.0  9.0  27.908493  5.077755  65.693739  2.31332,\n",
              "      0       1    2    3      4          5         6          7        8\n",
              " 0  0.0  2012.0  3.0  6.0  233.0  27.908493  5.077755  65.693739  2.31332,\n",
              "      0       1    2    3     4          5         6          7        8\n",
              " 0  0.0  2012.0  3.0  8.0  18.0  27.908493  5.077755  65.693739  2.31332,\n",
              "      0       1    2     3    4          5         6          7        8\n",
              " 0  0.0  2012.0  3.0  24.0  5.0  27.908493  5.077755  65.693739  2.31332,\n",
              "      0       1    2     3      4          5         6          7        8\n",
              " 0  0.0  2012.0  3.0  38.0  233.0  27.908493  5.077755  65.693739  2.31332,\n",
              "      0       1    2     3     4          5         6          7        8\n",
              " 0  0.0  2012.0  3.0  40.0  10.0  27.908493  5.077755  65.693739  2.31332,\n",
              "      0       1    2     3    4          5         6          7        8\n",
              " 0  0.0  2012.0  3.0  42.0  1.0  27.908493  5.077755  65.693739  2.31332,\n",
              "      0       1    2    3      4        5          6        7      8\n",
              " 0  0.0  2013.0  0.0  0.0  547.0  25.3575  10.151371  87.4975  2.405,\n",
              "      0       1    2     3      4        5          6        7      8\n",
              " 0  0.0  2013.0  0.0  14.0  254.0  25.3575  10.151371  87.4975  2.405,\n",
              "      0       1    2     3      4        5          6        7      8\n",
              " 0  0.0  2013.0  0.0  19.0  258.0  25.3575  10.151371  87.4975  2.405,\n",
              "      0       1    2     3     4        5          6        7      8\n",
              " 0  0.0  2013.0  0.0  21.0  16.0  25.3575  10.151371  87.4975  2.405,\n",
              "      0       1    2     3     4        5          6        7      8\n",
              " 0  0.0  2013.0  0.0  22.0  43.0  25.3575  10.151371  87.4975  2.405,\n",
              "      0       1    2     3      4        5          6        7      8\n",
              " 0  0.0  2013.0  0.0  26.0  141.0  25.3575  10.151371  87.4975  2.405,\n",
              "      0       1    2     3    4        5          6        7      8\n",
              " 0  0.0  2013.0  0.0  30.0  7.0  25.3575  10.151371  87.4975  2.405,\n",
              "      0       1    2     3         4        5          6        7      8\n",
              " 0  0.0  2013.0  0.0  32.0  181677.0  25.3575  10.151371  87.4975  2.405,\n",
              "      0       1    2     3      4        5          6        7      8\n",
              " 0  0.0  2013.0  0.0  35.0  244.0  25.3575  10.151371  87.4975  2.405,\n",
              "      0       1    2     3       4        5          6        7      8\n",
              " 0  0.0  2013.0  0.0  36.0  1251.0  25.3575  10.151371  87.4975  2.405,\n",
              "      0       1    2     3      4        5          6        7      8\n",
              " 0  0.0  2013.0  0.0  37.0  141.0  25.3575  10.151371  87.4975  2.405,\n",
              "      0       1    2     3     4        5          6        7      8\n",
              " 0  0.0  2013.0  0.0  39.0  65.0  25.3575  10.151371  87.4975  2.405,\n",
              "      0       1    2     3       4        5          6        7      8\n",
              " 0  0.0  2013.0  0.0  43.0  1288.0  25.3575  10.151371  87.4975  2.405,\n",
              "      0       1    2     3       4       5         6       7     8\n",
              " 0  0.0  2013.0  1.0  11.0  7881.0  21.372  0.108918  57.554  1.44,\n",
              "      0       1    2     3     4       5         6       7     8\n",
              " 0  0.0  2013.0  1.0  14.0  69.0  21.372  0.108918  57.554  1.44,\n",
              "      0       1    2     3        4       5         6       7     8\n",
              " 0  0.0  2013.0  1.0  17.0  47612.0  21.372  0.108918  57.554  1.44,\n",
              "      0       1    2     3       4       5         6       7     8\n",
              " 0  0.0  2013.0  1.0  18.0  3800.0  21.372  0.108918  57.554  1.44,\n",
              "      0       1    2     3      4       5         6       7     8\n",
              " 0  0.0  2013.0  1.0  20.0  752.0  21.372  0.108918  57.554  1.44,\n",
              "      0       1    2     3      4       5         6       7     8\n",
              " 0  0.0  2013.0  1.0  22.0  141.0  21.372  0.108918  57.554  1.44,\n",
              "      0       1    2     3    4       5         6       7     8\n",
              " 0  0.0  2013.0  1.0  25.0  1.0  21.372  0.108918  57.554  1.44,\n",
              "      0       1    2     3      4       5         6       7     8\n",
              " 0  0.0  2013.0  1.0  28.0  429.0  21.372  0.108918  57.554  1.44,\n",
              "      0       1    2     3      4       5         6       7     8\n",
              " 0  0.0  2013.0  1.0  31.0  903.0  21.372  0.108918  57.554  1.44,\n",
              "      0       1    2     3    4       5         6       7     8\n",
              " 0  0.0  2013.0  1.0  33.0  1.0  21.372  0.108918  57.554  1.44,\n",
              "      0       1    2     3      4       5         6       7     8\n",
              " 0  0.0  2013.0  1.0  43.0  963.0  21.372  0.108918  57.554  1.44,\n",
              "      0       1    2     3       4       5         6       7     8\n",
              " 0  0.0  2013.0  1.0  44.0  3329.0  21.372  0.108918  57.554  1.44,\n",
              "      0       1    2    3     4          5         6          7         8\n",
              " 0  0.0  2013.0  3.0  2.0  15.0  27.761541  5.069874  69.520312  2.290277,\n",
              "      0       1    2    3      4          5         6          7         8\n",
              " 0  0.0  2013.0  3.0  6.0  249.0  27.761541  5.069874  69.520312  2.290277,\n",
              "      0       1    2    3     4          5         6          7         8\n",
              " 0  0.0  2013.0  3.0  8.0  33.0  27.761541  5.069874  69.520312  2.290277,\n",
              "      0       1    2     3     4          5         6          7         8\n",
              " 0  0.0  2013.0  3.0  15.0  10.0  27.761541  5.069874  69.520312  2.290277,\n",
              "      0       1    2     3    4          5         6          7         8\n",
              " 0  0.0  2013.0  3.0  24.0  7.0  27.761541  5.069874  69.520312  2.290277,\n",
              "      0       1    2     3      4          5         6          7         8\n",
              " 0  0.0  2013.0  3.0  38.0  266.0  27.761541  5.069874  69.520312  2.290277,\n",
              "      0       1    2     3    4          5         6          7         8\n",
              " 0  0.0  2013.0  3.0  40.0  6.0  27.761541  5.069874  69.520312  2.290277,\n",
              "      0       1    2     3    4          5         6          7         8\n",
              " 0  0.0  2013.0  3.0  42.0  1.0  27.761541  5.069874  69.520312  2.290277,\n",
              "      0       1    2    3      4     5         6       7     8\n",
              " 0  0.0  2014.0  0.0  0.0  519.0  25.7  9.210497  82.645  2.59,\n",
              "      0       1    2     3      4     5         6       7     8\n",
              " 0  0.0  2014.0  0.0  14.0  266.0  25.7  9.210497  82.645  2.59,\n",
              "      0       1    2     3      4     5         6       7     8\n",
              " 0  0.0  2014.0  0.0  19.0  259.0  25.7  9.210497  82.645  2.59,\n",
              "      0       1    2     3     4     5         6       7     8\n",
              " 0  0.0  2014.0  0.0  21.0  13.0  25.7  9.210497  82.645  2.59,\n",
              "      0       1    2     3     4     5         6       7     8\n",
              " 0  0.0  2014.0  0.0  22.0  34.0  25.7  9.210497  82.645  2.59,\n",
              "      0       1    2     3      4     5         6       7     8\n",
              " 0  0.0  2014.0  0.0  26.0  231.0  25.7  9.210497  82.645  2.59,\n",
              "      0       1    2     3    4     5         6       7     8\n",
              " 0  0.0  2014.0  0.0  30.0  9.0  25.7  9.210497  82.645  2.59,\n",
              "      0       1    2     3         4     5         6       7     8\n",
              " 0  0.0  2014.0  0.0  32.0  183795.0  25.7  9.210497  82.645  2.59,\n",
              "      0       1    2     3      4     5         6       7     8\n",
              " 0  0.0  2014.0  0.0  35.0  229.0  25.7  9.210497  82.645  2.59,\n",
              "      0       1    2     3       4     5         6       7     8\n",
              " 0  0.0  2014.0  0.0  36.0  1225.0  25.7  9.210497  82.645  2.59,\n",
              "      0       1    2     3      4     5         6       7     8\n",
              " 0  0.0  2014.0  0.0  37.0  127.0  25.7  9.210497  82.645  2.59,\n",
              "      0       1    2     3     4     5         6       7     8\n",
              " 0  0.0  2014.0  0.0  39.0  61.0  25.7  9.210497  82.645  2.59,\n",
              "      0       1    2     3       4     5         6       7     8\n",
              " 0  0.0  2014.0  0.0  43.0  1324.0  25.7  9.210497  82.645  2.59,\n",
              "      0       1    2     3       4       5         6       7      8\n",
              " 0  0.0  2014.0  1.0  11.0  8000.0  20.454  0.520286  62.944  1.418,\n",
              "      0       1    2     3     4       5         6       7      8\n",
              " 0  0.0  2014.0  1.0  14.0  56.0  20.454  0.520286  62.944  1.418,\n",
              "      0       1    2     3        4       5         6       7      8\n",
              " 0  0.0  2014.0  1.0  17.0  46725.0  20.454  0.520286  62.944  1.418,\n",
              "      0       1    2     3       4       5         6       7      8\n",
              " 0  0.0  2014.0  1.0  18.0  3760.0  20.454  0.520286  62.944  1.418,\n",
              "      0       1    2     3      4       5         6       7      8\n",
              " 0  0.0  2014.0  1.0  20.0  705.0  20.454  0.520286  62.944  1.418,\n",
              "      0       1    2     3      4       5         6       7      8\n",
              " 0  0.0  2014.0  1.0  22.0  149.0  20.454  0.520286  62.944  1.418,\n",
              "      0       1    2     3    4       5         6       7      8\n",
              " 0  0.0  2014.0  1.0  25.0  1.0  20.454  0.520286  62.944  1.418,\n",
              "      0       1    2     3      4       5         6       7      8\n",
              " 0  0.0  2014.0  1.0  28.0  395.0  20.454  0.520286  62.944  1.418,\n",
              "      0       1    2     3       4       5         6       7      8\n",
              " 0  0.0  2014.0  1.0  31.0  1019.0  20.454  0.520286  62.944  1.418,\n",
              "      0       1    2     3     4       5         6       7      8\n",
              " 0  0.0  2014.0  1.0  33.0  14.0  20.454  0.520286  62.944  1.418,\n",
              "      0       1    2     3      4       5         6       7      8\n",
              " 0  0.0  2014.0  1.0  43.0  948.0  20.454  0.520286  62.944  1.418,\n",
              "      0       1    2     3       4       5         6       7      8\n",
              " 0  0.0  2014.0  1.0  44.0  3532.0  20.454  0.520286  62.944  1.418,\n",
              "      0       1    2    3     4          5         6          7        8\n",
              " 0  0.0  2014.0  3.0  2.0  15.0  27.718462  4.105974  68.549193  2.32669,\n",
              "      0       1    2    3      4          5         6          7        8\n",
              " 0  0.0  2014.0  3.0  6.0  306.0  27.718462  4.105974  68.549193  2.32669,\n",
              "      0       1    2    3     4          5         6          7        8\n",
              " 0  0.0  2014.0  3.0  8.0  29.0  27.718462  4.105974  68.549193  2.32669,\n",
              "      0       1    2     3     4          5         6          7        8\n",
              " 0  0.0  2014.0  3.0  15.0  11.0  27.718462  4.105974  68.549193  2.32669,\n",
              "      0       1    2     3    4          5         6          7        8\n",
              " 0  0.0  2014.0  3.0  24.0  5.0  27.718462  4.105974  68.549193  2.32669,\n",
              "      0       1    2     3      4          5         6          7        8\n",
              " 0  0.0  2014.0  3.0  38.0  354.0  27.718462  4.105974  68.549193  2.32669,\n",
              "      0       1    2     3    4          5         6          7        8\n",
              " 0  0.0  2014.0  3.0  40.0  1.0  27.718462  4.105974  68.549193  2.32669,\n",
              "      0       1    2     3    4          5         6          7        8\n",
              " 0  0.0  2014.0  3.0  42.0  2.0  27.718462  4.105974  68.549193  2.32669]"
            ]
          },
          "metadata": {},
          "execution_count": 94
        }
      ]
    },
    {
      "cell_type": "code",
      "source": [
        "df_yield = pd.concat(x)\n",
        "df_yield"
      ],
      "metadata": {
        "colab": {
          "base_uri": "https://localhost:8080/",
          "height": 423
        },
        "id": "SrTW1GjqMKxN",
        "outputId": "7b043d94-611e-41b9-d9cf-1271199370a9"
      },
      "execution_count": null,
      "outputs": [
        {
          "output_type": "execute_result",
          "data": {
            "text/html": [
              "<div>\n",
              "<style scoped>\n",
              "    .dataframe tbody tr th:only-of-type {\n",
              "        vertical-align: middle;\n",
              "    }\n",
              "\n",
              "    .dataframe tbody tr th {\n",
              "        vertical-align: top;\n",
              "    }\n",
              "\n",
              "    .dataframe thead th {\n",
              "        text-align: right;\n",
              "    }\n",
              "</style>\n",
              "<table border=\"1\" class=\"dataframe\">\n",
              "  <thead>\n",
              "    <tr style=\"text-align: right;\">\n",
              "      <th></th>\n",
              "      <th>0</th>\n",
              "      <th>1</th>\n",
              "      <th>2</th>\n",
              "      <th>3</th>\n",
              "      <th>4</th>\n",
              "      <th>5</th>\n",
              "      <th>6</th>\n",
              "      <th>7</th>\n",
              "      <th>8</th>\n",
              "    </tr>\n",
              "  </thead>\n",
              "  <tbody>\n",
              "    <tr>\n",
              "      <th>0</th>\n",
              "      <td>0.0</td>\n",
              "      <td>2011.0</td>\n",
              "      <td>0.0</td>\n",
              "      <td>0.0</td>\n",
              "      <td>607.0</td>\n",
              "      <td>25.502500</td>\n",
              "      <td>9.856148</td>\n",
              "      <td>83.805000</td>\n",
              "      <td>2.11000</td>\n",
              "    </tr>\n",
              "    <tr>\n",
              "      <th>0</th>\n",
              "      <td>0.0</td>\n",
              "      <td>2011.0</td>\n",
              "      <td>0.0</td>\n",
              "      <td>14.0</td>\n",
              "      <td>288.0</td>\n",
              "      <td>25.502500</td>\n",
              "      <td>9.856148</td>\n",
              "      <td>83.805000</td>\n",
              "      <td>2.11000</td>\n",
              "    </tr>\n",
              "    <tr>\n",
              "      <th>0</th>\n",
              "      <td>0.0</td>\n",
              "      <td>2011.0</td>\n",
              "      <td>0.0</td>\n",
              "      <td>15.0</td>\n",
              "      <td>11.0</td>\n",
              "      <td>25.502500</td>\n",
              "      <td>9.856148</td>\n",
              "      <td>83.805000</td>\n",
              "      <td>2.11000</td>\n",
              "    </tr>\n",
              "    <tr>\n",
              "      <th>0</th>\n",
              "      <td>0.0</td>\n",
              "      <td>2011.0</td>\n",
              "      <td>0.0</td>\n",
              "      <td>19.0</td>\n",
              "      <td>125.0</td>\n",
              "      <td>25.502500</td>\n",
              "      <td>9.856148</td>\n",
              "      <td>83.805000</td>\n",
              "      <td>2.11000</td>\n",
              "    </tr>\n",
              "    <tr>\n",
              "      <th>0</th>\n",
              "      <td>0.0</td>\n",
              "      <td>2011.0</td>\n",
              "      <td>0.0</td>\n",
              "      <td>21.0</td>\n",
              "      <td>8.0</td>\n",
              "      <td>25.502500</td>\n",
              "      <td>9.856148</td>\n",
              "      <td>83.805000</td>\n",
              "      <td>2.11000</td>\n",
              "    </tr>\n",
              "    <tr>\n",
              "      <th>...</th>\n",
              "      <td>...</td>\n",
              "      <td>...</td>\n",
              "      <td>...</td>\n",
              "      <td>...</td>\n",
              "      <td>...</td>\n",
              "      <td>...</td>\n",
              "      <td>...</td>\n",
              "      <td>...</td>\n",
              "      <td>...</td>\n",
              "    </tr>\n",
              "    <tr>\n",
              "      <th>0</th>\n",
              "      <td>0.0</td>\n",
              "      <td>2014.0</td>\n",
              "      <td>3.0</td>\n",
              "      <td>15.0</td>\n",
              "      <td>11.0</td>\n",
              "      <td>27.718462</td>\n",
              "      <td>4.105974</td>\n",
              "      <td>68.549193</td>\n",
              "      <td>2.32669</td>\n",
              "    </tr>\n",
              "    <tr>\n",
              "      <th>0</th>\n",
              "      <td>0.0</td>\n",
              "      <td>2014.0</td>\n",
              "      <td>3.0</td>\n",
              "      <td>24.0</td>\n",
              "      <td>5.0</td>\n",
              "      <td>27.718462</td>\n",
              "      <td>4.105974</td>\n",
              "      <td>68.549193</td>\n",
              "      <td>2.32669</td>\n",
              "    </tr>\n",
              "    <tr>\n",
              "      <th>0</th>\n",
              "      <td>0.0</td>\n",
              "      <td>2014.0</td>\n",
              "      <td>3.0</td>\n",
              "      <td>38.0</td>\n",
              "      <td>354.0</td>\n",
              "      <td>27.718462</td>\n",
              "      <td>4.105974</td>\n",
              "      <td>68.549193</td>\n",
              "      <td>2.32669</td>\n",
              "    </tr>\n",
              "    <tr>\n",
              "      <th>0</th>\n",
              "      <td>0.0</td>\n",
              "      <td>2014.0</td>\n",
              "      <td>3.0</td>\n",
              "      <td>40.0</td>\n",
              "      <td>1.0</td>\n",
              "      <td>27.718462</td>\n",
              "      <td>4.105974</td>\n",
              "      <td>68.549193</td>\n",
              "      <td>2.32669</td>\n",
              "    </tr>\n",
              "    <tr>\n",
              "      <th>0</th>\n",
              "      <td>0.0</td>\n",
              "      <td>2014.0</td>\n",
              "      <td>3.0</td>\n",
              "      <td>42.0</td>\n",
              "      <td>2.0</td>\n",
              "      <td>27.718462</td>\n",
              "      <td>4.105974</td>\n",
              "      <td>68.549193</td>\n",
              "      <td>2.32669</td>\n",
              "    </tr>\n",
              "  </tbody>\n",
              "</table>\n",
              "<p>135 rows × 9 columns</p>\n",
              "</div>"
            ],
            "text/plain": [
              "      0       1    2     3      4          5         6          7        8\n",
              "0   0.0  2011.0  0.0   0.0  607.0  25.502500  9.856148  83.805000  2.11000\n",
              "0   0.0  2011.0  0.0  14.0  288.0  25.502500  9.856148  83.805000  2.11000\n",
              "0   0.0  2011.0  0.0  15.0   11.0  25.502500  9.856148  83.805000  2.11000\n",
              "0   0.0  2011.0  0.0  19.0  125.0  25.502500  9.856148  83.805000  2.11000\n",
              "0   0.0  2011.0  0.0  21.0    8.0  25.502500  9.856148  83.805000  2.11000\n",
              "..  ...     ...  ...   ...    ...        ...       ...        ...      ...\n",
              "0   0.0  2014.0  3.0  15.0   11.0  27.718462  4.105974  68.549193  2.32669\n",
              "0   0.0  2014.0  3.0  24.0    5.0  27.718462  4.105974  68.549193  2.32669\n",
              "0   0.0  2014.0  3.0  38.0  354.0  27.718462  4.105974  68.549193  2.32669\n",
              "0   0.0  2014.0  3.0  40.0    1.0  27.718462  4.105974  68.549193  2.32669\n",
              "0   0.0  2014.0  3.0  42.0    2.0  27.718462  4.105974  68.549193  2.32669\n",
              "\n",
              "[135 rows x 9 columns]"
            ]
          },
          "metadata": {},
          "execution_count": 95
        }
      ]
    },
    {
      "cell_type": "code",
      "source": [
        "x=df_yield.values\n",
        "x"
      ],
      "metadata": {
        "colab": {
          "base_uri": "https://localhost:8080/"
        },
        "id": "nJT9wGRx0UyL",
        "outputId": "788a072a-aaac-411b-d7aa-8c2a42898f72"
      },
      "execution_count": null,
      "outputs": [
        {
          "output_type": "execute_result",
          "data": {
            "text/plain": [
              "array([[   0.        , 2011.        ,    0.        , ...,    9.85614785,\n",
              "          83.805     ,    2.11      ],\n",
              "       [   0.        , 2011.        ,    0.        , ...,    9.85614785,\n",
              "          83.805     ,    2.11      ],\n",
              "       [   0.        , 2011.        ,    0.        , ...,    9.85614785,\n",
              "          83.805     ,    2.11      ],\n",
              "       ...,\n",
              "       [   0.        , 2014.        ,    3.        , ...,    4.10597443,\n",
              "          68.54919263,    2.32668972],\n",
              "       [   0.        , 2014.        ,    3.        , ...,    4.10597443,\n",
              "          68.54919263,    2.32668972],\n",
              "       [   0.        , 2014.        ,    3.        , ...,    4.10597443,\n",
              "          68.54919263,    2.32668972]])"
            ]
          },
          "metadata": {},
          "execution_count": 106
        }
      ]
    },
    {
      "cell_type": "code",
      "source": [
        "\n",
        "#area\trainfall\tseason\ttemp\tcrop\thumidity\twind\tdistrict\tyear\n",
        "#district\tyear\tseason\tcrop\tarea\ttemp\trainfall\thumidity\twind\n",
        "\n",
        "x=scaler.transform(x)\n",
        "ypred = clf1.predict(x)\n",
        "ypred"
      ],
      "metadata": {
        "id": "8Cvqk34pMRNO",
        "colab": {
          "base_uri": "https://localhost:8080/"
        },
        "outputId": "beff8762-cd00-4ab3-af2e-534cb8bd5aad"
      },
      "execution_count": null,
      "outputs": [
        {
          "output_type": "stream",
          "name": "stderr",
          "text": [
            "/usr/local/lib/python3.7/dist-packages/sklearn/base.py:446: UserWarning: X does not have valid feature names, but StandardScaler was fitted with feature names\n",
            "  \"X does not have valid feature names, but\"\n"
          ]
        },
        {
          "output_type": "execute_result",
          "data": {
            "text/plain": [
              "array([ 5.43003118,  4.88117165,  2.29478336,  4.91695524,  2.62590445,\n",
              "        2.53732415,  1.70487954,  1.09716077, 12.58908979,  4.58892208,\n",
              "        5.90231324,  4.46407456,  2.73236793,  5.87256626,  1.12386515,\n",
              "        8.94205463,  2.99459163, 10.09131704,  7.36197694,  4.17355156,\n",
              "        3.38799586,  2.92631069,  5.0456141 ,  6.10146588,  1.81084449,\n",
              "        5.63183315,  8.27410324,  6.17524936,  4.50781377,  2.68378911,\n",
              "        0.74100012,  3.55111609,  0.9389197 ,  5.07318701,  3.86785242,\n",
              "        5.6579205 ,  5.05084575,  2.45124495,  4.90350112,  3.14787743,\n",
              "        2.16245833,  0.99975694,  3.42427885,  1.36512433, 12.80647561,\n",
              "        4.37309338,  5.84987742,  4.27484174,  2.26253825,  5.97708767,\n",
              "        9.01205344,  3.09356355,  9.99385408,  7.37517411,  5.01444091,\n",
              "        3.58491301,  2.59735657,  5.00072344,  6.00538714,  3.25853393,\n",
              "        5.60108864,  8.20168545,  5.05721458,  4.41632905,  3.01587843,\n",
              "        2.97612131,  6.56855945,  3.94339243,  0.80420398,  5.61025953,\n",
              "        4.74994381,  5.87580379,  3.42705815,  2.44103712,  0.94896239,\n",
              "        1.32248435, 12.83770279,  4.214924  ,  5.59515754,  4.57769841,\n",
              "        3.30672672,  5.86776661,  8.86986719,  3.00059728,  9.90154729,\n",
              "        7.11388605,  5.29451873,  3.37014527,  0.22567746,  4.73448267,\n",
              "        5.73033896,  0.21027301,  5.73005767,  8.31949951,  5.96855135,\n",
              "        4.49476441,  2.79271872,  2.02118458,  3.58351316,  6.67392797,\n",
              "        3.58169229,  0.8428185 ,  5.64983154,  4.93751091,  5.72635587,\n",
              "        3.08195046,  2.35436152,  2.84278773,  2.32424246, 12.89776122,\n",
              "        4.4609621 ,  5.67759158,  4.36196835,  3.38293642,  5.84795181,\n",
              "        9.18186561,  2.89011328, 10.32362946,  7.15812475,  4.91687314,\n",
              "        3.53847905,  0.16249961,  4.80503024,  6.1257116 ,  1.93514788,\n",
              "        5.6466044 ,  8.41876131,  6.06711351,  4.52188937,  2.51387617,\n",
              "        2.26405413,  3.11032295,  7.02444606,  1.58091702,  1.36396804])"
            ]
          },
          "metadata": {},
          "execution_count": 107
        }
      ]
    },
    {
      "cell_type": "code",
      "source": [
        "type(ypred), type(area)"
      ],
      "metadata": {
        "id": "YyBZHR_qMjco",
        "colab": {
          "base_uri": "https://localhost:8080/"
        },
        "outputId": "d7dd3159-dbb3-438c-fa65-7166193c75f9"
      },
      "execution_count": null,
      "outputs": [
        {
          "output_type": "execute_result",
          "data": {
            "text/plain": [
              "(numpy.ndarray, list)"
            ]
          },
          "metadata": {},
          "execution_count": 108
        }
      ]
    },
    {
      "cell_type": "code",
      "source": [
        "ypred.shape, len(area)"
      ],
      "metadata": {
        "id": "qWYw0WqRSe8z",
        "colab": {
          "base_uri": "https://localhost:8080/"
        },
        "outputId": "33306bba-0c66-467d-c65c-92a79b958e4e"
      },
      "execution_count": null,
      "outputs": [
        {
          "output_type": "execute_result",
          "data": {
            "text/plain": [
              "((135,), 135)"
            ]
          },
          "metadata": {},
          "execution_count": 109
        }
      ]
    },
    {
      "cell_type": "code",
      "source": [
        "area"
      ],
      "metadata": {
        "colab": {
          "base_uri": "https://localhost:8080/"
        },
        "id": "7wYOyBS_4OMn",
        "outputId": "ee8a63b7-2fa9-4789-cd38-a2d69ae53ce9"
      },
      "execution_count": null,
      "outputs": [
        {
          "output_type": "execute_result",
          "data": {
            "text/plain": [
              "[(607.0, 0.0),\n",
              " (288.0, 14.0),\n",
              " (11.0, 15.0),\n",
              " (125.0, 19.0),\n",
              " (8.0, 21.0),\n",
              " (46.0, 22.0),\n",
              " (218.0, 26.0),\n",
              " (4.0, 30.0),\n",
              " (177115.0, 32.0),\n",
              " (291.0, 35.0),\n",
              " (1448.0, 36.0),\n",
              " (136.0, 37.0),\n",
              " (37.0, 39.0),\n",
              " (1261.0, 43.0),\n",
              " (3.0, 3.0),\n",
              " (7467.0, 11.0),\n",
              " (66.0, 14.0),\n",
              " (50711.0, 17.0),\n",
              " (4365.0, 18.0),\n",
              " (797.0, 20.0),\n",
              " (185.0, 22.0),\n",
              " (838.0, 25.0),\n",
              " (473.0, 28.0),\n",
              " (1154.0, 31.0),\n",
              " (15.0, 33.0),\n",
              " (1088.0, 43.0),\n",
              " (3664.0, 44.0),\n",
              " (16.0, 2.0),\n",
              " (284.0, 6.0),\n",
              " (25.0, 8.0),\n",
              " (1.0, 9.0),\n",
              " (10.0, 24.0),\n",
              " (1.0, 34.0),\n",
              " (42.0, 38.0),\n",
              " (7.0, 40.0),\n",
              " (571.0, 0.0),\n",
              " (274.0, 14.0),\n",
              " (12.0, 15.0),\n",
              " (121.0, 19.0),\n",
              " (14.0, 21.0),\n",
              " (32.0, 22.0),\n",
              " (5.0, 23.0),\n",
              " (92.0, 26.0),\n",
              " (7.0, 30.0),\n",
              " (177182.0, 32.0),\n",
              " (271.0, 35.0),\n",
              " (1333.0, 36.0),\n",
              " (121.0, 37.0),\n",
              " (17.0, 39.0),\n",
              " (1296.0, 43.0),\n",
              " (7910.0, 11.0),\n",
              " (74.0, 14.0),\n",
              " (50638.0, 17.0),\n",
              " (4276.0, 18.0),\n",
              " (776.0, 20.0),\n",
              " (168.0, 22.0),\n",
              " (39.0, 25.0),\n",
              " (473.0, 28.0),\n",
              " (1118.0, 31.0),\n",
              " (111.0, 33.0),\n",
              " (1125.0, 43.0),\n",
              " (3572.0, 44.0),\n",
              " (9.0, 2.0),\n",
              " (233.0, 6.0),\n",
              " (18.0, 8.0),\n",
              " (5.0, 24.0),\n",
              " (233.0, 38.0),\n",
              " (10.0, 40.0),\n",
              " (1.0, 42.0),\n",
              " (547.0, 0.0),\n",
              " (254.0, 14.0),\n",
              " (258.0, 19.0),\n",
              " (16.0, 21.0),\n",
              " (43.0, 22.0),\n",
              " (141.0, 26.0),\n",
              " (7.0, 30.0),\n",
              " (181677.0, 32.0),\n",
              " (244.0, 35.0),\n",
              " (1251.0, 36.0),\n",
              " (141.0, 37.0),\n",
              " (65.0, 39.0),\n",
              " (1288.0, 43.0),\n",
              " (7881.0, 11.0),\n",
              " (69.0, 14.0),\n",
              " (47612.0, 17.0),\n",
              " (3800.0, 18.0),\n",
              " (752.0, 20.0),\n",
              " (141.0, 22.0),\n",
              " (1.0, 25.0),\n",
              " (429.0, 28.0),\n",
              " (903.0, 31.0),\n",
              " (1.0, 33.0),\n",
              " (963.0, 43.0),\n",
              " (3329.0, 44.0),\n",
              " (15.0, 2.0),\n",
              " (249.0, 6.0),\n",
              " (33.0, 8.0),\n",
              " (10.0, 15.0),\n",
              " (7.0, 24.0),\n",
              " (266.0, 38.0),\n",
              " (6.0, 40.0),\n",
              " (1.0, 42.0),\n",
              " (519.0, 0.0),\n",
              " (266.0, 14.0),\n",
              " (259.0, 19.0),\n",
              " (13.0, 21.0),\n",
              " (34.0, 22.0),\n",
              " (231.0, 26.0),\n",
              " (9.0, 30.0),\n",
              " (183795.0, 32.0),\n",
              " (229.0, 35.0),\n",
              " (1225.0, 36.0),\n",
              " (127.0, 37.0),\n",
              " (61.0, 39.0),\n",
              " (1324.0, 43.0),\n",
              " (8000.0, 11.0),\n",
              " (56.0, 14.0),\n",
              " (46725.0, 17.0),\n",
              " (3760.0, 18.0),\n",
              " (705.0, 20.0),\n",
              " (149.0, 22.0),\n",
              " (1.0, 25.0),\n",
              " (395.0, 28.0),\n",
              " (1019.0, 31.0),\n",
              " (14.0, 33.0),\n",
              " (948.0, 43.0),\n",
              " (3532.0, 44.0),\n",
              " (15.0, 2.0),\n",
              " (306.0, 6.0),\n",
              " (29.0, 8.0),\n",
              " (11.0, 15.0),\n",
              " (5.0, 24.0),\n",
              " (354.0, 38.0),\n",
              " (1.0, 40.0),\n",
              " (2.0, 42.0)]"
            ]
          },
          "metadata": {},
          "execution_count": 110
        }
      ]
    },
    {
      "cell_type": "code",
      "source": [
        "yld = []\n",
        "cnt=0\n",
        "for i, j in area:\n",
        "    yld.append((ypred[cnt] / i , j))\n",
        "    cnt+=1"
      ],
      "metadata": {
        "id": "qtrbZPpbSg47"
      },
      "execution_count": null,
      "outputs": []
    },
    {
      "cell_type": "code",
      "source": [
        "yld"
      ],
      "metadata": {
        "colab": {
          "base_uri": "https://localhost:8080/"
        },
        "id": "DKiIb-RJsWsC",
        "outputId": "5ad930f3-7387-464f-dbed-97b7b0567c15"
      },
      "execution_count": null,
      "outputs": [
        {
          "output_type": "execute_result",
          "data": {
            "text/plain": [
              "[(0.008945685633547619, 0.0),\n",
              " (0.016948512658074413, 14.0),\n",
              " (0.20861666932127385, 15.0),\n",
              " (0.03933564195095826, 19.0),\n",
              " (0.3282380561970515, 21.0),\n",
              " (0.05515922060826796, 22.0),\n",
              " (0.007820548344309845, 26.0),\n",
              " (0.2742901924021856, 30.0),\n",
              " (7.10786200461451e-05, 32.0),\n",
              " (0.01576949167483513, 35.0),\n",
              " (0.004076183174739468, 36.0),\n",
              " (0.032824077663326845, 37.0),\n",
              " (0.07384778179278247, 39.0),\n",
              " (0.004657070781904811, 43.0),\n",
              " (0.3746217159741591, 3.0),\n",
              " (0.0011975431401622541, 11.0),\n",
              " (0.04537260044603306, 14.0),\n",
              " (0.00019899660904532744, 17.0),\n",
              " (0.0016865926556226055, 18.0),\n",
              " (0.005236576617521595, 20.0),\n",
              " (0.018313491140104016, 22.0),\n",
              " (0.0034920175317297818, 25.0),\n",
              " (0.010667260263911304, 28.0),\n",
              " (0.0052872321325777355, 31.0),\n",
              " (0.12072296620969719, 33.0),\n",
              " (0.005176317236978579, 43.0),\n",
              " (0.0022582159499219064, 44.0),\n",
              " (0.38595308480210605, 2.0),\n",
              " (0.015872583699853157, 6.0),\n",
              " (0.10735156434101141, 8.0),\n",
              " (0.7410001247518682, 9.0),\n",
              " (0.35511160892518695, 24.0),\n",
              " (0.938919702447304, 34.0),\n",
              " (0.12079016687104618, 38.0),\n",
              " (0.5525503454782621, 40.0),\n",
              " (0.00990879246736499, 0.0),\n",
              " (0.018433743610548607, 14.0),\n",
              " (0.20427041216824196, 15.0),\n",
              " (0.04052480267471371, 19.0),\n",
              " (0.22484838780178545, 21.0),\n",
              " (0.06757682279901421, 22.0),\n",
              " (0.19995138837713783, 23.0),\n",
              " (0.03722042226472689, 26.0),\n",
              " (0.1950177619311939, 30.0),\n",
              " (7.227864911398967e-05, 32.0),\n",
              " (0.01613687595034972, 35.0),\n",
              " (0.004388505188368679, 36.0),\n",
              " (0.03532927057484632, 37.0),\n",
              " (0.13309048550059996, 39.0),\n",
              " (0.0046119503651701555, 43.0),\n",
              " (0.0011393240762432896, 11.0),\n",
              " (0.04180491280477583, 14.0),\n",
              " (0.00019735878342963932, 17.0),\n",
              " (0.001724783468728868, 18.0),\n",
              " (0.006461908391703556, 20.0),\n",
              " (0.021338767903716, 22.0),\n",
              " (0.06659888640838031, 25.0),\n",
              " (0.010572354004444454, 28.0),\n",
              " (0.005371544844336857, 31.0),\n",
              " (0.029356161551108675, 33.0),\n",
              " (0.004978745456012075, 43.0),\n",
              " (0.0022961045482955494, 44.0),\n",
              " (0.5619127315612619, 2.0),\n",
              " (0.01895420193031149, 6.0),\n",
              " (0.16754880181665688, 8.0),\n",
              " (0.5952242628671014, 24.0),\n",
              " (0.028191242291351275, 38.0),\n",
              " (0.39433924274715665, 40.0),\n",
              " (0.8042039766915208, 42.0),\n",
              " (0.010256415965605826, 0.0),\n",
              " (0.018700566190294792, 14.0),\n",
              " (0.022774433295890417, 19.0),\n",
              " (0.21419113460240868, 21.0),\n",
              " (0.05676830519686593, 22.0),\n",
              " (0.00673022970494327, 26.0),\n",
              " (0.18892633564319344, 30.0),\n",
              " (7.066223458992046e-05, 32.0),\n",
              " (0.017274278697662515, 35.0),\n",
              " (0.004472547997448257, 36.0),\n",
              " (0.03246594619357875, 37.0),\n",
              " (0.050872718748129944, 39.0),\n",
              " (0.004555719420937248, 43.0),\n",
              " (0.001125474837056486, 11.0),\n",
              " (0.04348691711999115, 14.0),\n",
              " (0.0002079632715845655, 17.0),\n",
              " (0.0018720752769489971, 18.0),\n",
              " (0.007040583421210075, 20.0),\n",
              " (0.023901739494503107, 22.0),\n",
              " (0.22567745869528902, 25.0),\n",
              " (0.011036090147946315, 28.0),\n",
              " (0.006345890324400707, 31.0),\n",
              " (0.21027300828581758, 33.0),\n",
              " (0.005950215647060553, 43.0),\n",
              " (0.0024990986824368726, 44.0),\n",
              " (0.3979034233756772, 2.0),\n",
              " (0.018051262699851512, 6.0),\n",
              " (0.08462784008022417, 8.0),\n",
              " (0.20211845813586454, 15.0),\n",
              " (0.5119304516131022, 24.0),\n",
              " (0.025089954781521272, 38.0),\n",
              " (0.5969487143767499, 40.0),\n",
              " (0.8428184976670617, 42.0),\n",
              " (0.010885995261927107, 0.0),\n",
              " (0.01856207108366347, 14.0),\n",
              " (0.022109482124393565, 19.0),\n",
              " (0.2370731121324396, 21.0),\n",
              " (0.06924592711416913, 22.0),\n",
              " (0.012306440377274403, 26.0),\n",
              " (0.2582491624962485, 30.0),\n",
              " (7.017471212622306e-05, 32.0),\n",
              " (0.019480183851259523, 35.0),\n",
              " (0.004634768639318732, 36.0),\n",
              " (0.034346207441612896, 37.0),\n",
              " (0.055457974081595404, 39.0),\n",
              " (0.00441688203077423, 43.0),\n",
              " (0.0011477332014396915, 11.0),\n",
              " (0.051609165784029874, 14.0),\n",
              " (0.00022094445072718454, 17.0),\n",
              " (0.0019037565812816987, 18.0),\n",
              " (0.006974288136528439, 20.0),\n",
              " (0.023748181524360118, 22.0),\n",
              " (0.16249961457263734, 25.0),\n",
              " (0.012164633525499608, 28.0),\n",
              " (0.006011493232857849, 31.0),\n",
              " (0.1382248488789353, 33.0),\n",
              " (0.005956333756474403, 43.0),\n",
              " (0.0023835677553580644, 44.0),\n",
              " (0.4044742341557937, 2.0),\n",
              " (0.01477741625321319, 6.0),\n",
              " (0.0866853852422854, 8.0),\n",
              " (0.20582310286832578, 15.0),\n",
              " (0.6220645893852613, 24.0),\n",
              " (0.019843067968255513, 38.0),\n",
              " (1.5809170171586484, 40.0),\n",
              " (0.6819840190095734, 42.0)]"
            ]
          },
          "metadata": {},
          "execution_count": 112
        }
      ]
    },
    {
      "cell_type": "code",
      "source": [
        "for i, j in yld:\n",
        "    print(i, j)"
      ],
      "metadata": {
        "id": "8AgsNSIlTLy9",
        "colab": {
          "base_uri": "https://localhost:8080/"
        },
        "outputId": "630430c5-5c4c-4e76-908a-46870057c0f4"
      },
      "execution_count": null,
      "outputs": [
        {
          "output_type": "stream",
          "name": "stdout",
          "text": [
            "0.008945685633547619 0.0\n",
            "0.016948512658074413 14.0\n",
            "0.20861666932127385 15.0\n",
            "0.03933564195095826 19.0\n",
            "0.3282380561970515 21.0\n",
            "0.05515922060826796 22.0\n",
            "0.007820548344309845 26.0\n",
            "0.2742901924021856 30.0\n",
            "7.10786200461451e-05 32.0\n",
            "0.01576949167483513 35.0\n",
            "0.004076183174739468 36.0\n",
            "0.032824077663326845 37.0\n",
            "0.07384778179278247 39.0\n",
            "0.004657070781904811 43.0\n",
            "0.3746217159741591 3.0\n",
            "0.0011975431401622541 11.0\n",
            "0.04537260044603306 14.0\n",
            "0.00019899660904532744 17.0\n",
            "0.0016865926556226055 18.0\n",
            "0.005236576617521595 20.0\n",
            "0.018313491140104016 22.0\n",
            "0.0034920175317297818 25.0\n",
            "0.010667260263911304 28.0\n",
            "0.0052872321325777355 31.0\n",
            "0.12072296620969719 33.0\n",
            "0.005176317236978579 43.0\n",
            "0.0022582159499219064 44.0\n",
            "0.38595308480210605 2.0\n",
            "0.015872583699853157 6.0\n",
            "0.10735156434101141 8.0\n",
            "0.7410001247518682 9.0\n",
            "0.35511160892518695 24.0\n",
            "0.938919702447304 34.0\n",
            "0.12079016687104618 38.0\n",
            "0.5525503454782621 40.0\n",
            "0.00990879246736499 0.0\n",
            "0.018433743610548607 14.0\n",
            "0.20427041216824196 15.0\n",
            "0.04052480267471371 19.0\n",
            "0.22484838780178545 21.0\n",
            "0.06757682279901421 22.0\n",
            "0.19995138837713783 23.0\n",
            "0.03722042226472689 26.0\n",
            "0.1950177619311939 30.0\n",
            "7.227864911398967e-05 32.0\n",
            "0.01613687595034972 35.0\n",
            "0.004388505188368679 36.0\n",
            "0.03532927057484632 37.0\n",
            "0.13309048550059996 39.0\n",
            "0.0046119503651701555 43.0\n",
            "0.0011393240762432896 11.0\n",
            "0.04180491280477583 14.0\n",
            "0.00019735878342963932 17.0\n",
            "0.001724783468728868 18.0\n",
            "0.006461908391703556 20.0\n",
            "0.021338767903716 22.0\n",
            "0.06659888640838031 25.0\n",
            "0.010572354004444454 28.0\n",
            "0.005371544844336857 31.0\n",
            "0.029356161551108675 33.0\n",
            "0.004978745456012075 43.0\n",
            "0.0022961045482955494 44.0\n",
            "0.5619127315612619 2.0\n",
            "0.01895420193031149 6.0\n",
            "0.16754880181665688 8.0\n",
            "0.5952242628671014 24.0\n",
            "0.028191242291351275 38.0\n",
            "0.39433924274715665 40.0\n",
            "0.8042039766915208 42.0\n",
            "0.010256415965605826 0.0\n",
            "0.018700566190294792 14.0\n",
            "0.022774433295890417 19.0\n",
            "0.21419113460240868 21.0\n",
            "0.05676830519686593 22.0\n",
            "0.00673022970494327 26.0\n",
            "0.18892633564319344 30.0\n",
            "7.066223458992046e-05 32.0\n",
            "0.017274278697662515 35.0\n",
            "0.004472547997448257 36.0\n",
            "0.03246594619357875 37.0\n",
            "0.050872718748129944 39.0\n",
            "0.004555719420937248 43.0\n",
            "0.001125474837056486 11.0\n",
            "0.04348691711999115 14.0\n",
            "0.0002079632715845655 17.0\n",
            "0.0018720752769489971 18.0\n",
            "0.007040583421210075 20.0\n",
            "0.023901739494503107 22.0\n",
            "0.22567745869528902 25.0\n",
            "0.011036090147946315 28.0\n",
            "0.006345890324400707 31.0\n",
            "0.21027300828581758 33.0\n",
            "0.005950215647060553 43.0\n",
            "0.0024990986824368726 44.0\n",
            "0.3979034233756772 2.0\n",
            "0.018051262699851512 6.0\n",
            "0.08462784008022417 8.0\n",
            "0.20211845813586454 15.0\n",
            "0.5119304516131022 24.0\n",
            "0.025089954781521272 38.0\n",
            "0.5969487143767499 40.0\n",
            "0.8428184976670617 42.0\n",
            "0.010885995261927107 0.0\n",
            "0.01856207108366347 14.0\n",
            "0.022109482124393565 19.0\n",
            "0.2370731121324396 21.0\n",
            "0.06924592711416913 22.0\n",
            "0.012306440377274403 26.0\n",
            "0.2582491624962485 30.0\n",
            "7.017471212622306e-05 32.0\n",
            "0.019480183851259523 35.0\n",
            "0.004634768639318732 36.0\n",
            "0.034346207441612896 37.0\n",
            "0.055457974081595404 39.0\n",
            "0.00441688203077423 43.0\n",
            "0.0011477332014396915 11.0\n",
            "0.051609165784029874 14.0\n",
            "0.00022094445072718454 17.0\n",
            "0.0019037565812816987 18.0\n",
            "0.006974288136528439 20.0\n",
            "0.023748181524360118 22.0\n",
            "0.16249961457263734 25.0\n",
            "0.012164633525499608 28.0\n",
            "0.006011493232857849 31.0\n",
            "0.1382248488789353 33.0\n",
            "0.005956333756474403 43.0\n",
            "0.0023835677553580644 44.0\n",
            "0.4044742341557937 2.0\n",
            "0.01477741625321319 6.0\n",
            "0.0866853852422854 8.0\n",
            "0.20582310286832578 15.0\n",
            "0.6220645893852613 24.0\n",
            "0.019843067968255513 38.0\n",
            "1.5809170171586484 40.0\n",
            "0.6819840190095734 42.0\n"
          ]
        }
      ]
    },
    {
      "cell_type": "code",
      "source": [
        "kharif = []\n",
        "cnt=0\n",
        "for i, j in yld:\n",
        "    if cnt == 3:\n",
        "        break\n",
        "    kharif.append((i, j))\n",
        "    cnt+=1\n",
        "cnt=1\n",
        "rabi = []\n",
        "for i, j in yld:\n",
        "    if cnt<=3:\n",
        "        cnt+=1\n",
        "        continue\n",
        "    rabi.append((i, j))"
      ],
      "metadata": {
        "id": "lPx0ntJDTNTw"
      },
      "execution_count": null,
      "outputs": []
    },
    {
      "cell_type": "code",
      "source": [
        "len(kharif), len(rabi)"
      ],
      "metadata": {
        "id": "odMaXyl1TO8O",
        "colab": {
          "base_uri": "https://localhost:8080/"
        },
        "outputId": "1b4be318-7a97-4e24-db3c-03a3db09edc0"
      },
      "execution_count": null,
      "outputs": [
        {
          "output_type": "execute_result",
          "data": {
            "text/plain": [
              "(3, 132)"
            ]
          },
          "metadata": {},
          "execution_count": 115
        }
      ]
    },
    {
      "cell_type": "code",
      "source": [
        "kharif.sort(reverse = True)\n",
        "rabi.sort(reverse = True)\n",
        "len(kharif), len(rabi)"
      ],
      "metadata": {
        "id": "01KV6WgFTQXT",
        "colab": {
          "base_uri": "https://localhost:8080/"
        },
        "outputId": "e8cf3e2d-0b78-44de-fbbf-3a4f5b275933"
      },
      "execution_count": null,
      "outputs": [
        {
          "output_type": "execute_result",
          "data": {
            "text/plain": [
              "(3, 132)"
            ]
          },
          "metadata": {},
          "execution_count": 116
        }
      ]
    },
    {
      "cell_type": "code",
      "source": [
        "kharif"
      ],
      "metadata": {
        "colab": {
          "base_uri": "https://localhost:8080/"
        },
        "id": "0YpqcQfUrrBJ",
        "outputId": "39b14bb6-8c19-420e-b210-136b9939c59b"
      },
      "execution_count": null,
      "outputs": [
        {
          "output_type": "execute_result",
          "data": {
            "text/plain": [
              "[(0.20861666932127385, 15.0),\n",
              " (0.016948512658074413, 14.0),\n",
              " (0.008945685633547619, 0.0)]"
            ]
          },
          "metadata": {},
          "execution_count": 117
        }
      ]
    },
    {
      "cell_type": "code",
      "source": [
        "j=cr.inverse_transform([int(j)])\n",
        "j"
      ],
      "metadata": {
        "colab": {
          "base_uri": "https://localhost:8080/"
        },
        "id": "COBiIOvcryBU",
        "outputId": "d4993227-34d5-47e5-c6c8-19426867709e"
      },
      "execution_count": null,
      "outputs": [
        {
          "output_type": "execute_result",
          "data": {
            "text/plain": [
              "array(['Turmeric'], dtype=object)"
            ]
          },
          "metadata": {},
          "execution_count": 118
        }
      ]
    },
    {
      "cell_type": "code",
      "source": [
        "anskharif = []\n",
        "for i, j in kharif:\n",
        "    print(i, j)\n",
        "    j_ = cr.inverse_transform([int(j)])\n",
        "    anskharif.append((i, j_))\n",
        "ansrabi = []\n",
        "for i, j in rabi:\n",
        "    j_ = cr.inverse_transform([int(j)])\n",
        "    ansrabi.append((i, j_))"
      ],
      "metadata": {
        "id": "oT_BZnVGTRus",
        "colab": {
          "base_uri": "https://localhost:8080/"
        },
        "outputId": "bca0bcca-97df-4198-b745-8fcc20543155"
      },
      "execution_count": null,
      "outputs": [
        {
          "output_type": "stream",
          "name": "stdout",
          "text": [
            "0.20861666932127385 15.0\n",
            "0.016948512658074413 14.0\n",
            "0.008945685633547619 0.0\n"
          ]
        }
      ]
    },
    {
      "cell_type": "code",
      "source": [
        "for i, j in anskharif:\n",
        "    print(\"Crop: \",j,\" , \",\"Yield:\", np.exp(i)-1 ,\"weight(kg or tonne)/unit of area attribute\")"
      ],
      "metadata": {
        "id": "CXhdK3r1TTc3",
        "colab": {
          "base_uri": "https://localhost:8080/"
        },
        "outputId": "a136e081-c854-4230-89f6-5ce6d87da538"
      },
      "execution_count": null,
      "outputs": [
        {
          "output_type": "stream",
          "name": "stdout",
          "text": [
            "Crop:  ['Jowar']  ,  Yield: 0.23197265509012532 weight(kg or tonne)/unit of area attribute\n",
            "Crop:  ['Horse-gram']  ,  Yield: 0.01709295356441798 weight(kg or tonne)/unit of area attribute\n",
            "Crop:  ['Arhar/Tur']  ,  Yield: 0.008985817860104772 weight(kg or tonne)/unit of area attribute\n"
          ]
        }
      ]
    },
    {
      "cell_type": "code",
      "source": [
        "for i, j in ansrabi:\n",
        "    print(\"Crop: \",j,\" , \",\"Yield:\", np.exp(i)-1)"
      ],
      "metadata": {
        "id": "C9pwxJmPTsQy",
        "colab": {
          "base_uri": "https://localhost:8080/"
        },
        "outputId": "78002e42-a25d-4400-e238-4bdfc3148585"
      },
      "execution_count": null,
      "outputs": [
        {
          "output_type": "stream",
          "name": "stdout",
          "text": [
            "Crop:  ['Sweet potato']  ,  Yield: 1.5809170171586484\n",
            "Crop:  ['Sannhamp']  ,  Yield: 0.938919702447304\n",
            "Crop:  ['Turmeric']  ,  Yield: 0.8428184976670617\n",
            "Crop:  ['Turmeric']  ,  Yield: 0.8042039766915208\n",
            "Crop:  ['Dry ginger']  ,  Yield: 0.7410001247518682\n",
            "Crop:  ['Turmeric']  ,  Yield: 0.6819840190095734\n",
            "Crop:  ['Onion']  ,  Yield: 0.6220645893852613\n",
            "Crop:  ['Sweet potato']  ,  Yield: 0.5969487143767499\n",
            "Crop:  ['Onion']  ,  Yield: 0.5952242628671014\n",
            "Crop:  ['Banana']  ,  Yield: 0.5619127315612619\n",
            "Crop:  ['Sweet potato']  ,  Yield: 0.5525503454782621\n",
            "Crop:  ['Onion']  ,  Yield: 0.5119304516131022\n",
            "Crop:  ['Banana']  ,  Yield: 0.4044742341557937\n",
            "Crop:  ['Banana']  ,  Yield: 0.3979034233756772\n",
            "Crop:  ['Sweet potato']  ,  Yield: 0.39433924274715665\n",
            "Crop:  ['Banana']  ,  Yield: 0.38595308480210605\n",
            "Crop:  ['Barley']  ,  Yield: 0.3746217159741591\n",
            "Crop:  ['Onion']  ,  Yield: 0.35511160892518695\n",
            "Crop:  ['Mesta']  ,  Yield: 0.3282380561970515\n",
            "Crop:  ['Ragi']  ,  Yield: 0.2742901924021856\n",
            "Crop:  ['Ragi']  ,  Yield: 0.2582491624962485\n",
            "Crop:  ['Mesta']  ,  Yield: 0.2370731121324396\n",
            "Crop:  ['Other  Rabi pulses']  ,  Yield: 0.22567745869528902\n",
            "Crop:  ['Mesta']  ,  Yield: 0.22484838780178545\n",
            "Crop:  ['Mesta']  ,  Yield: 0.21419113460240868\n",
            "Crop:  ['Safflower']  ,  Yield: 0.21027300828581758\n",
            "Crop:  ['Jowar']  ,  Yield: 0.20582310286832578\n",
            "Crop:  ['Jowar']  ,  Yield: 0.20427041216824196\n",
            "Crop:  ['Jowar']  ,  Yield: 0.20211845813586454\n",
            "Crop:  ['Niger seed']  ,  Yield: 0.19995138837713783\n",
            "Crop:  ['Ragi']  ,  Yield: 0.1950177619311939\n",
            "Crop:  ['Ragi']  ,  Yield: 0.18892633564319344\n",
            "Crop:  ['Dry chillies']  ,  Yield: 0.16754880181665688\n",
            "Crop:  ['Other  Rabi pulses']  ,  Yield: 0.16249961457263734\n",
            "Crop:  ['Safflower']  ,  Yield: 0.1382248488789353\n",
            "Crop:  ['Sunflower']  ,  Yield: 0.13309048550059996\n",
            "Crop:  ['Sugarcane']  ,  Yield: 0.12079016687104618\n",
            "Crop:  ['Safflower']  ,  Yield: 0.12072296620969719\n",
            "Crop:  ['Dry chillies']  ,  Yield: 0.10735156434101141\n",
            "Crop:  ['Dry chillies']  ,  Yield: 0.0866853852422854\n",
            "Crop:  ['Dry chillies']  ,  Yield: 0.08462784008022417\n",
            "Crop:  ['Sunflower']  ,  Yield: 0.07384778179278247\n",
            "Crop:  ['Moong(Green Gram)']  ,  Yield: 0.06924592711416913\n",
            "Crop:  ['Moong(Green Gram)']  ,  Yield: 0.06757682279901421\n",
            "Crop:  ['Other  Rabi pulses']  ,  Yield: 0.06659888640838031\n",
            "Crop:  ['Moong(Green Gram)']  ,  Yield: 0.05676830519686593\n",
            "Crop:  ['Sunflower']  ,  Yield: 0.055457974081595404\n",
            "Crop:  ['Moong(Green Gram)']  ,  Yield: 0.05515922060826796\n",
            "Crop:  ['Horse-gram']  ,  Yield: 0.051609165784029874\n",
            "Crop:  ['Sunflower']  ,  Yield: 0.050872718748129944\n",
            "Crop:  ['Horse-gram']  ,  Yield: 0.04537260044603306\n",
            "Crop:  ['Horse-gram']  ,  Yield: 0.04348691711999115\n",
            "Crop:  ['Horse-gram']  ,  Yield: 0.04180491280477583\n",
            "Crop:  ['Maize']  ,  Yield: 0.04052480267471371\n",
            "Crop:  ['Maize']  ,  Yield: 0.03933564195095826\n",
            "Crop:  ['Other Kharif pulses']  ,  Yield: 0.03722042226472689\n",
            "Crop:  ['Soyabean']  ,  Yield: 0.03532927057484632\n",
            "Crop:  ['Soyabean']  ,  Yield: 0.034346207441612896\n",
            "Crop:  ['Soyabean']  ,  Yield: 0.032824077663326845\n",
            "Crop:  ['Soyabean']  ,  Yield: 0.03246594619357875\n",
            "Crop:  ['Safflower']  ,  Yield: 0.029356161551108675\n",
            "Crop:  ['Sugarcane']  ,  Yield: 0.028191242291351275\n",
            "Crop:  ['Sugarcane']  ,  Yield: 0.025089954781521272\n",
            "Crop:  ['Moong(Green Gram)']  ,  Yield: 0.023901739494503107\n",
            "Crop:  ['Moong(Green Gram)']  ,  Yield: 0.023748181524360118\n",
            "Crop:  ['Maize']  ,  Yield: 0.022774433295890417\n",
            "Crop:  ['Maize']  ,  Yield: 0.022109482124393565\n",
            "Crop:  ['Moong(Green Gram)']  ,  Yield: 0.021338767903716\n",
            "Crop:  ['Sugarcane']  ,  Yield: 0.019843067968255513\n",
            "Crop:  ['Sesamum']  ,  Yield: 0.019480183851259523\n",
            "Crop:  ['Coriander']  ,  Yield: 0.01895420193031149\n",
            "Crop:  ['Horse-gram']  ,  Yield: 0.018700566190294792\n",
            "Crop:  ['Horse-gram']  ,  Yield: 0.01856207108366347\n",
            "Crop:  ['Horse-gram']  ,  Yield: 0.018433743610548607\n",
            "Crop:  ['Moong(Green Gram)']  ,  Yield: 0.018313491140104016\n",
            "Crop:  ['Coriander']  ,  Yield: 0.018051262699851512\n",
            "Crop:  ['Sesamum']  ,  Yield: 0.017274278697662515\n",
            "Crop:  ['Sesamum']  ,  Yield: 0.01613687595034972\n",
            "Crop:  ['Coriander']  ,  Yield: 0.015872583699853157\n",
            "Crop:  ['Sesamum']  ,  Yield: 0.01576949167483513\n",
            "Crop:  ['Coriander']  ,  Yield: 0.01477741625321319\n",
            "Crop:  ['Other Kharif pulses']  ,  Yield: 0.012306440377274403\n",
            "Crop:  ['Peas & beans (Pulses)']  ,  Yield: 0.012164633525499608\n",
            "Crop:  ['Peas & beans (Pulses)']  ,  Yield: 0.011036090147946315\n",
            "Crop:  ['Arhar/Tur']  ,  Yield: 0.010885995261927107\n",
            "Crop:  ['Peas & beans (Pulses)']  ,  Yield: 0.010667260263911304\n",
            "Crop:  ['Peas & beans (Pulses)']  ,  Yield: 0.010572354004444454\n",
            "Crop:  ['Arhar/Tur']  ,  Yield: 0.010256415965605826\n",
            "Crop:  ['Arhar/Tur']  ,  Yield: 0.00990879246736499\n",
            "Crop:  ['Other Kharif pulses']  ,  Yield: 0.007820548344309845\n",
            "Crop:  ['Masoor']  ,  Yield: 0.007040583421210075\n",
            "Crop:  ['Masoor']  ,  Yield: 0.006974288136528439\n",
            "Crop:  ['Other Kharif pulses']  ,  Yield: 0.00673022970494327\n",
            "Crop:  ['Masoor']  ,  Yield: 0.006461908391703556\n",
            "Crop:  ['Rapeseed &Mustard']  ,  Yield: 0.006345890324400707\n",
            "Crop:  ['Rapeseed &Mustard']  ,  Yield: 0.006011493232857849\n",
            "Crop:  ['Urad']  ,  Yield: 0.005956333756474403\n",
            "Crop:  ['Urad']  ,  Yield: 0.005950215647060553\n",
            "Crop:  ['Rapeseed &Mustard']  ,  Yield: 0.005371544844336857\n",
            "Crop:  ['Rapeseed &Mustard']  ,  Yield: 0.0052872321325777355\n",
            "Crop:  ['Masoor']  ,  Yield: 0.005236576617521595\n",
            "Crop:  ['Urad']  ,  Yield: 0.005176317236978579\n",
            "Crop:  ['Urad']  ,  Yield: 0.004978745456012075\n",
            "Crop:  ['Urad']  ,  Yield: 0.004657070781904811\n",
            "Crop:  ['Small millets']  ,  Yield: 0.004634768639318732\n",
            "Crop:  ['Urad']  ,  Yield: 0.0046119503651701555\n",
            "Crop:  ['Urad']  ,  Yield: 0.004555719420937248\n",
            "Crop:  ['Small millets']  ,  Yield: 0.004472547997448257\n",
            "Crop:  ['Urad']  ,  Yield: 0.00441688203077423\n",
            "Crop:  ['Small millets']  ,  Yield: 0.004388505188368679\n",
            "Crop:  ['Small millets']  ,  Yield: 0.004076183174739468\n",
            "Crop:  ['Other  Rabi pulses']  ,  Yield: 0.0034920175317297818\n",
            "Crop:  ['Wheat']  ,  Yield: 0.0024990986824368726\n",
            "Crop:  ['Wheat']  ,  Yield: 0.0023835677553580644\n",
            "Crop:  ['Wheat']  ,  Yield: 0.0022961045482955494\n",
            "Crop:  ['Wheat']  ,  Yield: 0.0022582159499219064\n",
            "Crop:  ['Linseed']  ,  Yield: 0.0019037565812816987\n",
            "Crop:  ['Linseed']  ,  Yield: 0.0018720752769489971\n",
            "Crop:  ['Linseed']  ,  Yield: 0.001724783468728868\n",
            "Crop:  ['Linseed']  ,  Yield: 0.0016865926556226055\n",
            "Crop:  ['Gram']  ,  Yield: 0.0011975431401622541\n",
            "Crop:  ['Gram']  ,  Yield: 0.0011477332014396915\n",
            "Crop:  ['Gram']  ,  Yield: 0.0011393240762432896\n",
            "Crop:  ['Gram']  ,  Yield: 0.001125474837056486\n",
            "Crop:  ['Khesari']  ,  Yield: 0.00022094445072718454\n",
            "Crop:  ['Khesari']  ,  Yield: 0.0002079632715845655\n",
            "Crop:  ['Khesari']  ,  Yield: 0.00019899660904532744\n",
            "Crop:  ['Khesari']  ,  Yield: 0.00019735878342963932\n",
            "Crop:  ['Rice']  ,  Yield: 7.227864911398967e-05\n",
            "Crop:  ['Rice']  ,  Yield: 7.10786200461451e-05\n",
            "Crop:  ['Rice']  ,  Yield: 7.066223458992046e-05\n",
            "Crop:  ['Rice']  ,  Yield: 7.017471212622306e-05\n"
          ]
        }
      ]
    }
  ]
}